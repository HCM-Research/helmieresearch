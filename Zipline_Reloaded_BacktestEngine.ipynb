{
  "nbformat": 4,
  "nbformat_minor": 0,
  "metadata": {
    "colab": {
      "name": "Zipline_Reloaded_BacktestEngine.ipynb",
      "provenance": [],
      "include_colab_link": true
    },
    "kernelspec": {
      "display_name": "Python 3",
      "name": "python3"
    },
    "language_info": {
      "name": "python"
    }
  },
  "cells": [
    {
      "cell_type": "markdown",
      "metadata": {
        "id": "view-in-github",
        "colab_type": "text"
      },
      "source": [
        "<a href=\"https://colab.research.google.com/github/helmieresearch/helmieresearch/blob/main/Zipline_Reloaded_BacktestEngine.ipynb\" target=\"_parent\"><img src=\"https://colab.research.google.com/assets/colab-badge.svg\" alt=\"Open In Colab\"/></a>"
      ]
    },
    {
      "cell_type": "markdown",
      "source": [
        "# 🧰**INSTALL MODULES**"
      ],
      "metadata": {
        "id": "xRTs1_SK0Scj"
      }
    },
    {
      "cell_type": "code",
      "source": [
        "# Mount Google Drive \n",
        "from google.colab import drive\n",
        "drive.mount('/content/drive')"
      ],
      "metadata": {
        "id": "ABrWrt1q06gq",
        "collapsed": true
      },
      "execution_count": null,
      "outputs": []
    },
    {
      "cell_type": "code",
      "metadata": {
        "id": "1tlwk44QhErd"
      },
      "source": [
        "# Install ta-lib v0.4.0\n",
        "%%bash\n",
        "wget http://prdownloads.sourceforge.net/ta-lib/ta-lib-0.4.0-src.tar.gz\n",
        "tar -xzf ta-lib-0.4.0-src.tar.gz\n",
        "cd ta-lib/\n",
        "./configure\n",
        "make\n",
        "make install"
      ],
      "execution_count": null,
      "outputs": []
    },
    {
      "cell_type": "code",
      "metadata": {
        "id": "JSwN3Ywihz3r",
        "collapsed": true
      },
      "source": [
        "# Install zipline\n",
        "%pip install zipline-reloaded"
      ],
      "execution_count": null,
      "outputs": []
    },
    {
      "cell_type": "code",
      "source": [
        "!pip install iso3166==2.0.2"
      ],
      "metadata": {
        "id": "w2cgjqTU8TKt"
      },
      "execution_count": null,
      "outputs": []
    },
    {
      "cell_type": "code",
      "source": [
        "# Install Pyfolio\n",
        "!pip install pyfolio-reloaded"
      ],
      "metadata": {
        "id": "m-y07xfPTFVK",
        "collapsed": true
      },
      "execution_count": null,
      "outputs": []
    },
    {
      "cell_type": "code",
      "source": [
        "# Install matplot library\n",
        "!pip install matplotlib"
      ],
      "metadata": {
        "collapsed": true,
        "id": "zoV1_FSc_5MW"
      },
      "execution_count": null,
      "outputs": []
    },
    {
      "cell_type": "code",
      "source": [
        "# Install data bundle 'Quandl'\n",
        "!pip install quandl"
      ],
      "metadata": {
        "collapsed": true,
        "id": "8-pgTCGp2XzF"
      },
      "execution_count": null,
      "outputs": []
    },
    {
      "cell_type": "code",
      "source": [
        "import zipline\n",
        "zipline.__version__"
      ],
      "metadata": {
        "id": "C9erwAEdVunF"
      },
      "execution_count": null,
      "outputs": []
    },
    {
      "cell_type": "code",
      "source": [
        "!pip install nasdaq-data-link"
      ],
      "metadata": {
        "id": "jjqASrBOT4Rc"
      },
      "execution_count": null,
      "outputs": []
    },
    {
      "cell_type": "code",
      "source": [
        "!pip install Plotly express"
      ],
      "metadata": {
        "id": "xs_1PByfqULD",
        "outputId": "4fdd3e58-6aea-4f3e-8517-b222a5f461b5",
        "colab": {
          "base_uri": "https://localhost:8080/"
        }
      },
      "execution_count": 27,
      "outputs": [
        {
          "output_type": "stream",
          "name": "stdout",
          "text": [
            "Looking in indexes: https://pypi.org/simple, https://us-python.pkg.dev/colab-wheels/public/simple/\n",
            "Requirement already satisfied: Plotly in /usr/local/lib/python3.10/dist-packages (5.13.1)\n",
            "\u001b[31mERROR: Could not find a version that satisfies the requirement express (from versions: none)\u001b[0m\u001b[31m\n",
            "\u001b[0m\u001b[31mERROR: No matching distribution found for express\u001b[0m\u001b[31m\n",
            "\u001b[0m"
          ]
        }
      ]
    },
    {
      "cell_type": "markdown",
      "source": [
        "# 💽**SET WORKING DIRECTORY**"
      ],
      "metadata": {
        "id": "4Ixua2eyz0Hr"
      }
    },
    {
      "cell_type": "code",
      "source": [
        "import os \n",
        "\n",
        "# Set your working directory to a folder in your Google Drive. This way, if your notebook times out,\n",
        "# your files will be saved in your Google Drive!\n",
        "\n",
        "# the base Google Drive directory\n",
        "root_dir = \"/content/drive/\"\n"
      ],
      "metadata": {
        "id": "eWtZZXQol34j"
      },
      "execution_count": null,
      "outputs": []
    },
    {
      "cell_type": "code",
      "source": [
        "import os \n",
        "\n",
        "# Set your working directory to a folder in your Google Drive. This way, if your notebook times out,\n",
        "# your files will be saved in your Google Drive!\n",
        "\n",
        "\n",
        "# choose where you want your project files to be saved\n",
        "project_folder = \"MyDrive/Colab Notebooks/My Project Folder\"\n"
      ],
      "metadata": {
        "id": "c4jxNssSmApK"
      },
      "execution_count": null,
      "outputs": []
    },
    {
      "cell_type": "code",
      "source": [
        "def create_and_set_working_directory(project_folder):\n",
        "  # check if your project folder exists. if not, it will be created.\n",
        "  if os.path.isdir(root_dir + project_folder) == False:\n",
        "    os.mkdir(root_dir + project_folder)\n",
        "    print(root_dir + project_folder + ' did not exist but was created.')\n",
        "\n",
        "  # change the OS to use your project folder as the working directory\n",
        "  os.chdir(root_dir + project_folder)\n",
        "\n",
        "  # create a test file to make sure it shows up in the right place\n",
        "  !touch 'new_file_in_working_directory.txt'\n",
        "  print('\\nYour working directory was changed to ' + root_dir + project_folder + \\\n",
        "        \"\\n\\nAn empty text file was created there. You can also run !pwd to confirm the current working directory.\" )\n",
        "\n",
        "create_and_set_working_directory(project_folder)"
      ],
      "metadata": {
        "id": "Y0PGKB_SmAR5"
      },
      "execution_count": null,
      "outputs": []
    },
    {
      "cell_type": "code",
      "source": [
        "# Confirm current working directory\n",
        "!pwd"
      ],
      "metadata": {
        "id": "Q4_HSs4HneUa"
      },
      "execution_count": null,
      "outputs": []
    },
    {
      "cell_type": "code",
      "source": [
        "import os\n",
        "for f in os.listdir(\"//content/drive/MyDrive/Colab Notebooks/My Project Folder\"):\n",
        "\tprint(f)"
      ],
      "metadata": {
        "id": "8HB8gDZGqsfB"
      },
      "execution_count": null,
      "outputs": []
    },
    {
      "cell_type": "markdown",
      "source": [
        "# ⏳**INGEST DATA**"
      ],
      "metadata": {
        "id": "z5Y1KYNHeqeu"
      }
    },
    {
      "cell_type": "code",
      "source": [
        "# Ingest custom bundle\n",
        "!zipline ingest --bundle 'crypto'"
      ],
      "metadata": {
        "id": "CvMaJ1U1eVhB"
      },
      "execution_count": null,
      "outputs": []
    },
    {
      "cell_type": "code",
      "source": [
        "# Ingest custom bundle\n",
        "!zipline ingest --bundle 'equities_csvdir'"
      ],
      "metadata": {
        "id": "okd6vU6j5iPt"
      },
      "execution_count": null,
      "outputs": []
    },
    {
      "cell_type": "code",
      "source": [
        "# Ingest custom bundle\n",
        "!zipline ingest --bundle 'random_futures_data'"
      ],
      "metadata": {
        "id": "1tKhQWGK5Z8T"
      },
      "execution_count": null,
      "outputs": []
    },
    {
      "cell_type": "code",
      "source": [
        "# Ingest custom bundle\n",
        "!zipline ingest --bundle 'random_stock_data'"
      ],
      "metadata": {
        "id": "lvSZVAHNJDW4"
      },
      "execution_count": null,
      "outputs": []
    },
    {
      "cell_type": "code",
      "source": [
        "'''\n",
        "INGEST QUANDL STOCK BUNDLE\n",
        "'''\n",
        "# Ingest bundle API\n",
        "!QUANDL_API_KEY=KUnssHvVERHb5XYu9C1- zipline ingest -b 'quandl'"
      ],
      "metadata": {
        "id": "KiUF_IBQCSlm",
        "collapsed": true
      },
      "execution_count": null,
      "outputs": []
    },
    {
      "cell_type": "code",
      "source": [
        "# Confirm existing bundles\n",
        "!zipline bundles"
      ],
      "metadata": {
        "id": "Ol2e01cH_O3z"
      },
      "execution_count": null,
      "outputs": []
    },
    {
      "cell_type": "code",
      "source": [
        "# clean everything older than <date>\n",
        "!zipline clean -b random_stock_data  --after 2022-04-13"
      ],
      "metadata": {
        "id": "mzYjOy4meAx3"
      },
      "execution_count": null,
      "outputs": []
    },
    {
      "cell_type": "markdown",
      "source": [
        "# 📊**ANDREAS CLENOW MODELS**"
      ],
      "metadata": {
        "id": "r6pHOCkwUJOo"
      }
    },
    {
      "cell_type": "markdown",
      "source": [
        "## **Clenow Momentum Model**\n",
        "\n",
        "---\n"
      ],
      "metadata": {
        "id": "EHQUpvbK0RNj"
      }
    },
    {
      "cell_type": "code",
      "source": [
        "#@title\n",
        "%matplotlib inline\n",
        "\n",
        "import zipline\n",
        "from zipline import run_algorithm\n",
        "from zipline.api import order_target_percent, symbol, set_commission, set_slippage, schedule_function, date_rules, time_rules\n",
        "from pandas import Timestamp\n",
        "from datetime import datetime\n",
        "import pytz\n",
        "import matplotlib.pyplot as plt \n",
        "import pyfolio as pf\n",
        "import pandas as pd \n",
        "import numpy as np \n",
        "from scipy import stats\n",
        "from zipline.finance.commission import PerDollar\n",
        "from zipline.finance.slippage import VolumeShareSlippage, FixedSlippage\n",
        "\n",
        "#Model Settings\n",
        "\n",
        "intial_portfolio = 100000\n",
        "momentum_window = 125\n",
        "minimum_momentum = 40\n",
        "portfolio_size = 30\n",
        "vola_window = 20\n",
        "\n",
        "#Commission and Slippage Settings\n",
        "\n",
        "enable_commission = True \n",
        "commission_pct = 0.001 \n",
        "enable_slippage = True \n",
        "slippage_volume_limit = 0.025\n",
        "slippage_impact = 0.05\n",
        "\n",
        "def momentum_score(ts):\n",
        "\n",
        "  #Input: Price time series.Output: Annualized exponential regression slope, multiplied by the R2\n",
        "\n",
        "  # Make a list of consecutive numbers \n",
        "  x = np.arange(len(ts))\n",
        "  # Get logs\n",
        "  log_ts = np.log(ts)\n",
        "  # Calculate regression values\n",
        "  slope, intercept, r_value, p_value, std_err = stats.linregress(x, log_ts) \n",
        "  # Annualize percent\n",
        "  annualized_slope = (np.power(np.exp(slope), 252) - 1) * 100 \n",
        "  #Adjust for fitness\n",
        "  score = annualized_slope * (r_value ** 2) \n",
        "  return score\n",
        "\n",
        "def volatility(ts):\n",
        "  return ts.pct_change().rolling(vola_window).std().iloc[-1]\n",
        "\n",
        "def output_progress(context):\n",
        "\n",
        "  #Output some performance numbers during backtest run \n",
        "  #This code just prints out the past month's performance,\n",
        "  # so that we have something to look at while the backtest runs.\n",
        "\n",
        "  # Get today's date\n",
        "  today = zipline.api.get_datetime().date()\n",
        "\n",
        "  # Calculate percent difference since last month\n",
        "  perf_pct = (context.portfolio.portfolio_value / context.last_month) - 1\n",
        "\n",
        "  # Print performance, format as percent with two decimals. \n",
        "  print(\"{} - Last Month Result: {:.2%}\".format(today, perf_pct))\n",
        "\n",
        "  # Remember today's portfolio value for next month's calculation \n",
        "  context.last_month = context.portfolio.portfolio_value\n",
        "\n",
        "#Initialization and trading logic\n",
        "\n",
        "\n",
        "def initialize(context):\n",
        "\n",
        "  # Set commission and slippage.\n",
        "  if enable_commission:\n",
        "    comm_model = PerDollar(cost=commission_pct) \n",
        "  else:\n",
        "    comm_model = PerDollar(cost=0.0) \n",
        "  set_commission(comm_model)\n",
        "  if enable_slippage: slippage_model=VolumeShareSlippage(volume_limit=slippage_volume_limit,\n",
        "price_impact=slippage_impact) \n",
        "  else:\n",
        "    slippage_model=FixedSlippage(spread=0.0) \n",
        "  set_slippage(slippage_model)\n",
        "\n",
        "  # Used only for progress output. \n",
        "  context.last_month = intial_portfolio\n",
        "\n",
        "  # Store index membership\n",
        "  context.index_members = pd.read_csv('/content/drive/MyDrive/Colab Notebooks/My Project Folder/index members/sp500.csv', engine='python', error_bad_lines=False)\n",
        "\n",
        "\n",
        "  #Schedule rebalance monthly. \n",
        "  schedule_function(\n",
        "    func=rebalance, \n",
        "    date_rule=date_rules.month_start(), \n",
        "    time_rule=time_rules.market_open()\n",
        "  )\n",
        "\n",
        "def rebalance(context, data):\n",
        "  # Write some progress output during the backtest \n",
        "  output_progress(context)\n",
        "\n",
        "  # First, get today's date\n",
        "  today = zipline.api.get_datetime().date()\n",
        "\n",
        "  # Second, get the index makeup for all days prior to today.\n",
        "  all_prior = context.index_members.loc[context.index_members.index < today]\n",
        "\n",
        "  todays_universe = [ \n",
        "    symbol(ticker) for ticker in\n",
        "    context.index_members.loc[context.index_members.index < today].iloc[-1,0].split(',')\n",
        "  ]\n",
        "\n",
        "  # Get historical data\n",
        "  hist = data.history(todays_universe, \"close\", momentum_window, \"1d\")\n",
        "\n",
        "  # Make momentum ranking table\n",
        "  ranking_table = hist.apply(momentum_score).sort_values(ascending=False)\n",
        "\n",
        "  #Sell Logic\n",
        "  #First we check if any existing position should be sold.\n",
        "    #Sell if stock is no longer part of index.\n",
        "    #Sell if stock has too low momentum value.\n",
        "\n",
        "  kept_positions = list(context.portfolio.positions.keys()) \n",
        "  for security in context.portfolio.positions:\n",
        "    if (security not in todays_universe): \n",
        "      order_target_percent(security, 0.0) \n",
        "      kept_positions.remove(security)\n",
        "    elif ranking_table[security] < minimum_momentum: \n",
        "      order_target_percent(security, 0.0) \n",
        "      kept_positions.remove(security)\n",
        "\n",
        "  #Stock Selection Logic\n",
        "  #Check how many stocks we are keeping from last month.\n",
        "  #Fill from top of ranking list, until we reach the desired total number of portfolio holdings.\n",
        "\n",
        "  replacement_stocks = portfolio_size - len(kept_positions) \n",
        "  buy_list = ranking_table.loc[\n",
        "    ~ranking_table.index.isin(kept_positions)][:replacement_stocks]\n",
        "  new_portfolio = pd.concat(\n",
        "    (buy_list,\n",
        "    ranking_table.loc[ranking_table.index.isin(kept_positions)])\n",
        "  )\n",
        "  buy_list = ranking_table.loc[\n",
        "    ~ranking_table.index.isin(kept_positions)][:replacement_stocks]\n",
        "\n",
        "  #Calculate inverse volatility for stocks, and make target position weights.\n",
        "\n",
        "  vola_table = hist[new_portfolio.index].apply(volatility) \n",
        "  inv_vola_table = 1 / vola_table\n",
        "  sum_inv_vola = np.sum(inv_vola_table) \n",
        "  vola_target_weights = inv_vola_table / sum_inv_vola\n",
        "  for security, rank in new_portfolio.iteritems(): \n",
        "    weight = vola_target_weights[security]\n",
        "    if security in kept_positions:\n",
        "      order_target_percent(security, weight)\n",
        "    else:\n",
        "      if ranking_table[security] > minimum_momentum: \n",
        "        order_target_percent(security, weight)\n",
        "\n",
        "def analyze(context, perf):\n",
        "  perf['max'] = perf.portfolio_value.cummax() \n",
        "  perf['dd'] = (perf.portfolio_value / perf['max']) - 1 \n",
        "  maxdd = perf['dd'].min()\n",
        "\n",
        "  ann_ret = (np.power((perf.portfolio_value.iloc[-1] / perf.portfolio_value.iloc[0]),(252 / len(perf)))) - 1\n",
        "\n",
        "  print(\"Annualized Return: {:.2%} Max Drawdown: {:.2%}\".format(ann_ret, maxdd))\n",
        "\n",
        "  return\n",
        "'''\n",
        "start = datetime(1997, 1, 1, 8, 15, 12, 0, pytz.UTC)\n",
        "end = datetime(2018, 12, 31, 8, 15, 12, 0, pytz.UTC)\n",
        "'''\n",
        "\n",
        "start = pd.Timestamp('1997-1-1', tz='utc')\n",
        "end = pd.Timestamp('2018-12-31', tz='utc')\n",
        "\n",
        "perf = zipline.run_algorithm(start=start, end=end, \n",
        "                             initialize=initialize, \n",
        "                             analyze=analyze, \n",
        "                             capital_base=intial_portfolio, \n",
        "                             data_frequency = 'daily', \n",
        "                             bundle='quandl' )"
      ],
      "metadata": {
        "id": "6aRGAkzKLH88",
        "collapsed": true,
        "cellView": "code"
      },
      "execution_count": null,
      "outputs": []
    },
    {
      "cell_type": "markdown",
      "source": [
        "## **Clenow Trend Model**"
      ],
      "metadata": {
        "id": "x83jcz1QUFDe"
      }
    },
    {
      "cell_type": "code",
      "source": [
        "\n",
        "%matplotlib inline\n",
        "\n",
        "import zipline\n",
        "from zipline.api import future_symbol,  \\\n",
        "    set_commission, set_slippage, schedule_function, date_rules, \\\n",
        "    time_rules, continuous_future, order_target\n",
        "from pandas import Timestamp\n",
        "import pytz\n",
        "import datetime as datetime\n",
        "import matplotlib.pyplot as plt\n",
        "import pyfolio as pf\n",
        "import pandas as pd\n",
        "import numpy as np  \n",
        "from zipline.finance.commission import PerTrade, PerContract\n",
        "from zipline.finance.slippage import VolumeShareSlippage, \\\n",
        "    FixedSlippage, VolatilityVolumeShare\n",
        "\n",
        "# These lines are for the dynamic text reporting\n",
        "from IPython.display import display\n",
        "import ipywidgets as widgets\n",
        "out = widgets.HTML()\n",
        "display(out)\n",
        "\n",
        "\"\"\"\n",
        "Model Settings\n",
        "\"\"\"\n",
        "starting_portfolio = 50000000\n",
        "risk_factor = 0.0015\n",
        "stop_distance = 3\n",
        "breakout_window = 50\n",
        "vola_window = 40\n",
        "slow_ma = 80\n",
        "fast_ma = 40\n",
        "enable_commission = True\n",
        "enable_slippage = True  \n",
        "\n",
        "\n",
        "def report_result(context, data):\n",
        "    context.months += 1\n",
        "    today = zipline.api.get_datetime().date()\n",
        "    # Calculate annualized return so far\n",
        "    ann_ret = np.power(context.portfolio.portfolio_value / starting_portfolio, \n",
        "                   12 / context.months) - 1\n",
        "    \n",
        "    # Update the text\n",
        "    out.value = \"\"\"{} We have traded <b>{}</b> months \n",
        "    and the annualized return is <b>{:.2%}</b>\"\"\".format(today, context.months, ann_ret)\n",
        "\n",
        "def roll_futures(context, data):\n",
        "    open_orders = zipline.api.get_open_orders()\n",
        "    \n",
        "    for held_contract in context.portfolio.positions:\n",
        "        # don't roll positions that are set to change by core logic\n",
        "        if held_contract in open_orders: \n",
        "            continue\n",
        "        \n",
        "        # Save some time by only checking rolls for\n",
        "        # contracts stopping trading in the next days\n",
        "        days_to_auto_close = (\n",
        "            held_contract.auto_close_date.date() - data.current_session.date()\n",
        "        ).days\n",
        "        if days_to_auto_close > 5:\n",
        "            continue        \n",
        "        \n",
        "        # Make a continuation\n",
        "        continuation = continuous_future(\n",
        "                held_contract.root_symbol, \n",
        "                offset=0, \n",
        "                roll='volume', \n",
        "                adjustment='mul'\n",
        "                )\n",
        "        \n",
        "        # Get the current contract of the continuation\n",
        "        continuation_contract = data.current(continuation, 'contract')\n",
        "        \n",
        "        if continuation_contract != held_contract:\n",
        "            # Check how many contracts we hold\n",
        "            pos_size = context.portfolio.positions[held_contract].amount         \n",
        "            # Close current position\n",
        "            order_target(held_contract, 0)\n",
        "            # Open new position\n",
        "            order_target(continuation_contract, pos_size)     \n",
        "            \n",
        "def position_size(portfolio_value, std, point_value):\n",
        "    target_variation = portfolio_value * risk_factor\n",
        "    contract_variation = std * point_value\n",
        "    contracts = target_variation / contract_variation\n",
        "    return int(np.nan_to_num(contracts)) \n",
        "    \n",
        "def initialize(context):\n",
        "    \n",
        "    \"\"\"\n",
        "    Cost Settings\n",
        "    \"\"\"\n",
        "    if enable_commission:\n",
        "        comm_model = PerContract(cost=0.85, exchange_fee=1.5)\n",
        "    else:\n",
        "        comm_model = PerTrade(cost=0.0)\n",
        "        \n",
        "    set_commission(us_futures=comm_model)\n",
        "    \n",
        "    if enable_slippage:\n",
        "        slippage_model=VolatilityVolumeShare(volume_limit=0.2)\n",
        "    else:\n",
        "        slippage_model=FixedSlippage(spread=0.0)      \n",
        "        \n",
        "    set_slippage(us_futures=slippage_model)\n",
        "    \n",
        "    \"\"\"\n",
        "    Markets to trade\n",
        "    \"\"\" \n",
        "    currencies = [\n",
        "        'AD',\n",
        "        'BP',\n",
        "        'CD',\n",
        "        'CU',\n",
        "        'DX',\n",
        "        'JY',\n",
        "        'NE',\n",
        "        'SF',\n",
        "    ]\n",
        "    \n",
        "    agricultural = [\n",
        "        '_C',\n",
        "        'CT',\n",
        "        'FC',\n",
        "        'KC',\n",
        "        'LR',\n",
        "        'LS',\n",
        "        '_O',\n",
        "        '_S',\n",
        "        'SB',\n",
        "        'SM',\n",
        "        '_W',\n",
        "    ]\n",
        "    nonagricultural = [\n",
        "        'CL',\n",
        "        'GC',\n",
        "        'HG',\n",
        "        'HO',\n",
        "        'LG',\n",
        "        'NG',\n",
        "        'PA',\n",
        "        'PL',\n",
        "        'RB',\n",
        "        'SI',\n",
        "    ]\n",
        "    equities = [\n",
        "        'ES',\n",
        "        'NK',\n",
        "        'NQ',\n",
        "        'TW',\n",
        "        'VX',\n",
        "        'YM',\n",
        "    ]\n",
        "    rates = [\n",
        "        'ED',\n",
        "        'FV',\n",
        "        'TU',\n",
        "        'TY',\n",
        "        'US',\n",
        "    ]\n",
        "    \n",
        "    # Make a list of all the markets\n",
        "    markets = currencies + agricultural + nonagricultural + equities + rates\n",
        "    \n",
        "    # Make a list of all continuations\n",
        "    context.universe = [\n",
        "        continuous_future(market, offset=0, roll='volume', adjustment='mul')\n",
        "            for market in markets\n",
        "    ]\n",
        "    \n",
        "    # We'll use these to keep track of best position reading\n",
        "    # Used to calculate stop points.\n",
        "    context.highest_in_position = {market: 0 for market in markets} \n",
        "    context.lowest_in_position = {market: 0 for market in markets}    \n",
        "    \n",
        "    # Schedule the daily trading\n",
        "    schedule_function(daily_trade, date_rules.every_day(), time_rules.market_close())\n",
        "    \n",
        "    # We'll just use this for the progress output\n",
        "    # during the backtest. Doesn't impact anything.\n",
        "    context.months = 0    \n",
        "    \n",
        "    # Schedule monthly report output\n",
        "    schedule_function(\n",
        "        func=report_result,\n",
        "        date_rule=date_rules.month_start(),\n",
        "        time_rule=time_rules.market_open()\n",
        "    ) \n",
        "    \n",
        "def analyze(context, perf):\n",
        "    returns, positions, transactions = pf.utils.extract_rets_pos_txn_from_zipline(perf)\n",
        "    pf.create_returns_tear_sheet(returns, benchmark_rets=None)\n",
        "    \n",
        "def daily_trade(context, data):\n",
        "    # Get continuation data\n",
        "    hist = data.history(\n",
        "        context.universe, \n",
        "        fields=['close','volume'], \n",
        "        frequency='1d', \n",
        "        bar_count=250,\n",
        "    )\n",
        "    \n",
        "    # Calculate trend\n",
        "    hist['trend'] = hist['close'].ewm(span=fast_ma).mean() > hist['close'].ewm(span=slow_ma).mean()    \n",
        "    \n",
        "    # Make dictionary of open positions\n",
        "    open_pos = {\n",
        "        pos.root_symbol: pos \n",
        "        for pos in context.portfolio.positions\n",
        "    } \n",
        "    \n",
        "    # Iterate markets, check for trades\n",
        "    for continuation in context.universe:\n",
        "        \n",
        "        # Get root symbol of continuation\n",
        "        root = continuation.root_symbol\n",
        "        \n",
        "        # Slice off history for just this market\n",
        "        h = hist.xs(continuation, 2)\n",
        "        \n",
        "        # Get standard deviation\n",
        "        std = h.close.diff()[-vola_window:].std()\n",
        "\n",
        "        if root in open_pos: # Position is open\n",
        "\n",
        "            # Get position\n",
        "            p = context.portfolio.positions[open_pos[root]]\n",
        "            \n",
        "            if p.amount > 0: # Position is long\n",
        "                if context.highest_in_position[root] == 0: # First day holding the position\n",
        "                    context.highest_in_position[root] = p.cost_basis\n",
        "                else:\n",
        "                    context.highest_in_position[root] = max(\n",
        "                        h['close'].iloc[-1], context.highest_in_position[root]\n",
        "                    ) \n",
        "                    \n",
        "                # Calculate stop point\n",
        "                stop = context.highest_in_position[root] - (std  * stop_distance)\n",
        "                # Check if stop is hit\n",
        "                if h.iloc[-1]['close'] < stop:\n",
        "                    contract = open_pos[root]\n",
        "                    order_target(contract, 0)\n",
        "                    context.highest_in_position[root] = 0\n",
        "                # Check if trend has flipped\n",
        "                elif h['trend'].iloc[-1] == False:\n",
        "                    contract = open_pos[root]\n",
        "                    order_target(contract, 0)\n",
        "                    context.highest_in_position[root] = 0\n",
        "                    \n",
        "            else: # Position is short\n",
        "                if context.lowest_in_position[root] == 0: # First day holding the position\n",
        "                    context.lowest_in_position[root] = p.cost_basis\n",
        "                else:\n",
        "                    context.lowest_in_position[root] = min(\n",
        "                        h['close'].iloc[-1], context.lowest_in_position[root]\n",
        "                    )\n",
        "                \n",
        "                # Calculate stop point\n",
        "                stop = context.lowest_in_position[root] + (std  * stop_distance)\n",
        "                \n",
        "                # Check if stop is hit\n",
        "                if h.iloc[-1]['close'] > stop:\n",
        "                    contract = open_pos[root]\n",
        "                    order_target(contract, 0)\n",
        "                    context.lowest_in_position[root] = 0\n",
        "                # Check if trend has flipped\n",
        "                elif h['trend'].iloc[-1] == True:\n",
        "                    contract = open_pos[root]\n",
        "                    order_target(contract, 0)\n",
        "                    context.lowest_in_position[root] = 0                         \n",
        "        \n",
        "        else: # No position on\n",
        "            if h['trend'].iloc[-1]: # Bull trend\n",
        "                # Check if we just made a new high\n",
        "                if h['close'][-1] == h[-breakout_window:]['close'].max(): \n",
        "                    contract = data.current(continuation, 'contract')\n",
        "\n",
        "                    contracts_to_trade = position_size( \\\n",
        "                                                       context.portfolio.portfolio_value, \\\n",
        "                                                       std, \\\n",
        "                                                       contract.price_multiplier)\n",
        "                    \n",
        "                    # Limit size to 20% of avg. daily volume\n",
        "                    contracts_cap = int(h['volume'][-20:].mean() * 0.2)\n",
        "                    contracts_to_trade = min(contracts_to_trade, contracts_cap)\n",
        "                    \n",
        "                    # Place the order\n",
        "                    order_target(contract, contracts_to_trade)\n",
        "             \n",
        "            else: # Bear trend\n",
        "                # Check if we just made a new low\n",
        "                if h['close'][-1] == h[-breakout_window:]['close'].min(): \n",
        "                    contract = data.current(continuation, 'contract')\n",
        "\n",
        "                    contracts_to_trade = position_size( \\\n",
        "                                                       context.portfolio.portfolio_value, \\\n",
        "                                                       std, \\\n",
        "                                                       contract.price_multiplier)\n",
        "                    \n",
        "                    # Limit size to 20% of avg. daily volume\n",
        "                    contracts_cap = int(h['volume'][-20:].mean() * 0.2)\n",
        "                    contracts_to_trade = min(contracts_to_trade, contracts_cap)\n",
        "                    \n",
        "                    # Place the order\n",
        "                    order_target(contract, -1 * contracts_to_trade)\n",
        "    \n",
        "    # If we have open positions, check for rolls\n",
        "    if len(open_pos) > 0:   \n",
        "        roll_futures(context, data)                \n",
        "                        \n",
        "\n",
        "start = pd.Timestamp('2003-01-01', tz='utc')\n",
        "end = pd.Timestamp('2017-12-31', tz='utc')\n",
        "\n",
        "perf = zipline.run_algorithm(\n",
        "    start=start, end=end, \n",
        "    initialize=initialize, \n",
        "    analyze=analyze,\n",
        "    capital_base=starting_portfolio,  \n",
        "    data_frequency = 'daily', \n",
        "    bundle='random_futures_data' ) \n",
        "\n",
        "\n"
      ],
      "metadata": {
        "id": "sponWV8ZKDJv"
      },
      "execution_count": null,
      "outputs": []
    },
    {
      "cell_type": "markdown",
      "source": [
        "### 💻**MODEL TESTING**"
      ],
      "metadata": {
        "id": "8gWXJGjGBDbs"
      }
    },
    {
      "cell_type": "markdown",
      "source": [
        "#**DIGITAL ASSETS PROGRAMME**\n",
        "\n"
      ],
      "metadata": {
        "id": "tIM7wTXOAarM"
      }
    },
    {
      "cell_type": "markdown",
      "source": [
        "## **Systems**\n",
        "\n",
        "---\n",
        "\n"
      ],
      "metadata": {
        "id": "TycKaYmxuCVl"
      }
    },
    {
      "cell_type": "markdown",
      "source": [
        "### Single Asset Backtest"
      ],
      "metadata": {
        "id": "ySxEKidEU606"
      }
    },
    {
      "cell_type": "code",
      "source": [
        "# This ensures that our graphs will be shown properly in the notebook.\n",
        "%matplotlib inline\n",
        "\n",
        "# Import libraries\n",
        "import zipline\n",
        "from zipline import run_algorithm\n",
        "from zipline.api import order_target_percent, symbol\n",
        "from datetime import datetime\n",
        "import pytz\n",
        "import matplotlib.pyplot as plt\n",
        "import pandas as pd\n",
        "\n",
        "def initialize(context):\n",
        "  # Which asset to trade\n",
        "  context.asset = symbol('ABG.JO')\n",
        "  \n",
        "  # Moving average window\n",
        "  context.index_average_window = 100\n",
        "\n",
        "def handle_data(context, data):\n",
        "  # Request history for the stock\n",
        "  btc_hist = data.history(context.asset, \"close\",\n",
        "                               context.index_average_window, \"1d\")\n",
        "  \n",
        "  # Check if price is above moving average\n",
        "  if btc_hist[-1] > btc_hist.mean():\n",
        "    asset_weight = 1.0\n",
        "  else:\n",
        "    asset_weight = 0.0\n",
        "    # Place order\n",
        "    order_target_percent(context.asset, asset_weight)\n",
        "\n",
        "def analyze(context, perf):\n",
        "  \n",
        "  fig = plt.figure(figsize=(12, 8))\n",
        "  \n",
        "    # First char\n",
        "  ax = fig.add_subplot(311)\n",
        "  ax.set_title('Strategy Results')\n",
        "  ax.semilogy(perf['portfolio_value'], linestyle='-',\n",
        "              label='Equity Curve', linewidth=3.0)\n",
        "  ax.legend()\n",
        "  ax.grid(False)\n",
        "\n",
        "  # Second chart\n",
        "  ax = fig.add_subplot(312)\n",
        "  ax.plot(perf['gross_leverage'],\n",
        "  label='Exposure', linestyle='-', linewidth=1.0)\n",
        "  ax.legend()\n",
        "  ax.grid(True)\n",
        "\n",
        "  # Third chart\n",
        "  ax = fig.add_subplot(313)\n",
        "  ax.plot(perf['returns'], label='Returns', linestyle='-.',\n",
        "          linewidth=1.0)\n",
        "  ax.legend()\n",
        "  ax.grid(True)"
      ],
      "metadata": {
        "id": "kcHu_Gsb7cll"
      },
      "execution_count": null,
      "outputs": []
    },
    {
      "cell_type": "markdown",
      "source": [
        "### Equal Weight Model"
      ],
      "metadata": {
        "id": "_tfGWw1gYDlo"
      }
    },
    {
      "cell_type": "code",
      "source": [
        "\n",
        "# Import a few libraries we need\n",
        "import zipline\n",
        "from zipline import run_algorithm\n",
        "from zipline.api import order_target_percent, symbol, schedule_function, date_rules, time_rules\n",
        "from datetime import datetime\n",
        "import pytz\n",
        "import pyfolio as pf\n",
        "import pandas as pd\n",
        "import numpy as np\n",
        "\n",
        "def initialize(context):\n",
        "\n",
        "  # Which stock to trade\n",
        "\n",
        " \n",
        "  JSE_UNIVESRE = mylist\n",
        "  \n",
        "\n",
        "\n",
        "  #Make a list of symbols from the list of tickers\n",
        "  context.JSE_UNIVESRE_symbols = [symbol(s) for s in JSE_UNIVESRE]\n",
        "\n",
        "  # Moving average window\n",
        "  context.index_average_window = 52\n",
        "  \n",
        "def handle_data(context, data):\n",
        "  \n",
        "  # Get history for all the stocks\n",
        "  stock_hist = data.history(context.JSE_UNIVESRE_symbols, \"close\", context.index_average_window, \"1d\")\n",
        "\n",
        "  # Make an empty DataFrame to start with\n",
        "  stock_analytics = pd.DataFrame()\n",
        "\n",
        "  # Add column for above or below average\n",
        "  stock_analytics['above_mean'] = stock_hist.iloc[-1] > stock_hist.mean()\n",
        "\n",
        "  # Set weight for stocks to buy\n",
        "  stock_analytics.loc[stock_analytics['above_mean'] == True, 'weight'] = 1/len(context.JSE_UNIVESRE_symbols)\n",
        "\n",
        "  # Set weight to zero for the rest\n",
        "  stock_analytics.loc[stock_analytics['above_mean'] == False, 'weight'] = 0.0\n",
        "\n",
        "  # Iterate each row and place trades\n",
        "  for stock, analytics in stock_analytics.iterrows():\n",
        "\n",
        "    # Check if the stock can be traded\n",
        "    if data.can_trade(stock):\n",
        "\n",
        "      # Place the trade\n",
        "      order_target_percent(stock, analytics['weight'])\n",
        "\n",
        "def analyze(context, perf):\n",
        "\n",
        "  # Use PyFolio to generate a performance report\n",
        "  returns, positions, transactions = pf.utils.extract_rets_pos_txn_from_zipline(perf)\n",
        "\n",
        "  benchmark_period_return = perf['benchmark_period_return']\n",
        "\n",
        "  daily_benchmark_returns = np.exp(np.log(benchmark_period_return + 1.0).diff()) - 1\n",
        "\n",
        "  # Create tear sheet\n",
        "  pf.create_full_tear_sheet(returns, positions=positions, transactions=transactions, benchmark_rets=None)\n",
        "\n",
        "\"\"\"\n",
        "\n",
        "def analyze(context, perf):\n",
        "\n",
        "  fig = plt.figure(figsize=(12, 8))\n",
        "\n",
        "  # First chart\n",
        "  ax = fig.add_subplot(311)\n",
        "  ax.set_title('Strategy Results')\n",
        "  ax.plot(perf['portfolio_value'], linestyle='-',\n",
        "          label='Equity Curve', linewidth=3.0)\n",
        "  ax.legend()\n",
        "  ax.grid(False)\n",
        "\n",
        "  # Second chart\n",
        "  ax = fig.add_subplot(312)\n",
        "  ax.plot(perf['gross_leverage'],label='Exposure',\n",
        "          linestyle='-', linewidth=1.0)\n",
        "  ax.legend()\n",
        "  ax.grid(True)\n",
        "  \n",
        "  # Third chart\n",
        "  ax = fig.add_subplot(313)\n",
        "  ax.plot(perf['returns'], label='Returns', linestyle='-.',\n",
        "          linewidth=1.0)\n",
        "  ax.legend()\n",
        "  ax.grid(True)\n",
        "\n",
        "  \"\"\"\n",
        "\"\"\"\n",
        "# Set start and end date\n",
        "start= datetime.datetime(2022, 3, 15, 0, 0)\n",
        "now_aware = pytz.utc.localize(start)\n",
        "now_aware = start.replace(tzinfo=pytz.UTC)\n",
        "end = datetime.datetime(2023, 4, 1, 0, 0)\n",
        "now_aware2 = pytz.utc.localize(end)\n",
        "now_aware2 = end.replace(tzinfo=pytz.UTC)\n",
        "\"\"\"\n",
        "\n",
        "# Set start and end date\n",
        "start_date = pd.to_datetime('2022-4-21')\n",
        "end_date = pd.to_datetime('2023-4-21')\n",
        "\n",
        "\n",
        "# Fire off the backtest\n",
        "result = run_algorithm(\n",
        "start=start_date,\n",
        "end=end_date,\n",
        "initialize=initialize,\n",
        "analyze=analyze,\n",
        "handle_data=handle_data,\n",
        "capital_base=10000,\n",
        "data_frequency = 'daily', bundle= 'random_stock_data')\n",
        "\"\"\"\n",
        "# Fire off the backtest\n",
        "perf = run_algorithm(\n",
        "start=start_date,\n",
        "end=end_date,\n",
        "initialize=initialize,\n",
        "analyze=analyze,\n",
        "handle_data=handle_data,\n",
        "capital_base=10000,\n",
        "data_frequency = 'daily', \n",
        "bundle= 'random_stock_data',)\n",
        "\"\"\""
      ],
      "metadata": {
        "id": "JEtmR8GjFANc",
        "collapsed": true
      },
      "execution_count": null,
      "outputs": []
    },
    {
      "cell_type": "code",
      "source": [
        "mylist"
      ],
      "metadata": {
        "id": "7tuet-jiiuYh"
      },
      "execution_count": null,
      "outputs": []
    },
    {
      "cell_type": "code",
      "source": [
        "#Export performance results to disk in csv file\n",
        "\n",
        "perf.portfolio_value.to_csv('ewm_momentum_model.csv')"
      ],
      "metadata": {
        "id": "BU2OOl30YXe1"
      },
      "execution_count": null,
      "outputs": []
    },
    {
      "cell_type": "markdown",
      "source": [
        "### Momentum Model"
      ],
      "metadata": {
        "id": "1V0GCt2_92BD"
      }
    },
    {
      "cell_type": "code",
      "source": [
        "#@title\n",
        "\n",
        "%matplotlib inline\n",
        "\n",
        "import zipline\n",
        "from zipline import run_algorithm\n",
        "from zipline.api import order_target_percent, symbol, set_commission, set_slippage, schedule_function, date_rules, time_rules\n",
        "import matplotlib.pyplot as plt \n",
        "import pyfolio as pf\n",
        "import pandas as pd \n",
        "import numpy as np\n",
        "from scipy import stats\n",
        "import warnings\n",
        "warnings.filterwarnings('ignore')\n",
        "from zipline.finance.commission import PerDollar\n",
        "from zipline.finance.slippage import VolumeShareSlippage, FixedSlippage\n",
        "\n",
        "\n",
        "initial_portfolio = 10000\n",
        "minimum_momentum = 10\n",
        "portfolio_size = 1\n",
        "vola_window = 30\n",
        "\n",
        "def momentum_score(ts):\n",
        "\n",
        "  #Input: Price time series.Output: Annualized exponential regression slope, multiplied by the R2\n",
        "\n",
        "  # Make a list of consecutive numbers \n",
        "  x = np.arange(len(ts))\n",
        "  # Get logs\n",
        "  log_ts = np.log(ts)\n",
        "  # Calculate regression values\n",
        "  slope, intercept, r_value, p_value, std_err = stats.linregress(x, log_ts) \n",
        "  # Annualize percent\n",
        "  annualized_slope = (np.power(np.exp(slope), 252) - 1) * 100 \n",
        "  #Adjust for fitness\n",
        "  score = annualized_slope * (r_value ** 2) \n",
        "  return score\n",
        "\n",
        "def volatility(ts):\n",
        "  return ts.pct_change().rolling(vola_window).std().iloc[-1]\n",
        "\n",
        "\n",
        "#Initialization and trading logic\n",
        "\n",
        "\n",
        "def initialize(context):\n",
        "\n",
        "  context.rolling_window = 100\n",
        "\n",
        "  #Commission and Slippage Settings\n",
        "\n",
        "  enable_commission = True \n",
        "  commission_pct = 0.001 \n",
        "  enable_slippage = True \n",
        "  slippage_volume_limit = 0.025\n",
        "  slippage_impact = 0.05\n",
        "\n",
        "  \"\"\"\n",
        "  dji = [\"AAVE\",\"ADA\",\"ALPHA\",\"BCH\",\"BTC\",\n",
        "          \"DOGE\",\"DOT\",\"ETH\",\"LTC\",\"USDT\",\n",
        "          \"XLM\",\"XMR\",\"XRP\"]\n",
        "  \"\"\"\n",
        "  dji = [\"btc\",\"ltc\",\"eth\"]\n",
        "\n",
        "  \n",
        "  # Make a list of symbols from the list of tickers\n",
        "  context.dji_symbols = [symbol(s) for s in dji]\n",
        "\n",
        "  # Set commission and slippage.\n",
        "  if enable_commission:\n",
        "    comm_model = PerDollar(cost=commission_pct) \n",
        "  else:\n",
        "    comm_model = PerDollar(cost=0.0) \n",
        "  set_commission(comm_model)\n",
        "  if enable_slippage: slippage_model=VolumeShareSlippage(volume_limit=slippage_volume_limit,\n",
        "price_impact=slippage_impact) \n",
        "  else:\n",
        "    slippage_model=FixedSlippage(spread=0.0) \n",
        "  set_slippage(slippage_model)\n",
        "\n",
        "\n",
        "  #Schedule rebalance monthly. \n",
        "  schedule_function(\n",
        "    func=rebalance, \n",
        "    date_rule=date_rules.month_start(), \n",
        "    time_rule=time_rules.market_open()\n",
        "  )\n",
        "\n",
        "def rebalance(context, data):\n",
        "\n",
        "  # Get historical data\n",
        "  hist = data.history(context.dji_symbols, \"close\", context.rolling_window, \"1d\")\n",
        "\n",
        "  # Make momentum ranking table\n",
        "  ranking_table = hist.apply(momentum_score).sort_values(ascending=False)\n",
        "\n",
        "  #Sell Logic\n",
        "  #First we check if any existing position should be sold.\n",
        "    #Sell if stock is no longer part of index.\n",
        "    #Sell if stock has too low momentum value.\n",
        "\n",
        "  kept_positions = list(context.portfolio.positions.keys()) \n",
        "  for security in context.portfolio.positions:\n",
        "    if ranking_table[security] < minimum_momentum: \n",
        "      order_target_percent(security, 0.0)\n",
        "      kept_positions.remove(security)\n",
        " \n",
        "  #Stock Selection Logic\n",
        "  #Check how many stocks we are keeping from last month.\n",
        "  #Fill from top of ranking list, until we reach the desired total number of portfolio holdings.\n",
        "\n",
        "  replacement_stocks = portfolio_size - len(kept_positions) \n",
        "  buy_list = ranking_table.loc[\n",
        "    ~ranking_table.index.isin(kept_positions)][:replacement_stocks]\n",
        "  new_portfolio = pd.concat(\n",
        "    (buy_list,\n",
        "    ranking_table.loc[ranking_table.index.isin(kept_positions)])\n",
        "  )\n",
        "  buy_list = ranking_table.loc[\n",
        "    ~ranking_table.index.isin(kept_positions)][:replacement_stocks]\n",
        "\n",
        "  #Calculate inverse volatility for stocks, and make target position weights.\n",
        "\n",
        "  vola_table = hist[new_portfolio.index].apply(volatility) \n",
        "  inv_vola_table = 1 / vola_table\n",
        "  sum_inv_vola = np.sum(inv_vola_table) \n",
        "  vola_target_weights = inv_vola_table / sum_inv_vola\n",
        "  for security, rank in new_portfolio.iteritems(): \n",
        "    weight = vola_target_weights[security]\n",
        "    if security in kept_positions:\n",
        "      order_target_percent(security, weight)\n",
        "    else:\n",
        "      if ranking_table[security] > minimum_momentum: \n",
        "        order_target_percent(security, weight)\n",
        "\n",
        "\n",
        "def analyze(context, perf):\n",
        "    \n",
        "  # Use PyFolio to generate a performance report\n",
        "  returns, positions, transactions = pf.utils.extract_rets_pos_txn_from_zipline(perf)\n",
        "\n",
        "  benchmark_period_return = perf['benchmark_period_return']\n",
        "\n",
        "  daily_benchmark_returns = np.exp(np.log(benchmark_period_return + 1.0).diff()) - 1\n",
        "\n",
        "  # Create tear sheet\n",
        "  pf.create_full_tear_sheet(returns, positions=positions, transactions=transactions, benchmark_rets=None)\n",
        "\n",
        "start= pd.Timestamp('2015-5-1', tz='utc')\n",
        "end = pd.Timestamp('2022-5-2', tz='utc')\n",
        "\n",
        "perf = zipline.run_algorithm(start=start, \n",
        "                             end=end, \n",
        "                             initialize=initialize, \n",
        "                             analyze=analyze, \n",
        "                             capital_base=initial_portfolio, \n",
        "                             data_frequency='daily',\n",
        "                             bundle='crypto')"
      ],
      "metadata": {
        "id": "OfmZYBZ4p4nv"
      },
      "execution_count": null,
      "outputs": []
    },
    {
      "cell_type": "code",
      "source": [
        "#Export Performance Result to disk in csv file\n",
        "\n",
        "perf.portfolio_value.to_csv('crypto_momentum.csv')"
      ],
      "metadata": {
        "id": "M18L5KZe3rQr"
      },
      "execution_count": null,
      "outputs": []
    },
    {
      "cell_type": "markdown",
      "source": [
        "### **Model Performance**"
      ],
      "metadata": {
        "id": "kPK0-JU_Y1Ke"
      }
    },
    {
      "cell_type": "code",
      "source": [],
      "metadata": {
        "id": "gyaPFiaykaNm",
        "cellView": "form"
      },
      "execution_count": null,
      "outputs": []
    },
    {
      "cell_type": "markdown",
      "source": [
        "# **DATA CLEANING**\n",
        "\n"
      ],
      "metadata": {
        "id": "wOl0psqAtAal"
      }
    },
    {
      "cell_type": "markdown",
      "source": [
        "## Futures"
      ],
      "metadata": {
        "id": "leJ4xVj0cUmi"
      }
    },
    {
      "cell_type": "code",
      "source": [
        "# Import modules\n",
        "import nasdaqdatalink\n",
        "import quandl\n",
        "# Get the data for Futures, Continuous Contract #6.\n",
        "import matplotlib.pyplot as plt\n",
        "data = quandl.get(\"CHRIS/CME_YM1\",start_date=\"2017-12-03\", end_date=\"2018-12-03\", api_key='WDDHaLh3eG6vrEgiCCqy')"
      ],
      "metadata": {
        "id": "RC5tgJ5vmc7a"
      },
      "execution_count": null,
      "outputs": []
    },
    {
      "cell_type": "code",
      "source": [
        "# Plot the prices\n",
        "data.Settle.plot()\n",
        "plt.show()"
      ],
      "metadata": {
        "id": "84lZG881mitG"
      },
      "execution_count": null,
      "outputs": []
    },
    {
      "cell_type": "code",
      "source": [
        "#import required libraries\n",
        "import pandas as pd\n",
        "from datetime import datetime\n",
        "import numpy as np\n",
        "\n",
        "data = data.rename(columns={'Open': 'open','High':'high',\n",
        "                                'Low':'low','Last':'close',\n",
        "                                'Volume':'volume','Previous Day Open Interest': 'openinterest'}, index=None)\n",
        "\n",
        "data['expiration_date'] = '2018-12-21'\n",
        "data['root_symbol'] = 'YM'\n",
        "data['symbol'] = 'YMZ18'\n",
        "\n",
        "new_data = data.drop(['Change', 'Settle',], axis=1)\n",
        "\n",
        "print(new_data.head())"
      ],
      "metadata": {
        "id": "6aDFt_ctctAx"
      },
      "execution_count": null,
      "outputs": []
    },
    {
      "cell_type": "code",
      "source": [
        "new_data.to_csv('/content/drive/MyDrive/Colab Notebooks/My Project Folder/Futures/YMZ18.csv')"
      ],
      "metadata": {
        "id": "U-luxklmprlL"
      },
      "execution_count": null,
      "outputs": []
    },
    {
      "cell_type": "markdown",
      "source": [
        "## Digital assets"
      ],
      "metadata": {
        "id": "j9Isr0HFaAKD"
      }
    },
    {
      "cell_type": "markdown",
      "source": [
        "### Adjusting model performace csv data for comparison"
      ],
      "metadata": {
        "id": "xkG3Yi2EHM4P"
      }
    },
    {
      "cell_type": "code",
      "source": [
        "import pandas as pd\n",
        "import numpy as np\n",
        "\n",
        "A = pd.read_csv('/content/drive/MyDrive/Colab Notebooks/My Project Folder/Backtests/Raw Model Performance Data/Digital Assets/crypto_momentum.csv', parse_dates=True, index_col=0)\n",
        "\n",
        "A.index = A.index.strftime('%Y/%m/%d')\n",
        "\n",
        "header_row = 1\n",
        "\n",
        "A.columns = A.iloc[header_row]\n",
        "\n",
        "A"
      ],
      "metadata": {
        "id": "HkR-LQr5HUfA"
      },
      "execution_count": null,
      "outputs": []
    },
    {
      "cell_type": "code",
      "source": [
        "A.info()"
      ],
      "metadata": {
        "id": "dwSpgXWbjPHq"
      },
      "execution_count": null,
      "outputs": []
    },
    {
      "cell_type": "code",
      "source": [
        "\n",
        "A.to_csv('/content/drive/MyDrive/Colab Notebooks/My Project Folder/Backtests/crypto_momentum_2.csv')\n"
      ],
      "metadata": {
        "id": "zpol9KKPOz0m"
      },
      "execution_count": null,
      "outputs": []
    },
    {
      "cell_type": "markdown",
      "source": [
        "### Adjusting crypto indices csv data for comparison"
      ],
      "metadata": {
        "id": "xcAQevGKs8jc"
      }
    },
    {
      "cell_type": "code",
      "source": [
        "#import required libraries\n",
        "import pandas as pd\n",
        "from datetime import datetime\n",
        "import exchange_calendars as xcals\n",
        "from zipline import get_calendar\n",
        "import numpy as np\n",
        "\n",
        "df = pd.read_csv('/content/drive/MyDrive/Colab Notebooks/My Project Folder/crypto/indices/SPCBDM.csv', encoding='cp1252')\n",
        "df.info()\n",
        "print(df)"
      ],
      "metadata": {
        "id": "Ui2xKWSwvQsK"
      },
      "execution_count": null,
      "outputs": []
    },
    {
      "cell_type": "code",
      "source": [
        "\n",
        "df.drop([1355],axis=0, inplace = True )\n",
        "\n",
        "#Convert 'date' Column to datetime\n",
        "df['2/28/2017'] = pd.to_datetime(df['2/28/2017'], utc=True)\n",
        "\n",
        "#Set 'date' column as index\n",
        "df.set_index('2/28/2017', inplace=True)\n",
        "\n",
        "# Get all expected trading sessions in new dataframe.\n",
        "sessions = get_calendar('NYSE').sessions_in_range('2017-02-28', '2022-05-05')\n",
        "\n",
        "df.index = df.index.strftime('%Y/%m/%d')\n",
        "\n",
        "header_row = 1\n",
        "\n",
        "df.columns = df.iloc[header_row]\n",
        "\n",
        "df.tail(5)\n",
        "df.info()\n",
        "df"
      ],
      "metadata": {
        "id": "ccCas1-YyplH"
      },
      "execution_count": null,
      "outputs": []
    },
    {
      "cell_type": "code",
      "source": [
        "df = df[~df.index.duplicated()]\n",
        "df"
      ],
      "metadata": {
        "id": "6_L-MWp3pbMV"
      },
      "execution_count": null,
      "outputs": []
    },
    {
      "cell_type": "code",
      "source": [
        "df.to_csv('/content/drive/MyDrive/Colab Notebooks/My Project Folder/Backtests/SPCBDM_test3.csv')"
      ],
      "metadata": {
        "id": "YxGN_p0ckuRC"
      },
      "execution_count": null,
      "outputs": []
    },
    {
      "cell_type": "markdown",
      "source": [
        "### Removing weekends from timeseries"
      ],
      "metadata": {
        "id": "wyel-4htJj0U"
      }
    },
    {
      "cell_type": "code",
      "source": [
        "#@title\n",
        "#Import statements\n",
        "%matplotlib inline\n",
        "import pandas as pd\n",
        "import datetime as dt\n",
        "import numpy as np\n",
        "\n",
        "#Load csv file from disc\n",
        "df = pd.read_csv('/content/drive/MyDrive/Colab Notebooks/My Project Folder/crypto/crypto_data/DOGE.csv')\n",
        "\n",
        "#Set date column to datetime\n",
        "df['time'] = pd.to_datetime(df['time'], errors='coerce')\n",
        "\n",
        "#Remove weekends from data\n",
        "df = df[df.time.dt.weekday < 5]\n",
        "\n",
        "#Set 'date' columns as Index\n",
        "df.set_index(\"time\", inplace = True)\n",
        "\n",
        "#display weekday dataframe\n",
        "df"
      ],
      "metadata": {
        "id": "LcR4uk8SJ3mT"
      },
      "execution_count": null,
      "outputs": []
    },
    {
      "cell_type": "code",
      "source": [
        "#inspect dataframe\n",
        "df.info()"
      ],
      "metadata": {
        "id": "b2HfyHCXUYBR"
      },
      "execution_count": null,
      "outputs": []
    },
    {
      "cell_type": "code",
      "source": [
        "#Save dataframe to csv\n",
        "\n",
        "df.to_csv('/content/drive/MyDrive/Colab Notebooks/My Project Folder/crypto/crypto weekday data/DODGE_weekday.csv')"
      ],
      "metadata": {
        "id": "t91Kk-vQRL8Q"
      },
      "execution_count": null,
      "outputs": []
    },
    {
      "cell_type": "code",
      "source": [
        "#Load final data to file to dataframe\n",
        "dodge = pd.read_csv('/content/drive/MyDrive/Colab Notebooks/My Project Folder/crypto/crypto weekday data/DODGE_weekday.csv')\n",
        "\n",
        "print(dodge)\n",
        "\n"
      ],
      "metadata": {
        "id": "biKqcgmYUzrI"
      },
      "execution_count": null,
      "outputs": []
    },
    {
      "cell_type": "code",
      "source": [
        "#Remove weekends from dataframe\n",
        "btc = usholidays[usholidays.date.dt.weekday < 5]\n",
        "\n",
        "#Set 'date' column as index\n",
        "btc.set_index('date', inplace = True)\n",
        "\n",
        "btc"
      ],
      "metadata": {
        "id": "z2i2hsa_DPOz"
      },
      "execution_count": null,
      "outputs": []
    },
    {
      "cell_type": "code",
      "source": [
        "#import US holiday calender\n",
        "from pandas.tseries.holiday import USFederalHolidayCalendar as calendar\n",
        "\n",
        "#Set period between start and end date in dataframe to identify and remove holidays\n",
        "holidays = calendar().holidays(start='2009-01-05', end='2022-05-24') \n",
        "m = raw_data['date'].isin(holidays)\n",
        "usholidays = raw_data[~m].copy()\n",
        "\n",
        "#print new dataframe with holidays removed\n",
        "usholidays"
      ],
      "metadata": {
        "id": "CBI8-xSAAoRb"
      },
      "execution_count": null,
      "outputs": []
    },
    {
      "cell_type": "markdown",
      "source": [
        "### Adjusting crypto data from **Yahoo Finance** for testing with NYSE trading calender."
      ],
      "metadata": {
        "id": "apiTpYe_fJXQ"
      }
    },
    {
      "cell_type": "code",
      "source": [
        "#import required libraries\n",
        "import pandas as pd\n",
        "from datetime import datetime\n",
        "import exchange_calendars as xcals\n",
        "from zipline import get_calendar\n",
        "import numpy as np"
      ],
      "metadata": {
        "id": "62ohBdKTfmjU"
      },
      "execution_count": null,
      "outputs": []
    },
    {
      "cell_type": "code",
      "source": [
        "df = pd.read_csv('/content/drive/MyDrive/Colab Notebooks/My Project Folder/crypto/yahoo_data/yahoo raw data/BTC-USD.csv', parse_dates=True, index_col=0)\n",
        "\n",
        "# Remove Adj Close Column\n",
        "new_df = df.drop(['Adj Close'], axis=1)\n",
        "\n",
        "new_df[\"Volume\"] = new_df[\"Volume\"].astype(float)\n",
        "\n",
        "#Reset index\n",
        "new_df.reset_index(inplace = True)\n",
        "\n",
        "#Convert 'date' Column to datetime\n",
        "new_df['Date'] = pd.to_datetime(new_df['Date'], utc=True)\n",
        "\n",
        "#Set 'date' column as index\n",
        "new_df.set_index('Date', inplace=True)\n",
        "\n",
        "# Get all expected trading sessions in new dataframe.\n",
        "sessions = get_calendar('NYSE').sessions_in_range('2009-01-05', '2022-07-07')\n",
        "\n",
        "# To set the trading session in  new dataframe to the NYSE Calender\n",
        "btc = new_df.reindex(sessions)\n",
        "\n",
        "#Reset index again to change the index name\n",
        "btc.reset_index(inplace = True)\n",
        "\n",
        "#Rename index column to 'date'\n",
        "btc = btc.rename(columns={'index': 'trading_date'}, index=None)\n",
        "\n",
        "#Change date format to Year-Month-Day\n",
        "btc['trading_date'] =  pd.to_datetime(btc['trading_date']).dt.strftime('%Y-%m-%d')\n",
        "\n",
        "crypto = btc.dropna()\n",
        "\n",
        "#Change 'PriceUSD' columns to 'close'\n",
        "crypto.rename(columns = {'Open':'open',\n",
        "                      'High':'high',\n",
        "                      'Low':'low',\n",
        "                      'Close':'close',\n",
        "                      'Volume':'volume'}, inplace = True)\n",
        "\n",
        "crypto.set_index('trading_date', inplace=True)\n",
        "\n",
        "crypto.info()\n",
        "\n",
        "crypto.to_csv('/content/drive/MyDrive/Colab Notebooks/My Project Folder/crypto/yahoo_data/yahoo cleaned data/btc.csv')\n",
        "\n",
        "crypto"
      ],
      "metadata": {
        "id": "9Zw_h3y8fQBV"
      },
      "execution_count": null,
      "outputs": []
    },
    {
      "cell_type": "markdown",
      "source": [
        "### Adjusting crypto data from **Coinmetrics** for testing with NYSE trading calender."
      ],
      "metadata": {
        "id": "ZoZBFEZFb1JM"
      }
    },
    {
      "cell_type": "code",
      "source": [
        "#import required libraries\n",
        "import pandas as pd\n",
        "from datetime import datetime\n",
        "import exchange_calendars as xcals\n",
        "from zipline import get_calendar\n",
        "import numpy as np\n",
        "\n",
        "#load raw data from file\n",
        "raw_data = pd.read_csv('/content/drive/MyDrive/Colab Notebooks/My Project Folder/crypto/coinmetrics_data/btc.csv', parse_dates=True, index_col=0)\n",
        "\n",
        "new = raw_data.drop(raw_data.loc[:, :'PriceBTC'].columns, axis=1)\n",
        "\n",
        "\n",
        "#drop columns not needed. Only closing prices required\n",
        "new.drop(new.iloc[:, 1:76], inplace = True, axis = 1)\n",
        "\n",
        "#Add new columns\n",
        "new['high'] =0\n",
        "new['low'] =0\n",
        "new['open'] =0\n",
        "new['volume'] =0\n",
        "\n",
        "# Rearrange columns to set timestamp as first column\n",
        "new = new[['high','open','low','PriceUSD','volume']]\n",
        "\n",
        "#Change 'PriceUSD' columns to 'close'\n",
        "new.rename(columns = {'PriceUSD':'close'}, inplace = True)\n",
        "\n",
        "\"\"\"\n",
        "#Drop row (date) not needed\n",
        "new=new.drop(['2022-05-25'])\n",
        "\"\"\"\n",
        "\n",
        "#Fill 'close' column with integer values '0'\n",
        "new[\"close\"].fillna(0, inplace=True)\n",
        "\n",
        "#Reset index\n",
        "new.reset_index(inplace = True)\n",
        "\n",
        "#Rename time columns to date\n",
        "new = new.rename(columns={'time': 'date'}, index=None)\n",
        "\n",
        "#Drop all NaN values from dataframe\n",
        "new.dropna()\n",
        "\n",
        "#Convert columns datatype from integer to float\n",
        "new[\"high\"] = new[\"high\"].astype(float)\n",
        "new[\"open\"] = new[\"open\"].astype(float)\n",
        "new[\"low\"] = new[\"low\"].astype(float)\n",
        "new[\"volume\"] = new[\"volume\"].astype(float)\n",
        "\n",
        "#Convert 'date' Column to datetime\n",
        "new['date'] = pd.to_datetime(new['date'], utc=True)\n",
        "\n",
        "#Set 'date' column as index\n",
        "new.set_index('date', inplace=True)\n",
        "\n",
        "# Get all expected trading sessions in new dataframe.\n",
        "sessions = get_calendar('NYSE').sessions_in_range('2009-01-05', '2022-05-24')\n",
        "\n",
        "# To set the trading session in  new dataframe to the NYSE Calender\n",
        "btc = new.reindex(sessions)\n",
        "\n",
        "#Reset index again to change the index name\n",
        "btc.reset_index(inplace = True)\n",
        "\n",
        "#Rename index column to 'date'\n",
        "btc = btc.rename(columns={'index': 'date'}, index=None)\n",
        "\n",
        "#Change date format to Year-Month-Day\n",
        "btc['date'] =  pd.to_datetime(btc['date']).dt.strftime('%Y-%m-%d')\n",
        "\n",
        "\"\"\"\n",
        "btc.set_index('date', inplace=True)\n",
        "\"\"\"\n",
        "\n",
        "# Remove two columns name is 'C' and 'D'\n",
        "df = btc.drop(['high', 'open','low'], axis=1)\n",
        "\n",
        "df['open'] = df['close'] - (0 * df ['close'])\n",
        "df['high'] = df['open'] - (0 * df ['open'])\n",
        "df['low'] = df['high'] - (0 * df ['high'])\n",
        "\n",
        "# Rearrange columns\n",
        "df = df[['date','open','high','low','close','volume']]\n",
        "\n",
        "df.set_index('date', inplace=True)\n",
        "\n",
        "crypto = df.dropna()\n",
        "\n",
        "crypto.to_csv('/content/drive/MyDrive/Colab Notebooks/My Project Folder/crypto/final crypto bundle/btc.csv')"
      ],
      "metadata": {
        "id": "UQOZCRgetfon"
      },
      "execution_count": null,
      "outputs": []
    },
    {
      "cell_type": "markdown",
      "source": [],
      "metadata": {
        "id": "gDZuhdt9s2dd"
      }
    },
    {
      "cell_type": "markdown",
      "source": [
        "#**Exploratory Data Analyses (EDA)**"
      ],
      "metadata": {
        "id": "OlM6TGBPVSmL"
      }
    },
    {
      "cell_type": "code",
      "source": [
        "!pip install mpld3"
      ],
      "metadata": {
        "id": "s14iuKoDf7rk"
      },
      "execution_count": null,
      "outputs": []
    },
    {
      "cell_type": "code",
      "source": [
        "%matplotlib inline\n",
        "import numpy as np\n",
        "import pandas as pd\n",
        "from scipy import stats\n",
        "import seaborn as sn\n",
        "import matplotlib.pyplot as plt\n",
        "\"\"\"\n",
        "import mpld3\n",
        "mpld3.enable_notebook()\n",
        "\"\"\"\n",
        "import warnings\n",
        "warnings.filterwarnings('ignore')\n",
        "pd.set_option('display.max_rows', 2)"
      ],
      "metadata": {
        "id": "i5waJ-BLVR5U"
      },
      "execution_count": 1,
      "outputs": []
    },
    {
      "cell_type": "code",
      "source": [
        "File = pd.read_csv('/content/drive/MyDrive/JSE/Stocks_final2/CFR.JO.csv',parse_dates=True, index_col=0)\n",
        "File"
      ],
      "metadata": {
        "id": "7TIUEc7qhsCf"
      },
      "execution_count": null,
      "outputs": []
    },
    {
      "cell_type": "code",
      "source": [
        "File.info()"
      ],
      "metadata": {
        "id": "YKnzbstwcr8J"
      },
      "execution_count": null,
      "outputs": []
    },
    {
      "cell_type": "markdown",
      "source": [],
      "metadata": {
        "id": "i_v1a5ALOkqE"
      }
    },
    {
      "cell_type": "code",
      "source": [
        "print(File.tail(5))"
      ],
      "metadata": {
        "id": "4H0rZSeSvXRk"
      },
      "execution_count": null,
      "outputs": []
    },
    {
      "cell_type": "code",
      "source": [
        "File"
      ],
      "metadata": {
        "id": "Tr3jDmh6WdTG"
      },
      "execution_count": null,
      "outputs": []
    },
    {
      "cell_type": "code",
      "source": [
        "File = pd.read_csv('/content/Stocks_final/TLM.JO.csv')\n",
        "#File.set_index(\"trading_date\", inplace=True)\n",
        "File.info()\n",
        "print(File)"
      ],
      "metadata": {
        "id": "WU4AVBh5Qt9F"
      },
      "execution_count": null,
      "outputs": []
    },
    {
      "cell_type": "code",
      "source": [
        "File3 = pd.read_csv('/content/Stocks_final3/TLM.JO.csv')\n",
        "File3.set_index(\"trading_date\", inplace=True)\n",
        "File3.info()\n",
        "File3"
      ],
      "metadata": {
        "id": "ZzraEl3W2vYk"
      },
      "execution_count": null,
      "outputs": []
    },
    {
      "cell_type": "code",
      "source": [
        "File['open'].plot(figsize=(12,6), \n",
        "                  linestyle='--',color='black',\n",
        "                  legend='Open')\n",
        "\n",
        "File['high'].plot(figsize=(12,6),\n",
        "                   linestyle='-',color='red',\n",
        "                   legend='High')\n",
        "File['low'].plot(figsize=(12,6),\n",
        "                 linestyle=':',color='blue',\n",
        "                 legend='Low')\n",
        "\n",
        "File['close'].plot(figsize=(12,6),\n",
        "                  linestyle='-',color='purple',\n",
        "                  legend='Close')"
      ],
      "metadata": {
        "id": "Kj32Vg-S286T"
      },
      "execution_count": null,
      "outputs": []
    },
    {
      "cell_type": "code",
      "source": [
        "pd.set_option('display.max_rows', None)\n",
        "\n",
        "File.describe()"
      ],
      "metadata": {
        "id": "-ACTvJDKWq-y"
      },
      "execution_count": null,
      "outputs": []
    },
    {
      "cell_type": "code",
      "source": [
        "pd.set_option('display.max_rows', None)\n",
        "\n",
        "File3.describe()"
      ],
      "metadata": {
        "id": "664n5qBH38bs"
      },
      "execution_count": null,
      "outputs": []
    },
    {
      "cell_type": "code",
      "source": [
        "\n",
        "File3['open'].plot(figsize=(12,6), \n",
        "                  linestyle='--',color='black',\n",
        "                  legend='Open')\n",
        "\n",
        "File3['high'].plot(figsize=(12,6),\n",
        "                   linestyle='-',color='red',\n",
        "                   legend='High')\n",
        "\n",
        "File3['low'].plot(figsize=(12,6),\n",
        "                 linestyle=':',color='blue',\n",
        "                 legend='Low')\n",
        "\n",
        "\n",
        "File3['close'].plot(figsize=(12,6),\n",
        "                  linestyle='-',color='purple',\n",
        "                  legend='Close')"
      ],
      "metadata": {
        "id": "aPN9i9h3Ydbd"
      },
      "execution_count": null,
      "outputs": []
    },
    {
      "cell_type": "code",
      "source": [
        "no_outlier_prices = File3[(np.abs(stats.zscore(File3)) <\n",
        "3).all(axis=1)]"
      ],
      "metadata": {
        "id": "yGFt1GskpsGJ"
      },
      "execution_count": null,
      "outputs": []
    },
    {
      "cell_type": "code",
      "source": [
        "no_outlier_prices['high'].plot(figsize=(12,6), linestyle='--',\n",
        "color='black', legend='high')"
      ],
      "metadata": {
        "id": "kSie4BpYqa8R"
      },
      "execution_count": null,
      "outputs": []
    },
    {
      "cell_type": "code",
      "source": [
        "pd.set_option('display.max_rows', None)\n",
        "\n",
        "no_outlier_prices[['high']].describe()"
      ],
      "metadata": {
        "id": "_7kJ7-_Mw1pa"
      },
      "execution_count": null,
      "outputs": []
    },
    {
      "cell_type": "code",
      "source": [
        "File2.describe()"
      ],
      "metadata": {
        "id": "dMCNcaxy3p_e"
      },
      "execution_count": null,
      "outputs": []
    },
    {
      "cell_type": "markdown",
      "source": [
        "# **DOWNLOAD JSE STOCK PRICES USING MARKETSTACK AND YFINANCE**"
      ],
      "metadata": {
        "id": "pkft-F-8W1im"
      }
    },
    {
      "cell_type": "markdown",
      "source": [
        "**Install packages**"
      ],
      "metadata": {
        "id": "oOqMYPtEBnw_"
      }
    },
    {
      "cell_type": "code",
      "source": [
        "!pip install yfinance"
      ],
      "metadata": {
        "id": "IECOpw6H-TQX"
      },
      "execution_count": null,
      "outputs": []
    },
    {
      "cell_type": "code",
      "source": [
        "!pip install yahooquery"
      ],
      "metadata": {
        "id": "iAeOLNoS-X0q"
      },
      "execution_count": null,
      "outputs": []
    },
    {
      "cell_type": "markdown",
      "source": [
        "**Run programme**"
      ],
      "metadata": {
        "id": "MY58T5eLBt0Y"
      }
    },
    {
      "cell_type": "code",
      "source": [
        "#Import required libraries\n",
        "import pandas as pd\n",
        "import json\n",
        "import requests\n",
        "import glob\n",
        "import os\n",
        "from yahooquery import Ticker\n",
        "from datetime import datetime\n",
        "\n",
        "\n",
        "params = {'access_key': 'e52cf3b93696352e880916f8c8adbf0c',\n",
        "          'limit': 350}\n",
        "api_result = requests.get('http://api.marketstack.com/v1/exchanges/XJSE/tickers', params)\n",
        "api_response = api_result.json()\n",
        "print(f\"Exchange Name = {api_response['data']['name']}\")\n",
        "for ticker in api_response['data']['tickers']:\n",
        "  print(f\"{ticker['name']}: {ticker['symbol']}\")\n",
        "\n",
        "\n",
        "# Serializing json\n",
        "json_object = json.dumps(api_response, indent=4)\n",
        "# Writing to sample.json\n",
        "with open(\"jse.json\", \"w\") as outfile:\n",
        "    outfile.write(json_object)\n",
        "\n",
        "# Opening JSON file\n",
        "with open('jse.json', 'r') as openfile:\n",
        "    # Reading from json file\n",
        "    json_object = json.load(openfile)\n",
        "df1 = pd.json_normalize(json_object[\"data\"][\"tickers\"])\n",
        "\n",
        "# dropping null value columns to avoid errors\n",
        "# new data frame with split value columns\n",
        "new = df1[\"symbol\"].str.split(\".\", n = 1, expand = True)\n",
        "# making separate first name column from new data frame\n",
        "df1[\"ticker\"]= new[0]\n",
        "# Dropping old Name columns\n",
        "df1.drop(columns =[\"has_intraday\",\"has_eod\"], inplace = True)\n",
        "new.columns = new.columns.astype(str)\n",
        "new.columns.values[1] = \"tickers\"\n",
        "new['0'] + '.' + new['tickers']\n",
        "new.replace(\"XJSE\", \"JO\", inplace=True)\n",
        "\n",
        "result = pd.concat([df1, new], axis=1, join='inner')\n",
        "df2=result['0'] + '.' + result['tickers']\n",
        "final = pd.concat([df1, df2], axis=1, join='inner')\n",
        "final.columns.values[3] = \"tickers\"\n",
        "final.columns = final.columns.astype(str)\n",
        "#Dropping old Name columns\n",
        "final.drop(columns =[\"name\", \"symbol\",\"ticker\"], inplace = True)\n",
        "# Converting a specific Dataframe \n",
        "# column to list using Series.tolist()\n",
        "xjse = final[\"tickers\"].tolist()  \n",
        "print(\"Converting tickers to list...\")\n",
        "print(\"Output dataframe...\" )\n",
        "print(\"Writing csv file...\" )\n",
        "print(\"Saving JSE data to disc...\")\n",
        "print(\"Saving csv files for each stock to disc...\")  \n",
        "symbols = xjse\n",
        "tickers = Ticker(symbols, asynchronous=True)\n",
        "data = tickers.history(start='2020-01-01', end='2023-05-19', interval='1d')\n",
        "data= data.drop(['adjclose','dividends','splits'],axis=1)\n",
        "\n",
        "\n",
        "#Convert dataframe to csv and save to disc\n",
        "final.to_csv(\"tickers.csv\")\n",
        "data.to_csv(\"jse_stocks.csv\")\n",
        "\n",
        "resetindex = data.reset_index(inplace = True) \n",
        "\n",
        "for i, g in data.groupby('symbol'):\n",
        "    g.to_csv('/content/Stocks/{}.csv'.format(i), header=True, index_label=False)\n",
        "\n",
        "# merging the files\n",
        "joined_files = os.path.join(\"/content/Stocks/\", \"*.csv\")\n",
        "  \n",
        "# A list of all joined files is returned\n",
        "joined_list = glob.glob(joined_files)\n",
        "  \n",
        "# Finally, the files are joined\n",
        "df = pd.concat(map(pd.read_csv, joined_list), ignore_index=True)\n",
        "\n",
        "# new dataframe with different column order\n",
        "df_new = df.iloc[:, [1, 2, 3, 4, 5, 6, 0]]\n",
        "\n",
        "Tickers = df_new[\"symbol\"].tolist()\n",
        "mylist = list(dict.fromkeys(Tickers))\n",
        "df = pd.DataFrame (mylist, columns = ['tickers'])\n",
        "df.to_csv(\"/content/tickers.csv\")\n",
        "\n",
        "#Change date format to Year-Month-Day\n",
        "df_new['date'] =  pd.to_datetime(df_new['date']).dt.strftime('%Y-%m-%d')\n",
        "\n",
        "df_new.set_index('date', inplace=True)\n",
        "\n",
        "for i, g in df_new.groupby('symbol'):\n",
        "    g.to_csv('/content/Stocks_final/{}.csv'.format(i), header=True, index_label=False)"
      ],
      "metadata": {
        "id": "DCM0ZmyKXD-p",
        "colab": {
          "base_uri": "https://localhost:8080/"
        },
        "outputId": "53d8b7f3-c4ef-415a-df9c-41302af0c279"
      },
      "execution_count": 4,
      "outputs": [
        {
          "output_type": "stream",
          "name": "stdout",
          "text": [
            "Exchange Name = Johannesburg Stock Exchange\n",
            "PROSUS N.V.: PRX.XJSE\n",
            "ANHEUSER-BUSCH INBEV SA NV: ANH.XJSE\n",
            "BHP GROUP PLC: BHP.XJSE\n",
            "BRITISH AMERICAN TOB PLC: BTI.XJSE\n",
            "NASPERS LTD -N-: NPN.XJSE\n",
            "COMPAGNIE FIN RICHEMONT: CFR.XJSE\n",
            "GLENCORE PLC: GLN.XJSE\n",
            "ANGLO AMERICAN PLC: AGL.XJSE\n",
            "FIRSTRAND LTD: FSR.XJSE\n",
            "ANGLO AMERICAN PLAT LTD: AMS.XJSE\n",
            "STANDARD BANK GROUP LTD: SBK.XJSE\n",
            "VODACOM GROUP LTD: VOD.XJSE\n",
            "MONDI PLC: MNP.XJSE\n",
            "CAPITEC BANK HLDGS LTD: CPI.XJSE\n",
            "BEE - SASOL LIMITED: SOLBE1.XJSE\n",
            "SANLAM LIMITED: SLM.XJSE\n",
            "MTN GROUP LTD: MTN.XJSE\n",
            "ANGLOGOLD ASHANTI LTD: ANG.XJSE\n",
            "SASOL LIMITED: SOL.XJSE\n",
            "ABSA GROUP LIMITED: ABG.XJSE\n",
            "SOUTH32 LIMITED: S32.XJSE\n",
            "RMB HOLDINGS LTD: RMH.XJSE\n",
            "IMPALA PLATINUM HLGS LTD: IMP.XJSE\n",
            "BID CORPORATION LTD: BID.XJSE\n",
            "REMGRO LTD: REM.XJSE\n",
            "KUMBA IRON ORE LTD: KIO.XJSE\n",
            "NEDBANK GROUP LTD: NED.XJSE\n",
            "SIBANYE STILLWATER LTD: SSW.XJSE\n",
            "GOLD FIELDS LTD: GFI.XJSE\n",
            "INVESTEC LTD: INL.XJSE\n",
            "INVESTEC PLC: INP.XJSE\n",
            "OLD MUTUAL LIMITED: OMU.XJSE\n",
            "NEPI ROCKCASTLE PLC: NRP.XJSE\n",
            "DISCOVERY LTD: DSY.XJSE\n",
            "SHOPRITE HOLDINGS LTD: SHP.XJSE\n",
            "BIDVEST LTD: BVT.XJSE\n",
            "REINET INVESTMENTS S.C.A: RNI.XJSE\n",
            "CLICKS GROUP LTD: CLS.XJSE\n",
            "PEPKOR HOLDINGS LTD: PPH.XJSE\n",
            "QUILTER PLC: QLT.XJSE\n",
            "GROWTHPOINT PROP LTD: GRT.XJSE\n",
            "MEDICLINIC INT PLC: MEI.XJSE\n",
            "ASPEN PHARMACARE HLDGS LTD: APN.XJSE\n",
            "PSG GROUP LTD: PSG.XJSE\n",
            "MULTICHOICE GROUP LTD: MCG.XJSE\n",
            "MR PRICE GROUP LTD: MRP.XJSE\n",
            "NORTHAM PLATINUM LTD: NHM.XJSE\n",
            "RAND MERCHANT INV HLDGS LTD: RMI.XJSE\n",
            "FORTRESS REIT LTD A: FFA.XJSE\n",
            "WOOLWORTHS HOLDINGS LTD: WHL.XJSE\n",
            "CAPITAL&COUNTIES PROP PLC: CCO.XJSE\n",
            "LIFE HEALTHC GRP HLDGS LTD: LHC.XJSE\n",
            "HAMMERSON PLC: HMN.XJSE\n",
            "THE SPAR GROUP LTD: SPP.XJSE\n",
            "HARMONY GM CO LTD: HAR.XJSE\n",
            "REDEFINE PROPERTIES LTD: RDF.XJSE\n",
            "THE FOSCHINI GROUP LIMITED: TFG.XJSE\n",
            "EXXARO RESOURCES LTD: EXX.XJSE\n",
            "SANTAM LIMITED: SNT.XJSE\n",
            "AFRICAN RAINBOW MIN LTD: ARI.XJSE\n",
            "PICK N PAY STORES LTD: PIK.XJSE\n",
            "MOMENTUM MET HLDGS LTD: MTM.XJSE\n",
            "LIBERTY HOLDINGS LTD: LBH.XJSE\n",
            "VIVO ENERGY PLC: VVO.XJSE\n",
            "TIGER BRANDS LTD: TBS.XJSE\n",
            "NETCARE LIMITED: NTC.XJSE\n",
            "AVI LTD: AVI.XJSE\n",
            "DISTELL GROUP HLDGS LTD: DGH.XJSE\n",
            "PIONEER FOODS GROUP LTD: PFG.XJSE\n",
            "RESILIENT REIT LIMITED: RES.XJSE\n",
            "TRUWORTHS INT LTD: TRU.XJSE\n",
            "DIS-CHEM PHARMACIES LTD: DCP.XJSE\n",
            "ASSORE LTD: ASR.XJSE\n",
            "GLOBE TRADE CENTRE S.A.: GTC.XJSE\n",
            "BARLOWORLD LTD: BAW.XJSE\n",
            "SIRIUS REAL ESTATE LTD: SRE.XJSE\n",
            "SAPPI LTD: SAP.XJSE\n",
            "ITALTILE LTD: ITE.XJSE\n",
            "EPP N.V.: EPP.XJSE\n",
            "VUKILE PROPERTY FUND LTD: VKE.XJSE\n",
            "MOTUS HOLDINGS LTD: MTH.XJSE\n",
            "CORONATION FUND MNGRS LD: CML.XJSE\n",
            "TELKOM SA SOC LTD: TKG.XJSE\n",
            "ROYAL BAFOKENG PLATINUM LTD: RBP.XJSE\n",
            "MAS REAL ESTATE INC.: MSP.XJSE\n",
            "HYPROP INV LTD: HYP.XJSE\n",
            "TRANSACTION CAPITAL LTD: TCP.XJSE\n",
            "FORTRESS REIT LTD B: FFB.XJSE\n",
            "ARROWHEAD PROP LTD A: AHA.XJSE\n",
            "PSG KONSULT LIMITED: KST.XJSE\n",
            "AECI LIMITED: AFE.XJSE\n",
            "RCL FOODS LIMITED: RCL.XJSE\n",
            "MASSMART HOLDINGS LTD: MSM.XJSE\n",
            "EQUITES PROP FUND LTD: EQU.XJSE\n",
            "INVESTEC PROPERTY FUND LTD: IPF.XJSE\n",
            "REUNERT LTD: RLO.XJSE\n",
            "TSOGO SUN GAMING LTD: TSG.XJSE\n",
            "IMPERIAL LOGISTICS LTD: IPL.XJSE\n",
            "JSE LTD: JSE.XJSE\n",
            "DRD GOLD LTD: DRD.XJSE\n",
            "RDI REIT P.L.C: RPL.XJSE\n",
            "SUPER GROUP LTD: SPG.XJSE\n",
            "KAP INDUSTRIAL HLDGS LTD: KAP.XJSE\n",
            "ALLIED ELECTRONICS CORP A: AEL.XJSE\n",
            "TEXTAINER GROUP HLDGS LTD: TXT.XJSE\n",
            "ASTRAL FOODS LTD: ARL.XJSE\n",
            "ZEDER INV LTD: ZED.XJSE\n",
            "CARTRACK HOLDINGS LTD: CTK.XJSE\n",
            "ADCOCK INGRAM HLDGS LTD: AIP.XJSE\n",
            "STENPROP LIMITED: STP.XJSE\n",
            "ATTACQ LIMITED: ATT.XJSE\n",
            "OCEANA GROUP LTD: OCE.XJSE\n",
            "DATATEC LTD: DTC.XJSE\n",
            "EMIRA PROPERTY FUND LTD: EMI.XJSE\n",
            "MONTAUK HOLDINGS LTD: MNK.XJSE\n",
            "AFRICAN OXYGEN LIMITED: AFX.XJSE\n",
            "HOSKEN CONS INV LTD: HCI.XJSE\n",
            "ALEXANDER FORBES GRP HLDGS: AFH.XJSE\n",
            "STEINHOFF INT HLDGS N.V.: SNH.XJSE\n",
            "FAMOUS BRANDS LTD: FBR.XJSE\n",
            "WILSON BAYLY HLM-OVC LTD: WBO.XJSE\n",
            "SA CORP REAL ESTATE LTD: SAC.XJSE\n",
            "STOR-AGE PROP REIT LTD: SSS.XJSE\n",
            "ADVTECH LTD: ADH.XJSE\n",
            "TRUSTCO GROUP HLDGS LTD: TTO.XJSE\n",
            "LIBERTY TWO DEGREES LTD: L2D.XJSE\n",
            "LIGHTHOUSE CAPITAL LTD: LTE.XJSE\n",
            "GRIT REAL ESTATE INC GRP: GTR.XJSE\n",
            "CURRO HOLDINGS LIMITED: COH.XJSE\n",
            "DIPULA INCOME FUND A: DIA.XJSE\n",
            "PAN AFRICAN RESOURCE PLC: PAN.XJSE\n",
            "MIX TELEMATICS LTD: MIX.XJSE\n",
            "LIBSTAR HOLDINGS LTD: LBR.XJSE\n",
            "CLIENTELE LTD: CLI.XJSE\n",
            "RAVEN PROPERTY GROUP LTD: RAV.XJSE\n",
            "BRAIT SE: BAT.XJSE\n",
            "OMNIA HOLDINGS LTD: OMN.XJSE\n",
            "SEA HARVEST GROUP LTD: SHG.XJSE\n",
            "SUN INTERNATIONAL LTD: SUI.XJSE\n",
            "METAIR INVESTMENTS LTD: MTA.XJSE\n",
            "AFRIMAT LIMITED: AFT.XJSE\n",
            "CAPITAL & REGIONAL PLC: CRP.XJSE\n",
            "RAUBEX GROUP LTD: RBX.XJSE\n",
            "HOMECHOICE INT PLC: HIL.XJSE\n",
            "CASHBUILD LTD: CSB.XJSE\n",
            "RHODES FOOD GRP HLDG LTD: RFG.XJSE\n",
            "PEREGRINE HOLDINGS LIMITED: PGR.XJSE\n",
            "MURRAY & ROBERTS HLDGS: MUR.XJSE\n",
            "OCTODEC INVEST LTD: OCT.XJSE\n",
            "INTU PROPERTIES PLC: ITU.XJSE\n",
            "HOSPITALITY PROP FUND B: HPB.XJSE\n",
            "TSOGO SUN HOTELS LTD: TGO.XJSE\n",
            "ARROWHEAD PROP LTD B: AHB.XJSE\n",
            "THARISA PLC: THA.XJSE\n",
            "AFRICAN RAINBOW CAP INV: AIL.XJSE\n",
            "HUDACO INDUSTRIES LTD: HDC.XJSE\n",
            "EXEMPLAR REITAIL LTD: EXP.XJSE\n",
            "GRINDROD LTD: GND.XJSE\n",
            "NET 1 UEPS TECH INC: NT1.XJSE\n",
            "HERIOT REIT LIMITED: HET.XJSE\n",
            "ATLANTIC LEAF PROP LTD: ALP.XJSE\n",
            "SCHRODER EUR REIT PLC: SCD.XJSE\n",
            "LONG 4 LIFE LIMITED: L4L.XJSE\n",
            "FINBOND GROUP LTD: FGL.XJSE\n",
            "TRADEHOLD LTD: TDH.XJSE\n",
            "ACSION LIMITED: ACS.XJSE\n",
            "CAXTON CTP PUBLISH PRINT: CAT.XJSE\n",
            "PPC LIMITED: PPC.XJSE\n",
            "MPACT LIMITED: MPT.XJSE\n",
            "BLUE LABEL TELECOMS LTD: BLU.XJSE\n",
            "LEWIS GROUP LTD: LEW.XJSE\n",
            "SPUR CORPORATION LTD: SUR.XJSE\n",
            "GEMFIELDS GROUP LIMITED: GML.XJSE\n",
            "CITY LODGE HOTELS LTD: CLH.XJSE\n",
            "E MEDIA HOLDINGS LTD -N-: EMN.XJSE\n",
            "NAMPAK LTD: NPK.XJSE\n",
            "ENX GROUP LIMITED: ENX.XJSE\n",
            "KAAP AGRI LIMITED: KAL.XJSE\n",
            "FAIRVEST PROPERTY HLDGS: FVT.XJSE\n",
            "ALPHAMIN RESOURCES CORP: APH.XJSE\n",
            "SPEAR REIT LIMITED: SEA.XJSE\n",
            "SABVEST LTD: SBV.XJSE\n",
            "RENERGEN LIMITED: REN.XJSE\n",
            "AFROCENTRIC INV CORP LTD: ACT.XJSE\n",
            "BRIMSTONE INV CORP LTD-N: BRN.XJSE\n",
            "EPE CAPITAL PARTNERS LTD: EPE.XJSE\n",
            "BALWIN PROPERTIES LTD: BWN.XJSE\n",
            "BRIMSTONE INV CORP LTD: BRT.XJSE\n",
            "TRENCOR LTD: TRE.XJSE\n",
            "MASTER DRILLING GRP LTD: MDI.XJSE\n",
            "GRAND PARADE INV LTD: GPL.XJSE\n",
            "SABVEST LTD -N-: SVN.XJSE\n",
            "OANDO PLC: OAO.XJSE\n",
            "JUBILEE METALS GROUP PLC: JBL.XJSE\n",
            "COMBINED MOTOR HLDGS LTD: CMH.XJSE\n",
            "SYGNIA LIMITED: SYG.XJSE\n",
            "STADIO HOLDINGS LIMITED: SDO.XJSE\n",
            "E MEDIA HOLDINGS LTD: EMH.XJSE\n",
            "GRINDROD SHIPPING HLDG LTD: GSH.XJSE\n",
            "TOWER PROPERTY FUND LTD: TWR.XJSE\n",
            "ACCELERATE PROP FUND LTD: APF.XJSE\n",
            "METROFILE HOLDINGS LTD: MFL.XJSE\n",
            "SAFARI INVESTMENTS RSA LTD: SAR.XJSE\n",
            "MERAFE RESOURCES LTD: MRF.XJSE\n",
            "COMAIR LIMITED: COM.XJSE\n",
            "MTN ZAKHELE FUTHI: MTNZF.XJSE\n",
            "ADCORP HOLDINGS LIMITED: ADR.XJSE\n",
            "INDLUPLACE PROPERTIES LTD: ILU.XJSE\n",
            "DIPULA INCOME FUND B: DIB.XJSE\n",
            "HOSKEN PAX LOG AND RAIL: HPR.XJSE\n",
            "ARCELORMITTAL SA LIMITED: ACL.XJSE\n",
            "ALVIVA HOLDINGS LTD: AVV.XJSE\n",
            "INVICTA HOLDINGS LTD: IVT.XJSE\n",
            "ARB HOLDINGS LIMITED: ARH.XJSE\n",
            "TISO BLACKSTAR GROUP SE: TBG.XJSE\n",
            "ZARCLEAR HOLDINGS LTD: ZCL.XJSE\n",
            "TRANSCEND RES PROP FD LD: TPF.XJSE\n",
            "YEBOYETHU (RF) LTD: YYLBEE.XJSE\n",
            "CAPITAL APPRECIATION LTD: CTA.XJSE\n",
            "TEXTON PROPERTY FUND LTD: TEX.XJSE\n",
            "STELLAR CAP PARTNERS LTD: SCP.XJSE\n",
            "SASFIN HOLDINGS LTD: SFN.XJSE\n",
            "ANCHOR GROUP LIMITED: ACG.XJSE\n",
            "BELL EQUIPMENT LTD: BEL.XJSE\n",
            "HUGE GROUP LTD: HUG.XJSE\n",
            "MARSHALL MONTEAGLE PLC: MMP.XJSE\n",
            "WESIZWE PLATINUM LTD: WEZ.XJSE\n",
            "VALUE GROUP LTD: VLE.XJSE\n",
            "AYO TECH SOLUTIONS LTD: AYO.XJSE\n",
            "DENEB INVESTMENTS LTD: DNB.XJSE\n",
            "ONELOGIX GROUP LTD: OLG.XJSE\n",
            "NOVUS HOLDINGS LIMITED: NVS.XJSE\n",
            "QUANTUM FOODS HLDGS LTD: QFH.XJSE\n",
            "NU-WORLD HLDGS LTD: NWL.XJSE\n",
            "NVEST FINANCIAL HLDGS LTD: NVE.XJSE\n",
            "MC MINING LIMITED: MCZ.XJSE\n",
            "EOH HOLDINGS LTD: EOH.XJSE\n",
            "REBOSIS PROPERTY FUND LTD A: REA.XJSE\n",
            "HULAMIN LTD: HLM.XJSE\n",
            "NEWPARK REIT LTD: NRL.XJSE\n",
            "WESCOAL HOLDINGS LTD: WSL.XJSE\n",
            "TREMATON CAPITAL INV LTD: TMT.XJSE\n",
            "BOWLER METCALF LTD: BCF.XJSE\n",
            "MUSTEK LTD: MST.XJSE\n",
            "RH BOPHELO LIMITED: RHB.XJSE\n",
            "CROOKES BROTHERS LTD: CKS.XJSE\n",
            "ORION MINERALS LIMITED: ORN.XJSE\n",
            "AFRICAN PHOENIX INV LTD: AXL.XJSE\n",
            "EFFICIENT GROUP LTD: EFG.XJSE\n",
            "TRANSPACO LTD: TPC.XJSE\n",
            "TONGAAT HULETT LTD: TON.XJSE\n",
            "DELTA PROPERTY FUND LTD: DLT.XJSE\n",
            "RESOURCE GENERATION LTD: RSG.XJSE\n",
            "INSIMBI IND HLDGS LTD: ISB.XJSE\n",
            "AFRICAN EQUITY EMP INV LTD: AEE.XJSE\n",
            "AVENG GROUP LIMITED: AEG.XJSE\n",
            "REX TRUEFORM GROUP LTD: RTO.XJSE\n",
            "YORK TIMBER HOLDINGS LTD: YRK.XJSE\n",
            "REX TRUEFORM GROUP -N-: RTN.XJSE\n",
            "VUNANI LTD: VUN.XJSE\n",
            "KORE POTASH PLC: KP2.XJSE\n",
            "PURPLE GROUP LTD: PPE.XJSE\n",
            "CONDUIT CAPITAL LTD: CND.XJSE\n",
            "ARGENT INDUSTRIAL LTD: ART.XJSE\n",
            "TRELLIDOR HLDGS LTD: TRL.XJSE\n",
            "SANTOVA LOGISTICS LTD: SNV.XJSE\n",
            "AFRICAN & OVER ENT LTD -N: AON.XJSE\n",
            "CALGRO M3 HLDGS LTD: CGR.XJSE\n",
            "BUFFALO COAL CORP: BUC.XJSE\n",
            "AFRICAN & OVER ENT LTD: AOO.XJSE\n",
            "PREMIER FISHING BRANDS LTD: PFB.XJSE\n",
            "ASTORIA INVESTMENTS LTD: ARA.XJSE\n",
            "WORKFORCE HOLDINGS LTD: WKF.XJSE\n",
            "NIVEUS INVESTMENTS LTD: NIV.XJSE\n",
            "HULISANI LIMITED: HUL.XJSE\n",
            "PBT GROUP LIMITED: PBG.XJSE\n",
            "GAIA INFRASTRUCT CAP LTD: GAI.XJSE\n",
            "ADAPT IT HOLDINGS LTD: ADI.XJSE\n",
            "EASTERN PLATINUM LTD: EPS.XJSE\n",
            "ALARIS HOLDINGS LTD: ALH.XJSE\n",
            "CHROMETCO LTD: CMO.XJSE\n",
            "CONS INFRASTRUCTURE GRP LTD: CIL.XJSE\n",
            "REBOSIS PROPERTY FUND LTD: REB.XJSE\n",
            "ANDULELA INV HLDGS LTD: AND.XJSE\n",
            "LONDON FIN INV GROUP PLC: LNF.XJSE\n",
            "SEBATA HOLDINGS LTD: SEB.XJSE\n",
            "ASCENDIS HEALTH LTD: ASC.XJSE\n",
            "SEPHAKU HOLDINGS LTD: SEP.XJSE\n",
            "LABAT AFRICA LTD: LAB.XJSE\n",
            "AFRICAN MEDIA ENT LTD: AME.XJSE\n",
            "PHUMELELA GAME LEISURE: PHM.XJSE\n",
            "PUTPROP LTD: PPR.XJSE\n",
            "UNICORN CAPITAL PNR LTD: UCP.XJSE\n",
            "RANDGOLD & EXPL CO LTD: RNG.XJSE\n",
            "GO LIFE INTERNATIONAL LD: GLI.XJSE\n",
            "NUTRITIONAL HOLDINGS LTD: NUT.XJSE\n",
            "KIBO ENERGY PLC: KBO.XJSE\n",
            "EFORA ENERGY LIMITED: EEL.XJSE\n",
            "KAYDAV GROUP LTD: KDV.XJSE\n",
            "BAUBA RESOURCES LIMITED: BAU.XJSE\n",
            "COGNITION HOLDINGS LTD: CGN.XJSE\n",
            "ELB GROUP LTD: ELR.XJSE\n",
            "ISA HOLDINGS LIMITED: ISA.XJSE\n",
            "INDEQUITY GROUP LTD: IDQ.XJSE\n",
            "PSV HOLDINGS LTD: PSV.XJSE\n",
            "ADVANCED HEALTH LTD: AVL.XJSE\n",
            "CSG HOLDINGS LTD: CSG.XJSE\n",
            "PRIMESERV GROUP LTD: PMV.XJSE\n",
            "TASTE HLDGS LTD: TAS.XJSE\n",
            "ETION LIMITED: ETO.XJSE\n",
            "SOUTH OCEAN HOLDINGS LTD: SOH.XJSE\n",
            "ELLIES HOLDINGS LTD: ELI.XJSE\n",
            "NICTUS LTD: NCS.XJSE\n",
            "JASCO ELECTRON HLDGS LTD: JSC.XJSE\n",
            "STEFANUTI STCK HLDGS LTD: SSK.XJSE\n",
            "SILVERBRIDGE HOLDINGS: SVB.XJSE\n",
            "TELEMASTER HOLDINGS LTD: TLM.XJSE\n",
            "ECSPONENT LIMITED: ECS.XJSE\n",
            "EUROPA METALS LIMITED: EUZ.XJSE\n",
            "PEMBURY LIFESTYLE GRP LT: PEM.XJSE\n",
            "VISUAL INTERNATIONAL HLDGS LTD: VIS.XJSE\n",
            "SPANJAARD LIMITED: SPA.XJSE\n",
            "MAZOR GROUP LTD: MZR.XJSE\n",
            "AFRICAN DAWN CAPITAL LTD: ADW.XJSE\n",
            "ACCENTUATE LIMITED: ACE.XJSE\n",
            "ABSA BANK LTD PREF: ABSP.XJSE\n",
            "FIRSTRAND LTD B PREF: FSRP.XJSE\n",
            "STD BANK GROUP 6,5%PREF: SBKP.XJSE\n",
            "STANDARD BANK GROUP PREF: SBPP.XJSE\n",
            "INVESTEC LTD PREF: INPR.XJSE\n",
            "INVESTEC PLC PREF (RAND): INPPR.XJSE\n",
            "INVESTEC PLC PREF: INPP.XJSE\n",
            "DISCOVERY LTD B PREF: DSBP.XJSE\n",
            "NETCARE LIMITED PREF: NTCP.XJSE\n",
            "LIBERTY HLDGS 11C PREF: LBHP.XJSE\n",
            "CAPITEC BANK HLDGS PREF: CPIP.XJSE\n",
            "AECI LIMITED 5,5% PREF: AFEP.XJSE\n",
            "GRINDROD LTD PREF: GNDP.XJSE\n",
            "CAXTON CTP PUBLISH 6%PF: CATP.XJSE\n",
            "NAMPAK LTD 6%PREF: NPKP.XJSE\n",
            "PSG FINANCIAL SERV PREF: PGFP.XJSE\n",
            "INVICTA HLDGS LTD PREF: IVTP.XJSE\n",
            "SASFIN HLDGS LTD PREF: SFNP.XJSE\n",
            "RECM AND CALIBRE LIMITED: RACP.XJSE\n",
            "ECSPONENT PREF SHARE C2: ECSP6.XJSE\n",
            "4Sight Holdings Limited: 4SI.XJSE\n",
            "Arden Capital Limited: ACZ.XJSE\n",
            "AH-Vest Limited: AHL.XJSE\n",
            "Cloud Atlas AMI Big50 ex-SA ETF: AMIB50.XJSE\n",
            "Cloud Atlas (RF) Proprietary Limited - AMI Real Es: AMIRE.XJSE\n",
            "Converting tickers to list...\n",
            "Output dataframe...\n",
            "Writing csv file...\n",
            "Saving JSE data to disc...\n",
            "Saving csv files for each stock to disc...\n"
          ]
        }
      ]
    },
    {
      "cell_type": "code",
      "source": [
        "import os\n",
        "import pandas as pd\n",
        "directory = '/content/Stocks_final/'\n",
        "ext = ('.csv')\n",
        "\n",
        "for filename in os.listdir(directory):\n",
        "    f = os.path.join(directory, filename)\n",
        "    \n",
        "    if f.endswith(ext):\n",
        "            \n",
        "            head_tail = os.path.split(f) \n",
        "            head_tail1 = '/content/Stocks_final2/' \n",
        "            k =head_tail[1] \n",
        "            r=k.split(\".\")[0]\n",
        "          \n",
        "            p=head_tail1 + \"/\" + r + \".JO.csv\" \n",
        "\n",
        "            mydata = pd.read_csv(f)\n",
        "\n",
        "            resetindex = mydata.reset_index(inplace = True) \n",
        "            \n",
        "            mydata = mydata.rename(columns={'index': 'trading_date'}, index=None)\n",
        "\n",
        "            mydata.set_index('trading_date', inplace=True)\n",
        "\n",
        "            new =mydata[[\"open\",\"high\",\"low\",\"close\",\"volume\"]]\n",
        "\n",
        "            no_outlier_prices = new[(np.abs(stats.zscore(new)) <3).all(axis=1)]       \n",
        "            \n",
        "            no_outlier_prices.to_csv(p)"
      ],
      "metadata": {
        "id": "ToQ6MVhX8b2q"
      },
      "execution_count": 6,
      "outputs": []
    },
    {
      "cell_type": "code",
      "source": [
        "new.info()"
      ],
      "metadata": {
        "id": "DlOaVqTg9xVe"
      },
      "execution_count": null,
      "outputs": []
    },
    {
      "cell_type": "markdown",
      "source": [
        "#**TEST CODE HERE**"
      ],
      "metadata": {
        "id": "SCo0nvnDo2Y-"
      }
    },
    {
      "cell_type": "code",
      "source": [
        "import datetime\n",
        "import pandas as pd\n",
        "import yfinance as yf\n",
        "now = datetime.datetime.now().strftime(\"%Y-%m-%d\")\n",
        "data = yf.Ticker(\"^J203.JO\")\n",
        "data = data.history(start=\"2022-01-01\",  end=now)\n",
        "\n",
        "#data['Date'] = pd.to_datetime(data['Date']).dt.strftime('%Y-%m-%d')\n",
        "print(data)\n",
        "data.to_csv(\"allshareza.csv\")"
      ],
      "metadata": {
        "id": "aPDBKAgI7ZFT",
        "outputId": "3cf5c52d-1796-4d4f-ac74-919fc085bc87",
        "colab": {
          "base_uri": "https://localhost:8080/"
        }
      },
      "execution_count": 7,
      "outputs": [
        {
          "output_type": "stream",
          "name": "stdout",
          "text": [
            "                                   Open          High           Low  \\\n",
            "Date                                                                  \n",
            "2022-01-03 00:00:00+02:00  73709.390625  74290.929688  73638.718750   \n",
            "...                                 ...           ...           ...   \n",
            "2023-05-18 00:00:00+02:00  78390.742188  78675.718750  77067.140625   \n",
            "\n",
            "                                  Close  Volume  Dividends  Stock Splits  \n",
            "Date                                                                      \n",
            "2022-01-03 00:00:00+02:00  73722.601562       0        0.0           0.0  \n",
            "...                                 ...     ...        ...           ...  \n",
            "2023-05-18 00:00:00+02:00  77667.960938       0        0.0           0.0  \n",
            "\n",
            "[343 rows x 7 columns]\n"
          ]
        }
      ]
    },
    {
      "cell_type": "code",
      "source": [
        "resetindex = data.reset_index(inplace = True)"
      ],
      "metadata": {
        "id": "_kKSbulq-zbL"
      },
      "execution_count": 8,
      "outputs": []
    },
    {
      "cell_type": "code",
      "source": [
        "data['Date'] = pd.to_datetime(data['Date']).dt.strftime('%Y-%m-%d')"
      ],
      "metadata": {
        "id": "Z_S5-IQ0-GvE"
      },
      "execution_count": 9,
      "outputs": []
    },
    {
      "cell_type": "code",
      "source": [
        "data.to_csv(\" allshareza.csv \")"
      ],
      "metadata": {
        "id": "qwrzx-_w-493"
      },
      "execution_count": 10,
      "outputs": []
    },
    {
      "cell_type": "code",
      "source": [
        "df = pd.read_csv('/content/allshareza.csv')"
      ],
      "metadata": {
        "id": "Y5t402JJmBXj"
      },
      "execution_count": 22,
      "outputs": []
    },
    {
      "cell_type": "code",
      "source": [
        "print(df.head())"
      ],
      "metadata": {
        "id": "Xk5y57rrmzUD",
        "outputId": "c1e9c50d-c7fb-4acc-ebdc-3bd5ae254c3d",
        "colab": {
          "base_uri": "https://localhost:8080/"
        }
      },
      "execution_count": 14,
      "outputs": [
        {
          "output_type": "stream",
          "name": "stdout",
          "text": [
            "    Unnamed: 0        Date          Open          High          Low  \\\n",
            "0            0  2022-01-03  73709.390625  74290.929688  73638.71875   \n",
            "..         ...         ...           ...           ...          ...   \n",
            "4            4  2022-01-07  74165.250000  74348.679688  73757.28125   \n",
            "\n",
            "           Close  Volume  Dividends  Stock Splits  \n",
            "0   73722.601562       0        0.0           0.0  \n",
            "..           ...     ...        ...           ...  \n",
            "4   73939.710938       0        0.0           0.0  \n",
            "\n",
            "[5 rows x 9 columns]\n"
          ]
        }
      ]
    },
    {
      "cell_type": "code",
      "source": [
        "df = df.drop(columns=(['Open', 'High','Low','Volume','Dividends','Stock Splits']))"
      ],
      "metadata": {
        "id": "05zlyBgHmvrP"
      },
      "execution_count": 23,
      "outputs": []
    },
    {
      "cell_type": "code",
      "source": [
        "\n",
        "df.set_index('Date', inplace=True)\n",
        "df.drop(columns=['Unnamed: 0'], inplace=True)\n",
        "df.head()"
      ],
      "metadata": {
        "id": "iheoyQ0AoXmi",
        "outputId": "68d49d5f-6ae9-4272-a98d-25e36a71413f",
        "colab": {
          "base_uri": "https://localhost:8080/",
          "height": 204
        }
      },
      "execution_count": 24,
      "outputs": [
        {
          "output_type": "execute_result",
          "data": {
            "text/plain": [
              "                   Close\n",
              "Date                    \n",
              "2022-01-03  73722.601562\n",
              "...                  ...\n",
              "2022-01-07  73939.710938\n",
              "\n",
              "[5 rows x 1 columns]"
            ],
            "text/html": [
              "\n",
              "  <div id=\"df-22343ac9-0367-4acd-90a6-fc5f9d9268fd\">\n",
              "    <div class=\"colab-df-container\">\n",
              "      <div>\n",
              "<style scoped>\n",
              "    .dataframe tbody tr th:only-of-type {\n",
              "        vertical-align: middle;\n",
              "    }\n",
              "\n",
              "    .dataframe tbody tr th {\n",
              "        vertical-align: top;\n",
              "    }\n",
              "\n",
              "    .dataframe thead th {\n",
              "        text-align: right;\n",
              "    }\n",
              "</style>\n",
              "<table border=\"1\" class=\"dataframe\">\n",
              "  <thead>\n",
              "    <tr style=\"text-align: right;\">\n",
              "      <th></th>\n",
              "      <th>Close</th>\n",
              "    </tr>\n",
              "    <tr>\n",
              "      <th>Date</th>\n",
              "      <th></th>\n",
              "    </tr>\n",
              "  </thead>\n",
              "  <tbody>\n",
              "    <tr>\n",
              "      <th>2022-01-03</th>\n",
              "      <td>73722.601562</td>\n",
              "    </tr>\n",
              "    <tr>\n",
              "      <th>...</th>\n",
              "      <td>...</td>\n",
              "    </tr>\n",
              "    <tr>\n",
              "      <th>2022-01-07</th>\n",
              "      <td>73939.710938</td>\n",
              "    </tr>\n",
              "  </tbody>\n",
              "</table>\n",
              "<p>5 rows × 1 columns</p>\n",
              "</div>\n",
              "      <button class=\"colab-df-convert\" onclick=\"convertToInteractive('df-22343ac9-0367-4acd-90a6-fc5f9d9268fd')\"\n",
              "              title=\"Convert this dataframe to an interactive table.\"\n",
              "              style=\"display:none;\">\n",
              "        \n",
              "  <svg xmlns=\"http://www.w3.org/2000/svg\" height=\"24px\"viewBox=\"0 0 24 24\"\n",
              "       width=\"24px\">\n",
              "    <path d=\"M0 0h24v24H0V0z\" fill=\"none\"/>\n",
              "    <path d=\"M18.56 5.44l.94 2.06.94-2.06 2.06-.94-2.06-.94-.94-2.06-.94 2.06-2.06.94zm-11 1L8.5 8.5l.94-2.06 2.06-.94-2.06-.94L8.5 2.5l-.94 2.06-2.06.94zm10 10l.94 2.06.94-2.06 2.06-.94-2.06-.94-.94-2.06-.94 2.06-2.06.94z\"/><path d=\"M17.41 7.96l-1.37-1.37c-.4-.4-.92-.59-1.43-.59-.52 0-1.04.2-1.43.59L10.3 9.45l-7.72 7.72c-.78.78-.78 2.05 0 2.83L4 21.41c.39.39.9.59 1.41.59.51 0 1.02-.2 1.41-.59l7.78-7.78 2.81-2.81c.8-.78.8-2.07 0-2.86zM5.41 20L4 18.59l7.72-7.72 1.47 1.35L5.41 20z\"/>\n",
              "  </svg>\n",
              "      </button>\n",
              "      \n",
              "  <style>\n",
              "    .colab-df-container {\n",
              "      display:flex;\n",
              "      flex-wrap:wrap;\n",
              "      gap: 12px;\n",
              "    }\n",
              "\n",
              "    .colab-df-convert {\n",
              "      background-color: #E8F0FE;\n",
              "      border: none;\n",
              "      border-radius: 50%;\n",
              "      cursor: pointer;\n",
              "      display: none;\n",
              "      fill: #1967D2;\n",
              "      height: 32px;\n",
              "      padding: 0 0 0 0;\n",
              "      width: 32px;\n",
              "    }\n",
              "\n",
              "    .colab-df-convert:hover {\n",
              "      background-color: #E2EBFA;\n",
              "      box-shadow: 0px 1px 2px rgba(60, 64, 67, 0.3), 0px 1px 3px 1px rgba(60, 64, 67, 0.15);\n",
              "      fill: #174EA6;\n",
              "    }\n",
              "\n",
              "    [theme=dark] .colab-df-convert {\n",
              "      background-color: #3B4455;\n",
              "      fill: #D2E3FC;\n",
              "    }\n",
              "\n",
              "    [theme=dark] .colab-df-convert:hover {\n",
              "      background-color: #434B5C;\n",
              "      box-shadow: 0px 1px 3px 1px rgba(0, 0, 0, 0.15);\n",
              "      filter: drop-shadow(0px 1px 2px rgba(0, 0, 0, 0.3));\n",
              "      fill: #FFFFFF;\n",
              "    }\n",
              "  </style>\n",
              "\n",
              "      <script>\n",
              "        const buttonEl =\n",
              "          document.querySelector('#df-22343ac9-0367-4acd-90a6-fc5f9d9268fd button.colab-df-convert');\n",
              "        buttonEl.style.display =\n",
              "          google.colab.kernel.accessAllowed ? 'block' : 'none';\n",
              "\n",
              "        async function convertToInteractive(key) {\n",
              "          const element = document.querySelector('#df-22343ac9-0367-4acd-90a6-fc5f9d9268fd');\n",
              "          const dataTable =\n",
              "            await google.colab.kernel.invokeFunction('convertToInteractive',\n",
              "                                                     [key], {});\n",
              "          if (!dataTable) return;\n",
              "\n",
              "          const docLinkHtml = 'Like what you see? Visit the ' +\n",
              "            '<a target=\"_blank\" href=https://colab.research.google.com/notebooks/data_table.ipynb>data table notebook</a>'\n",
              "            + ' to learn more about interactive tables.';\n",
              "          element.innerHTML = '';\n",
              "          dataTable['output_type'] = 'display_data';\n",
              "          await google.colab.output.renderOutput(dataTable, element);\n",
              "          const docLink = document.createElement('div');\n",
              "          docLink.innerHTML = docLinkHtml;\n",
              "          element.appendChild(docLink);\n",
              "        }\n",
              "      </script>\n",
              "    </div>\n",
              "  </div>\n",
              "  "
            ]
          },
          "metadata": {},
          "execution_count": 24
        }
      ]
    },
    {
      "cell_type": "code",
      "source": [
        "\n",
        "pd.set_option('display.max_rows', None)\n",
        "\n",
        "df.describe()"
      ],
      "metadata": {
        "id": "N-ScG5bipeRN",
        "outputId": "30427b60-6a05-428b-8154-8224a0132797",
        "colab": {
          "base_uri": "https://localhost:8080/",
          "height": 300
        }
      },
      "execution_count": 26,
      "outputs": [
        {
          "output_type": "execute_result",
          "data": {
            "text/plain": [
              "              Close\n",
              "count    343.000000\n",
              "mean   72640.952749\n",
              "std     4648.851078\n",
              "min    63263.941406\n",
              "25%    68347.382812\n",
              "50%    73382.828125\n",
              "75%    76300.800781\n",
              "max    80791.359375"
            ],
            "text/html": [
              "\n",
              "  <div id=\"df-7a38066b-3b52-4b0d-b516-085cea00c5ee\">\n",
              "    <div class=\"colab-df-container\">\n",
              "      <div>\n",
              "<style scoped>\n",
              "    .dataframe tbody tr th:only-of-type {\n",
              "        vertical-align: middle;\n",
              "    }\n",
              "\n",
              "    .dataframe tbody tr th {\n",
              "        vertical-align: top;\n",
              "    }\n",
              "\n",
              "    .dataframe thead th {\n",
              "        text-align: right;\n",
              "    }\n",
              "</style>\n",
              "<table border=\"1\" class=\"dataframe\">\n",
              "  <thead>\n",
              "    <tr style=\"text-align: right;\">\n",
              "      <th></th>\n",
              "      <th>Close</th>\n",
              "    </tr>\n",
              "  </thead>\n",
              "  <tbody>\n",
              "    <tr>\n",
              "      <th>count</th>\n",
              "      <td>343.000000</td>\n",
              "    </tr>\n",
              "    <tr>\n",
              "      <th>mean</th>\n",
              "      <td>72640.952749</td>\n",
              "    </tr>\n",
              "    <tr>\n",
              "      <th>std</th>\n",
              "      <td>4648.851078</td>\n",
              "    </tr>\n",
              "    <tr>\n",
              "      <th>min</th>\n",
              "      <td>63263.941406</td>\n",
              "    </tr>\n",
              "    <tr>\n",
              "      <th>25%</th>\n",
              "      <td>68347.382812</td>\n",
              "    </tr>\n",
              "    <tr>\n",
              "      <th>50%</th>\n",
              "      <td>73382.828125</td>\n",
              "    </tr>\n",
              "    <tr>\n",
              "      <th>75%</th>\n",
              "      <td>76300.800781</td>\n",
              "    </tr>\n",
              "    <tr>\n",
              "      <th>max</th>\n",
              "      <td>80791.359375</td>\n",
              "    </tr>\n",
              "  </tbody>\n",
              "</table>\n",
              "</div>\n",
              "      <button class=\"colab-df-convert\" onclick=\"convertToInteractive('df-7a38066b-3b52-4b0d-b516-085cea00c5ee')\"\n",
              "              title=\"Convert this dataframe to an interactive table.\"\n",
              "              style=\"display:none;\">\n",
              "        \n",
              "  <svg xmlns=\"http://www.w3.org/2000/svg\" height=\"24px\"viewBox=\"0 0 24 24\"\n",
              "       width=\"24px\">\n",
              "    <path d=\"M0 0h24v24H0V0z\" fill=\"none\"/>\n",
              "    <path d=\"M18.56 5.44l.94 2.06.94-2.06 2.06-.94-2.06-.94-.94-2.06-.94 2.06-2.06.94zm-11 1L8.5 8.5l.94-2.06 2.06-.94-2.06-.94L8.5 2.5l-.94 2.06-2.06.94zm10 10l.94 2.06.94-2.06 2.06-.94-2.06-.94-.94-2.06-.94 2.06-2.06.94z\"/><path d=\"M17.41 7.96l-1.37-1.37c-.4-.4-.92-.59-1.43-.59-.52 0-1.04.2-1.43.59L10.3 9.45l-7.72 7.72c-.78.78-.78 2.05 0 2.83L4 21.41c.39.39.9.59 1.41.59.51 0 1.02-.2 1.41-.59l7.78-7.78 2.81-2.81c.8-.78.8-2.07 0-2.86zM5.41 20L4 18.59l7.72-7.72 1.47 1.35L5.41 20z\"/>\n",
              "  </svg>\n",
              "      </button>\n",
              "      \n",
              "  <style>\n",
              "    .colab-df-container {\n",
              "      display:flex;\n",
              "      flex-wrap:wrap;\n",
              "      gap: 12px;\n",
              "    }\n",
              "\n",
              "    .colab-df-convert {\n",
              "      background-color: #E8F0FE;\n",
              "      border: none;\n",
              "      border-radius: 50%;\n",
              "      cursor: pointer;\n",
              "      display: none;\n",
              "      fill: #1967D2;\n",
              "      height: 32px;\n",
              "      padding: 0 0 0 0;\n",
              "      width: 32px;\n",
              "    }\n",
              "\n",
              "    .colab-df-convert:hover {\n",
              "      background-color: #E2EBFA;\n",
              "      box-shadow: 0px 1px 2px rgba(60, 64, 67, 0.3), 0px 1px 3px 1px rgba(60, 64, 67, 0.15);\n",
              "      fill: #174EA6;\n",
              "    }\n",
              "\n",
              "    [theme=dark] .colab-df-convert {\n",
              "      background-color: #3B4455;\n",
              "      fill: #D2E3FC;\n",
              "    }\n",
              "\n",
              "    [theme=dark] .colab-df-convert:hover {\n",
              "      background-color: #434B5C;\n",
              "      box-shadow: 0px 1px 3px 1px rgba(0, 0, 0, 0.15);\n",
              "      filter: drop-shadow(0px 1px 2px rgba(0, 0, 0, 0.3));\n",
              "      fill: #FFFFFF;\n",
              "    }\n",
              "  </style>\n",
              "\n",
              "      <script>\n",
              "        const buttonEl =\n",
              "          document.querySelector('#df-7a38066b-3b52-4b0d-b516-085cea00c5ee button.colab-df-convert');\n",
              "        buttonEl.style.display =\n",
              "          google.colab.kernel.accessAllowed ? 'block' : 'none';\n",
              "\n",
              "        async function convertToInteractive(key) {\n",
              "          const element = document.querySelector('#df-7a38066b-3b52-4b0d-b516-085cea00c5ee');\n",
              "          const dataTable =\n",
              "            await google.colab.kernel.invokeFunction('convertToInteractive',\n",
              "                                                     [key], {});\n",
              "          if (!dataTable) return;\n",
              "\n",
              "          const docLinkHtml = 'Like what you see? Visit the ' +\n",
              "            '<a target=\"_blank\" href=https://colab.research.google.com/notebooks/data_table.ipynb>data table notebook</a>'\n",
              "            + ' to learn more about interactive tables.';\n",
              "          element.innerHTML = '';\n",
              "          dataTable['output_type'] = 'display_data';\n",
              "          await google.colab.output.renderOutput(dataTable, element);\n",
              "          const docLink = document.createElement('div');\n",
              "          docLink.innerHTML = docLinkHtml;\n",
              "          element.appendChild(docLink);\n",
              "        }\n",
              "      </script>\n",
              "    </div>\n",
              "  </div>\n",
              "  "
            ]
          },
          "metadata": {},
          "execution_count": 26
        }
      ]
    },
    {
      "cell_type": "code",
      "source": [
        "\n",
        "import pandas as pd\n",
        "import numpy as np\n",
        "import matplotlib.pyplot as plt\n",
        "import seaborn as sns\n",
        "import plotly.express as px"
      ],
      "metadata": {
        "id": "EHClIP4LqnWU"
      },
      "execution_count": 36,
      "outputs": []
    },
    {
      "cell_type": "code",
      "source": [
        "\n",
        "fig = px.histogram(df, x='Close')\n",
        "fig.show()"
      ],
      "metadata": {
        "id": "_NHypPYLq4wt",
        "outputId": "261dcf0c-e5bd-4ec0-c592-514283f69326",
        "colab": {
          "base_uri": "https://localhost:8080/",
          "height": 542
        }
      },
      "execution_count": 30,
      "outputs": [
        {
          "output_type": "display_data",
          "data": {
            "text/html": [
              "<html>\n",
              "<head><meta charset=\"utf-8\" /></head>\n",
              "<body>\n",
              "    <div>            <script src=\"https://cdnjs.cloudflare.com/ajax/libs/mathjax/2.7.5/MathJax.js?config=TeX-AMS-MML_SVG\"></script><script type=\"text/javascript\">if (window.MathJax && window.MathJax.Hub && window.MathJax.Hub.Config) {window.MathJax.Hub.Config({SVG: {font: \"STIX-Web\"}});}</script>                <script type=\"text/javascript\">window.PlotlyConfig = {MathJaxConfig: 'local'};</script>\n",
              "        <script src=\"https://cdn.plot.ly/plotly-2.18.2.min.js\"></script>                <div id=\"76e591f5-1e00-46aa-a06e-5f01231ad639\" class=\"plotly-graph-div\" style=\"height:525px; width:100%;\"></div>            <script type=\"text/javascript\">                                    window.PLOTLYENV=window.PLOTLYENV || {};                                    if (document.getElementById(\"76e591f5-1e00-46aa-a06e-5f01231ad639\")) {                    Plotly.newPlot(                        \"76e591f5-1e00-46aa-a06e-5f01231ad639\",                        [{\"alignmentgroup\":\"True\",\"bingroup\":\"x\",\"hovertemplate\":\"Close=%{x}<br>count=%{y}<extra></extra>\",\"legendgroup\":\"\",\"marker\":{\"color\":\"#636efa\",\"pattern\":{\"shape\":\"\"}},\"name\":\"\",\"offsetgroup\":\"\",\"orientation\":\"v\",\"showlegend\":false,\"x\":[73722.6015625,75052.0625,75060.921875,74165.25,73939.7109375,73830.46875,73971.4296875,75884.75,75925.546875,75160.2109375,75593.46875,74955.65625,76176.1484375,76233.2578125,74834.5234375,72164.0234375,72314.8125,73797.328125,73504.0390625,73454.9609375,74304.5625,74889.171875,75190.7421875,75021.671875,75206.0,75679.5625,76090.5234375,76690.921875,76585.1875,76382.953125,75765.15625,75853.15625,76502.59375,76154.6875,76368.34375,75528.4609375,75653.84375,74987.046875,73697.109375,74205.6875,76090.5078125,77110.6875,77536.1171875,77390.8515625,74734.3671875,73295.8828125,72398.6171875,72684.8203125,73889.40625,73685.890625,71903.71875,70628.203125,73484.296875,74124.2734375,74847.6328125,75751.40625,74838.09375,74349.9375,74324.671875,74194.3515625,74776.390625,75425.3125,75497.1484375,75907.8984375,75835.0703125,75286.609375,74359.03125,74008.0703125,74776.109375,74426.3984375,73801.8828125,73128.6484375,73382.828125,73830.2734375,73783.4296875,73350.9375,72264.8984375,69750.671875,70264.109375,71534.5703125,72438.25,71338.9921875,70357.578125,69682.6484375,67978.140625,66769.1171875,66966.7265625,68416.40625,67251.890625,68650.65625,69211.7578125,69696.390625,69083.4375,68245.84375,67575.28125,68367.3671875,67690.71875,67585.25,69483.7578125,70485.4609375,71958.1484375,72094.8671875,70849.3828125,71035.0,70920.453125,71120.09375,70318.2265625,69950.2109375,68910.796875,67803.5078125,66381.03125,65683.5234375,67502.09375,65390.87890625,66350.3125,66747.2265625,65712.6796875,65295.421875,66348.75,67826.78125,68058.1171875,67747.40625,66223.3125,65661.7265625,67024.8203125,65005.80859375,65756.359375,67909.2890625,68327.3984375,67226.75,67163.7109375,66142.6875,64712.87890625,65088.8984375,67016.140625,67785.0390625,67652.4609375,67907.2421875,68069.578125,67749.7890625,68421.796875,68424.96875,68610.75,68934.0078125,68642.59375,68002.2265625,68610.5703125,68717.0234375,69519.2734375,70266.1328125,69744.8984375,71264.7734375,70731.3203125,70740.6328125,71504.6875,70967.3515625,71011.3828125,69719.4296875,69195.6015625,69772.2734375,69808.7109375,70340.703125,70173.09375,69207.0234375,67900.4765625,67257.140625,66021.7109375,67378.3125,67399.390625,67538.7734375,66715.828125,67260.2265625,68708.4765625,69772.40625,68273.7109375,67964.0234375,67568.2578125,66584.34375,66474.859375,66602.84375,66208.7109375,65276.96875,63416.66015625,63625.66015625,64025.94921875,63808.3203125,63263.94140625,63726.37109375,64227.23046875,66312.828125,65612.7578125,65832.671875,65675.4765625,64769.19921875,64588.08984375,64528.23046875,64392.4296875,64271.359375,66190.75,66350.9765625,65652.5,65794.28125,65539.2421875,64975.94921875,65850.84375,67103.09375,67123.40625,66385.578125,66671.6484375,67414.2734375,67123.1015625,66046.6484375,69305.1875,69439.3203125,69011.453125,69640.2265625,70710.2734375,72982.796875,72822.46875,72998.6875,72607.4609375,72155.2890625,72576.859375,71938.0078125,72242.328125,72891.453125,73127.34375,73151.3828125,73368.25,73127.921875,74828.0,75020.0078125,74322.90625,74693.421875,74557.3125,74011.1171875,74467.2578125,74548.140625,74422.1796875,75835.453125,74294.671875,72989.34375,73359.6015625,73040.5078125,73836.90625,73225.1328125,73493.46875,74277.5625,73597.140625,73048.5703125,74436.4765625,74567.609375,75439.296875,76858.9375,78342.703125,78000.3125,78522.1015625,78627.546875,79333.71875,79167.796875,79385.109375,79865.4765625,79505.0625,79269.7734375,80128.6328125,80037.0078125,79725.4609375,80508.96875,80791.359375,80324.859375,79476.6015625,79816.8671875,79802.09375,80240.921875,79582.828125,79534.21875,79975.59375,80021.09375,78985.3515625,79770.2109375,79858.0234375,79471.7578125,80227.1875,79271.78125,79829.390625,78811.046875,78170.140625,79010.828125,76937.7734375,77513.78125,77733.8671875,78631.453125,77547.0078125,78293.0078125,78697.828125,78556.5390625,77741.828125,77664.046875,76454.359375,75502.28125,75008.6796875,72895.5390625,72905.5,72527.921875,74271.0625,75243.4375,75585.2265625,74695.0390625,75283.6796875,76047.34375,76480.109375,76704.6328125,76100.171875,76614.9609375,77458.578125,76656.421875,77113.703125,77990.5390625,77740.6875,78462.7734375,78870.359375,78723.703125,79294.7578125,78796.859375,78883.2578125,77910.9609375,78121.3671875,77891.1328125,78122.1171875,78218.3671875,77532.8984375,78218.6015625,77271.1328125,78132.7734375,78572.328125,77776.8671875,77775.0234375,76997.15625,78330.203125,78261.6484375,77973.0234375,78390.7421875,77667.9609375],\"xaxis\":\"x\",\"yaxis\":\"y\",\"type\":\"histogram\"}],                        {\"template\":{\"data\":{\"histogram2dcontour\":[{\"type\":\"histogram2dcontour\",\"colorbar\":{\"outlinewidth\":0,\"ticks\":\"\"},\"colorscale\":[[0.0,\"#0d0887\"],[0.1111111111111111,\"#46039f\"],[0.2222222222222222,\"#7201a8\"],[0.3333333333333333,\"#9c179e\"],[0.4444444444444444,\"#bd3786\"],[0.5555555555555556,\"#d8576b\"],[0.6666666666666666,\"#ed7953\"],[0.7777777777777778,\"#fb9f3a\"],[0.8888888888888888,\"#fdca26\"],[1.0,\"#f0f921\"]]}],\"choropleth\":[{\"type\":\"choropleth\",\"colorbar\":{\"outlinewidth\":0,\"ticks\":\"\"}}],\"histogram2d\":[{\"type\":\"histogram2d\",\"colorbar\":{\"outlinewidth\":0,\"ticks\":\"\"},\"colorscale\":[[0.0,\"#0d0887\"],[0.1111111111111111,\"#46039f\"],[0.2222222222222222,\"#7201a8\"],[0.3333333333333333,\"#9c179e\"],[0.4444444444444444,\"#bd3786\"],[0.5555555555555556,\"#d8576b\"],[0.6666666666666666,\"#ed7953\"],[0.7777777777777778,\"#fb9f3a\"],[0.8888888888888888,\"#fdca26\"],[1.0,\"#f0f921\"]]}],\"heatmap\":[{\"type\":\"heatmap\",\"colorbar\":{\"outlinewidth\":0,\"ticks\":\"\"},\"colorscale\":[[0.0,\"#0d0887\"],[0.1111111111111111,\"#46039f\"],[0.2222222222222222,\"#7201a8\"],[0.3333333333333333,\"#9c179e\"],[0.4444444444444444,\"#bd3786\"],[0.5555555555555556,\"#d8576b\"],[0.6666666666666666,\"#ed7953\"],[0.7777777777777778,\"#fb9f3a\"],[0.8888888888888888,\"#fdca26\"],[1.0,\"#f0f921\"]]}],\"heatmapgl\":[{\"type\":\"heatmapgl\",\"colorbar\":{\"outlinewidth\":0,\"ticks\":\"\"},\"colorscale\":[[0.0,\"#0d0887\"],[0.1111111111111111,\"#46039f\"],[0.2222222222222222,\"#7201a8\"],[0.3333333333333333,\"#9c179e\"],[0.4444444444444444,\"#bd3786\"],[0.5555555555555556,\"#d8576b\"],[0.6666666666666666,\"#ed7953\"],[0.7777777777777778,\"#fb9f3a\"],[0.8888888888888888,\"#fdca26\"],[1.0,\"#f0f921\"]]}],\"contourcarpet\":[{\"type\":\"contourcarpet\",\"colorbar\":{\"outlinewidth\":0,\"ticks\":\"\"}}],\"contour\":[{\"type\":\"contour\",\"colorbar\":{\"outlinewidth\":0,\"ticks\":\"\"},\"colorscale\":[[0.0,\"#0d0887\"],[0.1111111111111111,\"#46039f\"],[0.2222222222222222,\"#7201a8\"],[0.3333333333333333,\"#9c179e\"],[0.4444444444444444,\"#bd3786\"],[0.5555555555555556,\"#d8576b\"],[0.6666666666666666,\"#ed7953\"],[0.7777777777777778,\"#fb9f3a\"],[0.8888888888888888,\"#fdca26\"],[1.0,\"#f0f921\"]]}],\"surface\":[{\"type\":\"surface\",\"colorbar\":{\"outlinewidth\":0,\"ticks\":\"\"},\"colorscale\":[[0.0,\"#0d0887\"],[0.1111111111111111,\"#46039f\"],[0.2222222222222222,\"#7201a8\"],[0.3333333333333333,\"#9c179e\"],[0.4444444444444444,\"#bd3786\"],[0.5555555555555556,\"#d8576b\"],[0.6666666666666666,\"#ed7953\"],[0.7777777777777778,\"#fb9f3a\"],[0.8888888888888888,\"#fdca26\"],[1.0,\"#f0f921\"]]}],\"mesh3d\":[{\"type\":\"mesh3d\",\"colorbar\":{\"outlinewidth\":0,\"ticks\":\"\"}}],\"scatter\":[{\"fillpattern\":{\"fillmode\":\"overlay\",\"size\":10,\"solidity\":0.2},\"type\":\"scatter\"}],\"parcoords\":[{\"type\":\"parcoords\",\"line\":{\"colorbar\":{\"outlinewidth\":0,\"ticks\":\"\"}}}],\"scatterpolargl\":[{\"type\":\"scatterpolargl\",\"marker\":{\"colorbar\":{\"outlinewidth\":0,\"ticks\":\"\"}}}],\"bar\":[{\"error_x\":{\"color\":\"#2a3f5f\"},\"error_y\":{\"color\":\"#2a3f5f\"},\"marker\":{\"line\":{\"color\":\"#E5ECF6\",\"width\":0.5},\"pattern\":{\"fillmode\":\"overlay\",\"size\":10,\"solidity\":0.2}},\"type\":\"bar\"}],\"scattergeo\":[{\"type\":\"scattergeo\",\"marker\":{\"colorbar\":{\"outlinewidth\":0,\"ticks\":\"\"}}}],\"scatterpolar\":[{\"type\":\"scatterpolar\",\"marker\":{\"colorbar\":{\"outlinewidth\":0,\"ticks\":\"\"}}}],\"histogram\":[{\"marker\":{\"pattern\":{\"fillmode\":\"overlay\",\"size\":10,\"solidity\":0.2}},\"type\":\"histogram\"}],\"scattergl\":[{\"type\":\"scattergl\",\"marker\":{\"colorbar\":{\"outlinewidth\":0,\"ticks\":\"\"}}}],\"scatter3d\":[{\"type\":\"scatter3d\",\"line\":{\"colorbar\":{\"outlinewidth\":0,\"ticks\":\"\"}},\"marker\":{\"colorbar\":{\"outlinewidth\":0,\"ticks\":\"\"}}}],\"scattermapbox\":[{\"type\":\"scattermapbox\",\"marker\":{\"colorbar\":{\"outlinewidth\":0,\"ticks\":\"\"}}}],\"scatterternary\":[{\"type\":\"scatterternary\",\"marker\":{\"colorbar\":{\"outlinewidth\":0,\"ticks\":\"\"}}}],\"scattercarpet\":[{\"type\":\"scattercarpet\",\"marker\":{\"colorbar\":{\"outlinewidth\":0,\"ticks\":\"\"}}}],\"carpet\":[{\"aaxis\":{\"endlinecolor\":\"#2a3f5f\",\"gridcolor\":\"white\",\"linecolor\":\"white\",\"minorgridcolor\":\"white\",\"startlinecolor\":\"#2a3f5f\"},\"baxis\":{\"endlinecolor\":\"#2a3f5f\",\"gridcolor\":\"white\",\"linecolor\":\"white\",\"minorgridcolor\":\"white\",\"startlinecolor\":\"#2a3f5f\"},\"type\":\"carpet\"}],\"table\":[{\"cells\":{\"fill\":{\"color\":\"#EBF0F8\"},\"line\":{\"color\":\"white\"}},\"header\":{\"fill\":{\"color\":\"#C8D4E3\"},\"line\":{\"color\":\"white\"}},\"type\":\"table\"}],\"barpolar\":[{\"marker\":{\"line\":{\"color\":\"#E5ECF6\",\"width\":0.5},\"pattern\":{\"fillmode\":\"overlay\",\"size\":10,\"solidity\":0.2}},\"type\":\"barpolar\"}],\"pie\":[{\"automargin\":true,\"type\":\"pie\"}]},\"layout\":{\"autotypenumbers\":\"strict\",\"colorway\":[\"#636efa\",\"#EF553B\",\"#00cc96\",\"#ab63fa\",\"#FFA15A\",\"#19d3f3\",\"#FF6692\",\"#B6E880\",\"#FF97FF\",\"#FECB52\"],\"font\":{\"color\":\"#2a3f5f\"},\"hovermode\":\"closest\",\"hoverlabel\":{\"align\":\"left\"},\"paper_bgcolor\":\"white\",\"plot_bgcolor\":\"#E5ECF6\",\"polar\":{\"bgcolor\":\"#E5ECF6\",\"angularaxis\":{\"gridcolor\":\"white\",\"linecolor\":\"white\",\"ticks\":\"\"},\"radialaxis\":{\"gridcolor\":\"white\",\"linecolor\":\"white\",\"ticks\":\"\"}},\"ternary\":{\"bgcolor\":\"#E5ECF6\",\"aaxis\":{\"gridcolor\":\"white\",\"linecolor\":\"white\",\"ticks\":\"\"},\"baxis\":{\"gridcolor\":\"white\",\"linecolor\":\"white\",\"ticks\":\"\"},\"caxis\":{\"gridcolor\":\"white\",\"linecolor\":\"white\",\"ticks\":\"\"}},\"coloraxis\":{\"colorbar\":{\"outlinewidth\":0,\"ticks\":\"\"}},\"colorscale\":{\"sequential\":[[0.0,\"#0d0887\"],[0.1111111111111111,\"#46039f\"],[0.2222222222222222,\"#7201a8\"],[0.3333333333333333,\"#9c179e\"],[0.4444444444444444,\"#bd3786\"],[0.5555555555555556,\"#d8576b\"],[0.6666666666666666,\"#ed7953\"],[0.7777777777777778,\"#fb9f3a\"],[0.8888888888888888,\"#fdca26\"],[1.0,\"#f0f921\"]],\"sequentialminus\":[[0.0,\"#0d0887\"],[0.1111111111111111,\"#46039f\"],[0.2222222222222222,\"#7201a8\"],[0.3333333333333333,\"#9c179e\"],[0.4444444444444444,\"#bd3786\"],[0.5555555555555556,\"#d8576b\"],[0.6666666666666666,\"#ed7953\"],[0.7777777777777778,\"#fb9f3a\"],[0.8888888888888888,\"#fdca26\"],[1.0,\"#f0f921\"]],\"diverging\":[[0,\"#8e0152\"],[0.1,\"#c51b7d\"],[0.2,\"#de77ae\"],[0.3,\"#f1b6da\"],[0.4,\"#fde0ef\"],[0.5,\"#f7f7f7\"],[0.6,\"#e6f5d0\"],[0.7,\"#b8e186\"],[0.8,\"#7fbc41\"],[0.9,\"#4d9221\"],[1,\"#276419\"]]},\"xaxis\":{\"gridcolor\":\"white\",\"linecolor\":\"white\",\"ticks\":\"\",\"title\":{\"standoff\":15},\"zerolinecolor\":\"white\",\"automargin\":true,\"zerolinewidth\":2},\"yaxis\":{\"gridcolor\":\"white\",\"linecolor\":\"white\",\"ticks\":\"\",\"title\":{\"standoff\":15},\"zerolinecolor\":\"white\",\"automargin\":true,\"zerolinewidth\":2},\"scene\":{\"xaxis\":{\"backgroundcolor\":\"#E5ECF6\",\"gridcolor\":\"white\",\"linecolor\":\"white\",\"showbackground\":true,\"ticks\":\"\",\"zerolinecolor\":\"white\",\"gridwidth\":2},\"yaxis\":{\"backgroundcolor\":\"#E5ECF6\",\"gridcolor\":\"white\",\"linecolor\":\"white\",\"showbackground\":true,\"ticks\":\"\",\"zerolinecolor\":\"white\",\"gridwidth\":2},\"zaxis\":{\"backgroundcolor\":\"#E5ECF6\",\"gridcolor\":\"white\",\"linecolor\":\"white\",\"showbackground\":true,\"ticks\":\"\",\"zerolinecolor\":\"white\",\"gridwidth\":2}},\"shapedefaults\":{\"line\":{\"color\":\"#2a3f5f\"}},\"annotationdefaults\":{\"arrowcolor\":\"#2a3f5f\",\"arrowhead\":0,\"arrowwidth\":1},\"geo\":{\"bgcolor\":\"white\",\"landcolor\":\"#E5ECF6\",\"subunitcolor\":\"white\",\"showland\":true,\"showlakes\":true,\"lakecolor\":\"white\"},\"title\":{\"x\":0.05},\"mapbox\":{\"style\":\"light\"}}},\"xaxis\":{\"anchor\":\"y\",\"domain\":[0.0,1.0],\"title\":{\"text\":\"Close\"}},\"yaxis\":{\"anchor\":\"x\",\"domain\":[0.0,1.0],\"title\":{\"text\":\"count\"}},\"legend\":{\"tracegroupgap\":0},\"margin\":{\"t\":60},\"barmode\":\"relative\"},                        {\"responsive\": true}                    ).then(function(){\n",
              "                            \n",
              "var gd = document.getElementById('76e591f5-1e00-46aa-a06e-5f01231ad639');\n",
              "var x = new MutationObserver(function (mutations, observer) {{\n",
              "        var display = window.getComputedStyle(gd).display;\n",
              "        if (!display || display === 'none') {{\n",
              "            console.log([gd, 'removed!']);\n",
              "            Plotly.purge(gd);\n",
              "            observer.disconnect();\n",
              "        }}\n",
              "}});\n",
              "\n",
              "// Listen for the removal of the full notebook cells\n",
              "var notebookContainer = gd.closest('#notebook-container');\n",
              "if (notebookContainer) {{\n",
              "    x.observe(notebookContainer, {childList: true});\n",
              "}}\n",
              "\n",
              "// Listen for the clearing of the current output cell\n",
              "var outputEl = gd.closest('.output');\n",
              "if (outputEl) {{\n",
              "    x.observe(outputEl, {childList: true});\n",
              "}}\n",
              "\n",
              "                        })                };                            </script>        </div>\n",
              "</body>\n",
              "</html>"
            ]
          },
          "metadata": {}
        }
      ]
    },
    {
      "cell_type": "code",
      "source": [
        "\n",
        "fig = px.box(df, y='Close')\n",
        "fig.show()"
      ],
      "metadata": {
        "id": "FF9XGxZ4rUAY",
        "outputId": "47e24867-f528-40d8-9b40-90697b3142ba",
        "colab": {
          "base_uri": "https://localhost:8080/",
          "height": 542
        }
      },
      "execution_count": 32,
      "outputs": [
        {
          "output_type": "display_data",
          "data": {
            "text/html": [
              "<html>\n",
              "<head><meta charset=\"utf-8\" /></head>\n",
              "<body>\n",
              "    <div>            <script src=\"https://cdnjs.cloudflare.com/ajax/libs/mathjax/2.7.5/MathJax.js?config=TeX-AMS-MML_SVG\"></script><script type=\"text/javascript\">if (window.MathJax && window.MathJax.Hub && window.MathJax.Hub.Config) {window.MathJax.Hub.Config({SVG: {font: \"STIX-Web\"}});}</script>                <script type=\"text/javascript\">window.PlotlyConfig = {MathJaxConfig: 'local'};</script>\n",
              "        <script src=\"https://cdn.plot.ly/plotly-2.18.2.min.js\"></script>                <div id=\"cd94917c-e41e-462d-9adc-3a11c71a4990\" class=\"plotly-graph-div\" style=\"height:525px; width:100%;\"></div>            <script type=\"text/javascript\">                                    window.PLOTLYENV=window.PLOTLYENV || {};                                    if (document.getElementById(\"cd94917c-e41e-462d-9adc-3a11c71a4990\")) {                    Plotly.newPlot(                        \"cd94917c-e41e-462d-9adc-3a11c71a4990\",                        [{\"alignmentgroup\":\"True\",\"hovertemplate\":\"Close=%{y}<extra></extra>\",\"legendgroup\":\"\",\"marker\":{\"color\":\"#636efa\"},\"name\":\"\",\"notched\":false,\"offsetgroup\":\"\",\"orientation\":\"v\",\"showlegend\":false,\"x0\":\" \",\"xaxis\":\"x\",\"y\":[73722.6015625,75052.0625,75060.921875,74165.25,73939.7109375,73830.46875,73971.4296875,75884.75,75925.546875,75160.2109375,75593.46875,74955.65625,76176.1484375,76233.2578125,74834.5234375,72164.0234375,72314.8125,73797.328125,73504.0390625,73454.9609375,74304.5625,74889.171875,75190.7421875,75021.671875,75206.0,75679.5625,76090.5234375,76690.921875,76585.1875,76382.953125,75765.15625,75853.15625,76502.59375,76154.6875,76368.34375,75528.4609375,75653.84375,74987.046875,73697.109375,74205.6875,76090.5078125,77110.6875,77536.1171875,77390.8515625,74734.3671875,73295.8828125,72398.6171875,72684.8203125,73889.40625,73685.890625,71903.71875,70628.203125,73484.296875,74124.2734375,74847.6328125,75751.40625,74838.09375,74349.9375,74324.671875,74194.3515625,74776.390625,75425.3125,75497.1484375,75907.8984375,75835.0703125,75286.609375,74359.03125,74008.0703125,74776.109375,74426.3984375,73801.8828125,73128.6484375,73382.828125,73830.2734375,73783.4296875,73350.9375,72264.8984375,69750.671875,70264.109375,71534.5703125,72438.25,71338.9921875,70357.578125,69682.6484375,67978.140625,66769.1171875,66966.7265625,68416.40625,67251.890625,68650.65625,69211.7578125,69696.390625,69083.4375,68245.84375,67575.28125,68367.3671875,67690.71875,67585.25,69483.7578125,70485.4609375,71958.1484375,72094.8671875,70849.3828125,71035.0,70920.453125,71120.09375,70318.2265625,69950.2109375,68910.796875,67803.5078125,66381.03125,65683.5234375,67502.09375,65390.87890625,66350.3125,66747.2265625,65712.6796875,65295.421875,66348.75,67826.78125,68058.1171875,67747.40625,66223.3125,65661.7265625,67024.8203125,65005.80859375,65756.359375,67909.2890625,68327.3984375,67226.75,67163.7109375,66142.6875,64712.87890625,65088.8984375,67016.140625,67785.0390625,67652.4609375,67907.2421875,68069.578125,67749.7890625,68421.796875,68424.96875,68610.75,68934.0078125,68642.59375,68002.2265625,68610.5703125,68717.0234375,69519.2734375,70266.1328125,69744.8984375,71264.7734375,70731.3203125,70740.6328125,71504.6875,70967.3515625,71011.3828125,69719.4296875,69195.6015625,69772.2734375,69808.7109375,70340.703125,70173.09375,69207.0234375,67900.4765625,67257.140625,66021.7109375,67378.3125,67399.390625,67538.7734375,66715.828125,67260.2265625,68708.4765625,69772.40625,68273.7109375,67964.0234375,67568.2578125,66584.34375,66474.859375,66602.84375,66208.7109375,65276.96875,63416.66015625,63625.66015625,64025.94921875,63808.3203125,63263.94140625,63726.37109375,64227.23046875,66312.828125,65612.7578125,65832.671875,65675.4765625,64769.19921875,64588.08984375,64528.23046875,64392.4296875,64271.359375,66190.75,66350.9765625,65652.5,65794.28125,65539.2421875,64975.94921875,65850.84375,67103.09375,67123.40625,66385.578125,66671.6484375,67414.2734375,67123.1015625,66046.6484375,69305.1875,69439.3203125,69011.453125,69640.2265625,70710.2734375,72982.796875,72822.46875,72998.6875,72607.4609375,72155.2890625,72576.859375,71938.0078125,72242.328125,72891.453125,73127.34375,73151.3828125,73368.25,73127.921875,74828.0,75020.0078125,74322.90625,74693.421875,74557.3125,74011.1171875,74467.2578125,74548.140625,74422.1796875,75835.453125,74294.671875,72989.34375,73359.6015625,73040.5078125,73836.90625,73225.1328125,73493.46875,74277.5625,73597.140625,73048.5703125,74436.4765625,74567.609375,75439.296875,76858.9375,78342.703125,78000.3125,78522.1015625,78627.546875,79333.71875,79167.796875,79385.109375,79865.4765625,79505.0625,79269.7734375,80128.6328125,80037.0078125,79725.4609375,80508.96875,80791.359375,80324.859375,79476.6015625,79816.8671875,79802.09375,80240.921875,79582.828125,79534.21875,79975.59375,80021.09375,78985.3515625,79770.2109375,79858.0234375,79471.7578125,80227.1875,79271.78125,79829.390625,78811.046875,78170.140625,79010.828125,76937.7734375,77513.78125,77733.8671875,78631.453125,77547.0078125,78293.0078125,78697.828125,78556.5390625,77741.828125,77664.046875,76454.359375,75502.28125,75008.6796875,72895.5390625,72905.5,72527.921875,74271.0625,75243.4375,75585.2265625,74695.0390625,75283.6796875,76047.34375,76480.109375,76704.6328125,76100.171875,76614.9609375,77458.578125,76656.421875,77113.703125,77990.5390625,77740.6875,78462.7734375,78870.359375,78723.703125,79294.7578125,78796.859375,78883.2578125,77910.9609375,78121.3671875,77891.1328125,78122.1171875,78218.3671875,77532.8984375,78218.6015625,77271.1328125,78132.7734375,78572.328125,77776.8671875,77775.0234375,76997.15625,78330.203125,78261.6484375,77973.0234375,78390.7421875,77667.9609375],\"y0\":\" \",\"yaxis\":\"y\",\"type\":\"box\"}],                        {\"template\":{\"data\":{\"histogram2dcontour\":[{\"type\":\"histogram2dcontour\",\"colorbar\":{\"outlinewidth\":0,\"ticks\":\"\"},\"colorscale\":[[0.0,\"#0d0887\"],[0.1111111111111111,\"#46039f\"],[0.2222222222222222,\"#7201a8\"],[0.3333333333333333,\"#9c179e\"],[0.4444444444444444,\"#bd3786\"],[0.5555555555555556,\"#d8576b\"],[0.6666666666666666,\"#ed7953\"],[0.7777777777777778,\"#fb9f3a\"],[0.8888888888888888,\"#fdca26\"],[1.0,\"#f0f921\"]]}],\"choropleth\":[{\"type\":\"choropleth\",\"colorbar\":{\"outlinewidth\":0,\"ticks\":\"\"}}],\"histogram2d\":[{\"type\":\"histogram2d\",\"colorbar\":{\"outlinewidth\":0,\"ticks\":\"\"},\"colorscale\":[[0.0,\"#0d0887\"],[0.1111111111111111,\"#46039f\"],[0.2222222222222222,\"#7201a8\"],[0.3333333333333333,\"#9c179e\"],[0.4444444444444444,\"#bd3786\"],[0.5555555555555556,\"#d8576b\"],[0.6666666666666666,\"#ed7953\"],[0.7777777777777778,\"#fb9f3a\"],[0.8888888888888888,\"#fdca26\"],[1.0,\"#f0f921\"]]}],\"heatmap\":[{\"type\":\"heatmap\",\"colorbar\":{\"outlinewidth\":0,\"ticks\":\"\"},\"colorscale\":[[0.0,\"#0d0887\"],[0.1111111111111111,\"#46039f\"],[0.2222222222222222,\"#7201a8\"],[0.3333333333333333,\"#9c179e\"],[0.4444444444444444,\"#bd3786\"],[0.5555555555555556,\"#d8576b\"],[0.6666666666666666,\"#ed7953\"],[0.7777777777777778,\"#fb9f3a\"],[0.8888888888888888,\"#fdca26\"],[1.0,\"#f0f921\"]]}],\"heatmapgl\":[{\"type\":\"heatmapgl\",\"colorbar\":{\"outlinewidth\":0,\"ticks\":\"\"},\"colorscale\":[[0.0,\"#0d0887\"],[0.1111111111111111,\"#46039f\"],[0.2222222222222222,\"#7201a8\"],[0.3333333333333333,\"#9c179e\"],[0.4444444444444444,\"#bd3786\"],[0.5555555555555556,\"#d8576b\"],[0.6666666666666666,\"#ed7953\"],[0.7777777777777778,\"#fb9f3a\"],[0.8888888888888888,\"#fdca26\"],[1.0,\"#f0f921\"]]}],\"contourcarpet\":[{\"type\":\"contourcarpet\",\"colorbar\":{\"outlinewidth\":0,\"ticks\":\"\"}}],\"contour\":[{\"type\":\"contour\",\"colorbar\":{\"outlinewidth\":0,\"ticks\":\"\"},\"colorscale\":[[0.0,\"#0d0887\"],[0.1111111111111111,\"#46039f\"],[0.2222222222222222,\"#7201a8\"],[0.3333333333333333,\"#9c179e\"],[0.4444444444444444,\"#bd3786\"],[0.5555555555555556,\"#d8576b\"],[0.6666666666666666,\"#ed7953\"],[0.7777777777777778,\"#fb9f3a\"],[0.8888888888888888,\"#fdca26\"],[1.0,\"#f0f921\"]]}],\"surface\":[{\"type\":\"surface\",\"colorbar\":{\"outlinewidth\":0,\"ticks\":\"\"},\"colorscale\":[[0.0,\"#0d0887\"],[0.1111111111111111,\"#46039f\"],[0.2222222222222222,\"#7201a8\"],[0.3333333333333333,\"#9c179e\"],[0.4444444444444444,\"#bd3786\"],[0.5555555555555556,\"#d8576b\"],[0.6666666666666666,\"#ed7953\"],[0.7777777777777778,\"#fb9f3a\"],[0.8888888888888888,\"#fdca26\"],[1.0,\"#f0f921\"]]}],\"mesh3d\":[{\"type\":\"mesh3d\",\"colorbar\":{\"outlinewidth\":0,\"ticks\":\"\"}}],\"scatter\":[{\"fillpattern\":{\"fillmode\":\"overlay\",\"size\":10,\"solidity\":0.2},\"type\":\"scatter\"}],\"parcoords\":[{\"type\":\"parcoords\",\"line\":{\"colorbar\":{\"outlinewidth\":0,\"ticks\":\"\"}}}],\"scatterpolargl\":[{\"type\":\"scatterpolargl\",\"marker\":{\"colorbar\":{\"outlinewidth\":0,\"ticks\":\"\"}}}],\"bar\":[{\"error_x\":{\"color\":\"#2a3f5f\"},\"error_y\":{\"color\":\"#2a3f5f\"},\"marker\":{\"line\":{\"color\":\"#E5ECF6\",\"width\":0.5},\"pattern\":{\"fillmode\":\"overlay\",\"size\":10,\"solidity\":0.2}},\"type\":\"bar\"}],\"scattergeo\":[{\"type\":\"scattergeo\",\"marker\":{\"colorbar\":{\"outlinewidth\":0,\"ticks\":\"\"}}}],\"scatterpolar\":[{\"type\":\"scatterpolar\",\"marker\":{\"colorbar\":{\"outlinewidth\":0,\"ticks\":\"\"}}}],\"histogram\":[{\"marker\":{\"pattern\":{\"fillmode\":\"overlay\",\"size\":10,\"solidity\":0.2}},\"type\":\"histogram\"}],\"scattergl\":[{\"type\":\"scattergl\",\"marker\":{\"colorbar\":{\"outlinewidth\":0,\"ticks\":\"\"}}}],\"scatter3d\":[{\"type\":\"scatter3d\",\"line\":{\"colorbar\":{\"outlinewidth\":0,\"ticks\":\"\"}},\"marker\":{\"colorbar\":{\"outlinewidth\":0,\"ticks\":\"\"}}}],\"scattermapbox\":[{\"type\":\"scattermapbox\",\"marker\":{\"colorbar\":{\"outlinewidth\":0,\"ticks\":\"\"}}}],\"scatterternary\":[{\"type\":\"scatterternary\",\"marker\":{\"colorbar\":{\"outlinewidth\":0,\"ticks\":\"\"}}}],\"scattercarpet\":[{\"type\":\"scattercarpet\",\"marker\":{\"colorbar\":{\"outlinewidth\":0,\"ticks\":\"\"}}}],\"carpet\":[{\"aaxis\":{\"endlinecolor\":\"#2a3f5f\",\"gridcolor\":\"white\",\"linecolor\":\"white\",\"minorgridcolor\":\"white\",\"startlinecolor\":\"#2a3f5f\"},\"baxis\":{\"endlinecolor\":\"#2a3f5f\",\"gridcolor\":\"white\",\"linecolor\":\"white\",\"minorgridcolor\":\"white\",\"startlinecolor\":\"#2a3f5f\"},\"type\":\"carpet\"}],\"table\":[{\"cells\":{\"fill\":{\"color\":\"#EBF0F8\"},\"line\":{\"color\":\"white\"}},\"header\":{\"fill\":{\"color\":\"#C8D4E3\"},\"line\":{\"color\":\"white\"}},\"type\":\"table\"}],\"barpolar\":[{\"marker\":{\"line\":{\"color\":\"#E5ECF6\",\"width\":0.5},\"pattern\":{\"fillmode\":\"overlay\",\"size\":10,\"solidity\":0.2}},\"type\":\"barpolar\"}],\"pie\":[{\"automargin\":true,\"type\":\"pie\"}]},\"layout\":{\"autotypenumbers\":\"strict\",\"colorway\":[\"#636efa\",\"#EF553B\",\"#00cc96\",\"#ab63fa\",\"#FFA15A\",\"#19d3f3\",\"#FF6692\",\"#B6E880\",\"#FF97FF\",\"#FECB52\"],\"font\":{\"color\":\"#2a3f5f\"},\"hovermode\":\"closest\",\"hoverlabel\":{\"align\":\"left\"},\"paper_bgcolor\":\"white\",\"plot_bgcolor\":\"#E5ECF6\",\"polar\":{\"bgcolor\":\"#E5ECF6\",\"angularaxis\":{\"gridcolor\":\"white\",\"linecolor\":\"white\",\"ticks\":\"\"},\"radialaxis\":{\"gridcolor\":\"white\",\"linecolor\":\"white\",\"ticks\":\"\"}},\"ternary\":{\"bgcolor\":\"#E5ECF6\",\"aaxis\":{\"gridcolor\":\"white\",\"linecolor\":\"white\",\"ticks\":\"\"},\"baxis\":{\"gridcolor\":\"white\",\"linecolor\":\"white\",\"ticks\":\"\"},\"caxis\":{\"gridcolor\":\"white\",\"linecolor\":\"white\",\"ticks\":\"\"}},\"coloraxis\":{\"colorbar\":{\"outlinewidth\":0,\"ticks\":\"\"}},\"colorscale\":{\"sequential\":[[0.0,\"#0d0887\"],[0.1111111111111111,\"#46039f\"],[0.2222222222222222,\"#7201a8\"],[0.3333333333333333,\"#9c179e\"],[0.4444444444444444,\"#bd3786\"],[0.5555555555555556,\"#d8576b\"],[0.6666666666666666,\"#ed7953\"],[0.7777777777777778,\"#fb9f3a\"],[0.8888888888888888,\"#fdca26\"],[1.0,\"#f0f921\"]],\"sequentialminus\":[[0.0,\"#0d0887\"],[0.1111111111111111,\"#46039f\"],[0.2222222222222222,\"#7201a8\"],[0.3333333333333333,\"#9c179e\"],[0.4444444444444444,\"#bd3786\"],[0.5555555555555556,\"#d8576b\"],[0.6666666666666666,\"#ed7953\"],[0.7777777777777778,\"#fb9f3a\"],[0.8888888888888888,\"#fdca26\"],[1.0,\"#f0f921\"]],\"diverging\":[[0,\"#8e0152\"],[0.1,\"#c51b7d\"],[0.2,\"#de77ae\"],[0.3,\"#f1b6da\"],[0.4,\"#fde0ef\"],[0.5,\"#f7f7f7\"],[0.6,\"#e6f5d0\"],[0.7,\"#b8e186\"],[0.8,\"#7fbc41\"],[0.9,\"#4d9221\"],[1,\"#276419\"]]},\"xaxis\":{\"gridcolor\":\"white\",\"linecolor\":\"white\",\"ticks\":\"\",\"title\":{\"standoff\":15},\"zerolinecolor\":\"white\",\"automargin\":true,\"zerolinewidth\":2},\"yaxis\":{\"gridcolor\":\"white\",\"linecolor\":\"white\",\"ticks\":\"\",\"title\":{\"standoff\":15},\"zerolinecolor\":\"white\",\"automargin\":true,\"zerolinewidth\":2},\"scene\":{\"xaxis\":{\"backgroundcolor\":\"#E5ECF6\",\"gridcolor\":\"white\",\"linecolor\":\"white\",\"showbackground\":true,\"ticks\":\"\",\"zerolinecolor\":\"white\",\"gridwidth\":2},\"yaxis\":{\"backgroundcolor\":\"#E5ECF6\",\"gridcolor\":\"white\",\"linecolor\":\"white\",\"showbackground\":true,\"ticks\":\"\",\"zerolinecolor\":\"white\",\"gridwidth\":2},\"zaxis\":{\"backgroundcolor\":\"#E5ECF6\",\"gridcolor\":\"white\",\"linecolor\":\"white\",\"showbackground\":true,\"ticks\":\"\",\"zerolinecolor\":\"white\",\"gridwidth\":2}},\"shapedefaults\":{\"line\":{\"color\":\"#2a3f5f\"}},\"annotationdefaults\":{\"arrowcolor\":\"#2a3f5f\",\"arrowhead\":0,\"arrowwidth\":1},\"geo\":{\"bgcolor\":\"white\",\"landcolor\":\"#E5ECF6\",\"subunitcolor\":\"white\",\"showland\":true,\"showlakes\":true,\"lakecolor\":\"white\"},\"title\":{\"x\":0.05},\"mapbox\":{\"style\":\"light\"}}},\"xaxis\":{\"anchor\":\"y\",\"domain\":[0.0,1.0]},\"yaxis\":{\"anchor\":\"x\",\"domain\":[0.0,1.0],\"title\":{\"text\":\"Close\"}},\"legend\":{\"tracegroupgap\":0},\"margin\":{\"t\":60},\"boxmode\":\"group\"},                        {\"responsive\": true}                    ).then(function(){\n",
              "                            \n",
              "var gd = document.getElementById('cd94917c-e41e-462d-9adc-3a11c71a4990');\n",
              "var x = new MutationObserver(function (mutations, observer) {{\n",
              "        var display = window.getComputedStyle(gd).display;\n",
              "        if (!display || display === 'none') {{\n",
              "            console.log([gd, 'removed!']);\n",
              "            Plotly.purge(gd);\n",
              "            observer.disconnect();\n",
              "        }}\n",
              "}});\n",
              "\n",
              "// Listen for the removal of the full notebook cells\n",
              "var notebookContainer = gd.closest('#notebook-container');\n",
              "if (notebookContainer) {{\n",
              "    x.observe(notebookContainer, {childList: true});\n",
              "}}\n",
              "\n",
              "// Listen for the clearing of the current output cell\n",
              "var outputEl = gd.closest('.output');\n",
              "if (outputEl) {{\n",
              "    x.observe(outputEl, {childList: true});\n",
              "}}\n",
              "\n",
              "                        })                };                            </script>        </div>\n",
              "</body>\n",
              "</html>"
            ]
          },
          "metadata": {}
        }
      ]
    },
    {
      "cell_type": "code",
      "source": [
        "\n",
        "fig = px.scatter(x=df['Close'], y=df['Close'])\n",
        "fig.show()"
      ],
      "metadata": {
        "id": "beEEgZhvrr6f",
        "outputId": "b3fb2bf5-d959-43e4-c5cd-573fc5dc36b2",
        "colab": {
          "base_uri": "https://localhost:8080/",
          "height": 542
        }
      },
      "execution_count": 35,
      "outputs": [
        {
          "output_type": "display_data",
          "data": {
            "text/html": [
              "<html>\n",
              "<head><meta charset=\"utf-8\" /></head>\n",
              "<body>\n",
              "    <div>            <script src=\"https://cdnjs.cloudflare.com/ajax/libs/mathjax/2.7.5/MathJax.js?config=TeX-AMS-MML_SVG\"></script><script type=\"text/javascript\">if (window.MathJax && window.MathJax.Hub && window.MathJax.Hub.Config) {window.MathJax.Hub.Config({SVG: {font: \"STIX-Web\"}});}</script>                <script type=\"text/javascript\">window.PlotlyConfig = {MathJaxConfig: 'local'};</script>\n",
              "        <script src=\"https://cdn.plot.ly/plotly-2.18.2.min.js\"></script>                <div id=\"1f9d81ce-85da-4df1-90a1-4b68b64db4ad\" class=\"plotly-graph-div\" style=\"height:525px; width:100%;\"></div>            <script type=\"text/javascript\">                                    window.PLOTLYENV=window.PLOTLYENV || {};                                    if (document.getElementById(\"1f9d81ce-85da-4df1-90a1-4b68b64db4ad\")) {                    Plotly.newPlot(                        \"1f9d81ce-85da-4df1-90a1-4b68b64db4ad\",                        [{\"hovertemplate\":\"x=%{x}<br>y=%{y}<extra></extra>\",\"legendgroup\":\"\",\"marker\":{\"color\":\"#636efa\",\"symbol\":\"circle\"},\"mode\":\"markers\",\"name\":\"\",\"orientation\":\"v\",\"showlegend\":false,\"x\":[73722.6015625,75052.0625,75060.921875,74165.25,73939.7109375,73830.46875,73971.4296875,75884.75,75925.546875,75160.2109375,75593.46875,74955.65625,76176.1484375,76233.2578125,74834.5234375,72164.0234375,72314.8125,73797.328125,73504.0390625,73454.9609375,74304.5625,74889.171875,75190.7421875,75021.671875,75206.0,75679.5625,76090.5234375,76690.921875,76585.1875,76382.953125,75765.15625,75853.15625,76502.59375,76154.6875,76368.34375,75528.4609375,75653.84375,74987.046875,73697.109375,74205.6875,76090.5078125,77110.6875,77536.1171875,77390.8515625,74734.3671875,73295.8828125,72398.6171875,72684.8203125,73889.40625,73685.890625,71903.71875,70628.203125,73484.296875,74124.2734375,74847.6328125,75751.40625,74838.09375,74349.9375,74324.671875,74194.3515625,74776.390625,75425.3125,75497.1484375,75907.8984375,75835.0703125,75286.609375,74359.03125,74008.0703125,74776.109375,74426.3984375,73801.8828125,73128.6484375,73382.828125,73830.2734375,73783.4296875,73350.9375,72264.8984375,69750.671875,70264.109375,71534.5703125,72438.25,71338.9921875,70357.578125,69682.6484375,67978.140625,66769.1171875,66966.7265625,68416.40625,67251.890625,68650.65625,69211.7578125,69696.390625,69083.4375,68245.84375,67575.28125,68367.3671875,67690.71875,67585.25,69483.7578125,70485.4609375,71958.1484375,72094.8671875,70849.3828125,71035.0,70920.453125,71120.09375,70318.2265625,69950.2109375,68910.796875,67803.5078125,66381.03125,65683.5234375,67502.09375,65390.87890625,66350.3125,66747.2265625,65712.6796875,65295.421875,66348.75,67826.78125,68058.1171875,67747.40625,66223.3125,65661.7265625,67024.8203125,65005.80859375,65756.359375,67909.2890625,68327.3984375,67226.75,67163.7109375,66142.6875,64712.87890625,65088.8984375,67016.140625,67785.0390625,67652.4609375,67907.2421875,68069.578125,67749.7890625,68421.796875,68424.96875,68610.75,68934.0078125,68642.59375,68002.2265625,68610.5703125,68717.0234375,69519.2734375,70266.1328125,69744.8984375,71264.7734375,70731.3203125,70740.6328125,71504.6875,70967.3515625,71011.3828125,69719.4296875,69195.6015625,69772.2734375,69808.7109375,70340.703125,70173.09375,69207.0234375,67900.4765625,67257.140625,66021.7109375,67378.3125,67399.390625,67538.7734375,66715.828125,67260.2265625,68708.4765625,69772.40625,68273.7109375,67964.0234375,67568.2578125,66584.34375,66474.859375,66602.84375,66208.7109375,65276.96875,63416.66015625,63625.66015625,64025.94921875,63808.3203125,63263.94140625,63726.37109375,64227.23046875,66312.828125,65612.7578125,65832.671875,65675.4765625,64769.19921875,64588.08984375,64528.23046875,64392.4296875,64271.359375,66190.75,66350.9765625,65652.5,65794.28125,65539.2421875,64975.94921875,65850.84375,67103.09375,67123.40625,66385.578125,66671.6484375,67414.2734375,67123.1015625,66046.6484375,69305.1875,69439.3203125,69011.453125,69640.2265625,70710.2734375,72982.796875,72822.46875,72998.6875,72607.4609375,72155.2890625,72576.859375,71938.0078125,72242.328125,72891.453125,73127.34375,73151.3828125,73368.25,73127.921875,74828.0,75020.0078125,74322.90625,74693.421875,74557.3125,74011.1171875,74467.2578125,74548.140625,74422.1796875,75835.453125,74294.671875,72989.34375,73359.6015625,73040.5078125,73836.90625,73225.1328125,73493.46875,74277.5625,73597.140625,73048.5703125,74436.4765625,74567.609375,75439.296875,76858.9375,78342.703125,78000.3125,78522.1015625,78627.546875,79333.71875,79167.796875,79385.109375,79865.4765625,79505.0625,79269.7734375,80128.6328125,80037.0078125,79725.4609375,80508.96875,80791.359375,80324.859375,79476.6015625,79816.8671875,79802.09375,80240.921875,79582.828125,79534.21875,79975.59375,80021.09375,78985.3515625,79770.2109375,79858.0234375,79471.7578125,80227.1875,79271.78125,79829.390625,78811.046875,78170.140625,79010.828125,76937.7734375,77513.78125,77733.8671875,78631.453125,77547.0078125,78293.0078125,78697.828125,78556.5390625,77741.828125,77664.046875,76454.359375,75502.28125,75008.6796875,72895.5390625,72905.5,72527.921875,74271.0625,75243.4375,75585.2265625,74695.0390625,75283.6796875,76047.34375,76480.109375,76704.6328125,76100.171875,76614.9609375,77458.578125,76656.421875,77113.703125,77990.5390625,77740.6875,78462.7734375,78870.359375,78723.703125,79294.7578125,78796.859375,78883.2578125,77910.9609375,78121.3671875,77891.1328125,78122.1171875,78218.3671875,77532.8984375,78218.6015625,77271.1328125,78132.7734375,78572.328125,77776.8671875,77775.0234375,76997.15625,78330.203125,78261.6484375,77973.0234375,78390.7421875,77667.9609375],\"xaxis\":\"x\",\"y\":[73722.6015625,75052.0625,75060.921875,74165.25,73939.7109375,73830.46875,73971.4296875,75884.75,75925.546875,75160.2109375,75593.46875,74955.65625,76176.1484375,76233.2578125,74834.5234375,72164.0234375,72314.8125,73797.328125,73504.0390625,73454.9609375,74304.5625,74889.171875,75190.7421875,75021.671875,75206.0,75679.5625,76090.5234375,76690.921875,76585.1875,76382.953125,75765.15625,75853.15625,76502.59375,76154.6875,76368.34375,75528.4609375,75653.84375,74987.046875,73697.109375,74205.6875,76090.5078125,77110.6875,77536.1171875,77390.8515625,74734.3671875,73295.8828125,72398.6171875,72684.8203125,73889.40625,73685.890625,71903.71875,70628.203125,73484.296875,74124.2734375,74847.6328125,75751.40625,74838.09375,74349.9375,74324.671875,74194.3515625,74776.390625,75425.3125,75497.1484375,75907.8984375,75835.0703125,75286.609375,74359.03125,74008.0703125,74776.109375,74426.3984375,73801.8828125,73128.6484375,73382.828125,73830.2734375,73783.4296875,73350.9375,72264.8984375,69750.671875,70264.109375,71534.5703125,72438.25,71338.9921875,70357.578125,69682.6484375,67978.140625,66769.1171875,66966.7265625,68416.40625,67251.890625,68650.65625,69211.7578125,69696.390625,69083.4375,68245.84375,67575.28125,68367.3671875,67690.71875,67585.25,69483.7578125,70485.4609375,71958.1484375,72094.8671875,70849.3828125,71035.0,70920.453125,71120.09375,70318.2265625,69950.2109375,68910.796875,67803.5078125,66381.03125,65683.5234375,67502.09375,65390.87890625,66350.3125,66747.2265625,65712.6796875,65295.421875,66348.75,67826.78125,68058.1171875,67747.40625,66223.3125,65661.7265625,67024.8203125,65005.80859375,65756.359375,67909.2890625,68327.3984375,67226.75,67163.7109375,66142.6875,64712.87890625,65088.8984375,67016.140625,67785.0390625,67652.4609375,67907.2421875,68069.578125,67749.7890625,68421.796875,68424.96875,68610.75,68934.0078125,68642.59375,68002.2265625,68610.5703125,68717.0234375,69519.2734375,70266.1328125,69744.8984375,71264.7734375,70731.3203125,70740.6328125,71504.6875,70967.3515625,71011.3828125,69719.4296875,69195.6015625,69772.2734375,69808.7109375,70340.703125,70173.09375,69207.0234375,67900.4765625,67257.140625,66021.7109375,67378.3125,67399.390625,67538.7734375,66715.828125,67260.2265625,68708.4765625,69772.40625,68273.7109375,67964.0234375,67568.2578125,66584.34375,66474.859375,66602.84375,66208.7109375,65276.96875,63416.66015625,63625.66015625,64025.94921875,63808.3203125,63263.94140625,63726.37109375,64227.23046875,66312.828125,65612.7578125,65832.671875,65675.4765625,64769.19921875,64588.08984375,64528.23046875,64392.4296875,64271.359375,66190.75,66350.9765625,65652.5,65794.28125,65539.2421875,64975.94921875,65850.84375,67103.09375,67123.40625,66385.578125,66671.6484375,67414.2734375,67123.1015625,66046.6484375,69305.1875,69439.3203125,69011.453125,69640.2265625,70710.2734375,72982.796875,72822.46875,72998.6875,72607.4609375,72155.2890625,72576.859375,71938.0078125,72242.328125,72891.453125,73127.34375,73151.3828125,73368.25,73127.921875,74828.0,75020.0078125,74322.90625,74693.421875,74557.3125,74011.1171875,74467.2578125,74548.140625,74422.1796875,75835.453125,74294.671875,72989.34375,73359.6015625,73040.5078125,73836.90625,73225.1328125,73493.46875,74277.5625,73597.140625,73048.5703125,74436.4765625,74567.609375,75439.296875,76858.9375,78342.703125,78000.3125,78522.1015625,78627.546875,79333.71875,79167.796875,79385.109375,79865.4765625,79505.0625,79269.7734375,80128.6328125,80037.0078125,79725.4609375,80508.96875,80791.359375,80324.859375,79476.6015625,79816.8671875,79802.09375,80240.921875,79582.828125,79534.21875,79975.59375,80021.09375,78985.3515625,79770.2109375,79858.0234375,79471.7578125,80227.1875,79271.78125,79829.390625,78811.046875,78170.140625,79010.828125,76937.7734375,77513.78125,77733.8671875,78631.453125,77547.0078125,78293.0078125,78697.828125,78556.5390625,77741.828125,77664.046875,76454.359375,75502.28125,75008.6796875,72895.5390625,72905.5,72527.921875,74271.0625,75243.4375,75585.2265625,74695.0390625,75283.6796875,76047.34375,76480.109375,76704.6328125,76100.171875,76614.9609375,77458.578125,76656.421875,77113.703125,77990.5390625,77740.6875,78462.7734375,78870.359375,78723.703125,79294.7578125,78796.859375,78883.2578125,77910.9609375,78121.3671875,77891.1328125,78122.1171875,78218.3671875,77532.8984375,78218.6015625,77271.1328125,78132.7734375,78572.328125,77776.8671875,77775.0234375,76997.15625,78330.203125,78261.6484375,77973.0234375,78390.7421875,77667.9609375],\"yaxis\":\"y\",\"type\":\"scatter\"}],                        {\"template\":{\"data\":{\"histogram2dcontour\":[{\"type\":\"histogram2dcontour\",\"colorbar\":{\"outlinewidth\":0,\"ticks\":\"\"},\"colorscale\":[[0.0,\"#0d0887\"],[0.1111111111111111,\"#46039f\"],[0.2222222222222222,\"#7201a8\"],[0.3333333333333333,\"#9c179e\"],[0.4444444444444444,\"#bd3786\"],[0.5555555555555556,\"#d8576b\"],[0.6666666666666666,\"#ed7953\"],[0.7777777777777778,\"#fb9f3a\"],[0.8888888888888888,\"#fdca26\"],[1.0,\"#f0f921\"]]}],\"choropleth\":[{\"type\":\"choropleth\",\"colorbar\":{\"outlinewidth\":0,\"ticks\":\"\"}}],\"histogram2d\":[{\"type\":\"histogram2d\",\"colorbar\":{\"outlinewidth\":0,\"ticks\":\"\"},\"colorscale\":[[0.0,\"#0d0887\"],[0.1111111111111111,\"#46039f\"],[0.2222222222222222,\"#7201a8\"],[0.3333333333333333,\"#9c179e\"],[0.4444444444444444,\"#bd3786\"],[0.5555555555555556,\"#d8576b\"],[0.6666666666666666,\"#ed7953\"],[0.7777777777777778,\"#fb9f3a\"],[0.8888888888888888,\"#fdca26\"],[1.0,\"#f0f921\"]]}],\"heatmap\":[{\"type\":\"heatmap\",\"colorbar\":{\"outlinewidth\":0,\"ticks\":\"\"},\"colorscale\":[[0.0,\"#0d0887\"],[0.1111111111111111,\"#46039f\"],[0.2222222222222222,\"#7201a8\"],[0.3333333333333333,\"#9c179e\"],[0.4444444444444444,\"#bd3786\"],[0.5555555555555556,\"#d8576b\"],[0.6666666666666666,\"#ed7953\"],[0.7777777777777778,\"#fb9f3a\"],[0.8888888888888888,\"#fdca26\"],[1.0,\"#f0f921\"]]}],\"heatmapgl\":[{\"type\":\"heatmapgl\",\"colorbar\":{\"outlinewidth\":0,\"ticks\":\"\"},\"colorscale\":[[0.0,\"#0d0887\"],[0.1111111111111111,\"#46039f\"],[0.2222222222222222,\"#7201a8\"],[0.3333333333333333,\"#9c179e\"],[0.4444444444444444,\"#bd3786\"],[0.5555555555555556,\"#d8576b\"],[0.6666666666666666,\"#ed7953\"],[0.7777777777777778,\"#fb9f3a\"],[0.8888888888888888,\"#fdca26\"],[1.0,\"#f0f921\"]]}],\"contourcarpet\":[{\"type\":\"contourcarpet\",\"colorbar\":{\"outlinewidth\":0,\"ticks\":\"\"}}],\"contour\":[{\"type\":\"contour\",\"colorbar\":{\"outlinewidth\":0,\"ticks\":\"\"},\"colorscale\":[[0.0,\"#0d0887\"],[0.1111111111111111,\"#46039f\"],[0.2222222222222222,\"#7201a8\"],[0.3333333333333333,\"#9c179e\"],[0.4444444444444444,\"#bd3786\"],[0.5555555555555556,\"#d8576b\"],[0.6666666666666666,\"#ed7953\"],[0.7777777777777778,\"#fb9f3a\"],[0.8888888888888888,\"#fdca26\"],[1.0,\"#f0f921\"]]}],\"surface\":[{\"type\":\"surface\",\"colorbar\":{\"outlinewidth\":0,\"ticks\":\"\"},\"colorscale\":[[0.0,\"#0d0887\"],[0.1111111111111111,\"#46039f\"],[0.2222222222222222,\"#7201a8\"],[0.3333333333333333,\"#9c179e\"],[0.4444444444444444,\"#bd3786\"],[0.5555555555555556,\"#d8576b\"],[0.6666666666666666,\"#ed7953\"],[0.7777777777777778,\"#fb9f3a\"],[0.8888888888888888,\"#fdca26\"],[1.0,\"#f0f921\"]]}],\"mesh3d\":[{\"type\":\"mesh3d\",\"colorbar\":{\"outlinewidth\":0,\"ticks\":\"\"}}],\"scatter\":[{\"fillpattern\":{\"fillmode\":\"overlay\",\"size\":10,\"solidity\":0.2},\"type\":\"scatter\"}],\"parcoords\":[{\"type\":\"parcoords\",\"line\":{\"colorbar\":{\"outlinewidth\":0,\"ticks\":\"\"}}}],\"scatterpolargl\":[{\"type\":\"scatterpolargl\",\"marker\":{\"colorbar\":{\"outlinewidth\":0,\"ticks\":\"\"}}}],\"bar\":[{\"error_x\":{\"color\":\"#2a3f5f\"},\"error_y\":{\"color\":\"#2a3f5f\"},\"marker\":{\"line\":{\"color\":\"#E5ECF6\",\"width\":0.5},\"pattern\":{\"fillmode\":\"overlay\",\"size\":10,\"solidity\":0.2}},\"type\":\"bar\"}],\"scattergeo\":[{\"type\":\"scattergeo\",\"marker\":{\"colorbar\":{\"outlinewidth\":0,\"ticks\":\"\"}}}],\"scatterpolar\":[{\"type\":\"scatterpolar\",\"marker\":{\"colorbar\":{\"outlinewidth\":0,\"ticks\":\"\"}}}],\"histogram\":[{\"marker\":{\"pattern\":{\"fillmode\":\"overlay\",\"size\":10,\"solidity\":0.2}},\"type\":\"histogram\"}],\"scattergl\":[{\"type\":\"scattergl\",\"marker\":{\"colorbar\":{\"outlinewidth\":0,\"ticks\":\"\"}}}],\"scatter3d\":[{\"type\":\"scatter3d\",\"line\":{\"colorbar\":{\"outlinewidth\":0,\"ticks\":\"\"}},\"marker\":{\"colorbar\":{\"outlinewidth\":0,\"ticks\":\"\"}}}],\"scattermapbox\":[{\"type\":\"scattermapbox\",\"marker\":{\"colorbar\":{\"outlinewidth\":0,\"ticks\":\"\"}}}],\"scatterternary\":[{\"type\":\"scatterternary\",\"marker\":{\"colorbar\":{\"outlinewidth\":0,\"ticks\":\"\"}}}],\"scattercarpet\":[{\"type\":\"scattercarpet\",\"marker\":{\"colorbar\":{\"outlinewidth\":0,\"ticks\":\"\"}}}],\"carpet\":[{\"aaxis\":{\"endlinecolor\":\"#2a3f5f\",\"gridcolor\":\"white\",\"linecolor\":\"white\",\"minorgridcolor\":\"white\",\"startlinecolor\":\"#2a3f5f\"},\"baxis\":{\"endlinecolor\":\"#2a3f5f\",\"gridcolor\":\"white\",\"linecolor\":\"white\",\"minorgridcolor\":\"white\",\"startlinecolor\":\"#2a3f5f\"},\"type\":\"carpet\"}],\"table\":[{\"cells\":{\"fill\":{\"color\":\"#EBF0F8\"},\"line\":{\"color\":\"white\"}},\"header\":{\"fill\":{\"color\":\"#C8D4E3\"},\"line\":{\"color\":\"white\"}},\"type\":\"table\"}],\"barpolar\":[{\"marker\":{\"line\":{\"color\":\"#E5ECF6\",\"width\":0.5},\"pattern\":{\"fillmode\":\"overlay\",\"size\":10,\"solidity\":0.2}},\"type\":\"barpolar\"}],\"pie\":[{\"automargin\":true,\"type\":\"pie\"}]},\"layout\":{\"autotypenumbers\":\"strict\",\"colorway\":[\"#636efa\",\"#EF553B\",\"#00cc96\",\"#ab63fa\",\"#FFA15A\",\"#19d3f3\",\"#FF6692\",\"#B6E880\",\"#FF97FF\",\"#FECB52\"],\"font\":{\"color\":\"#2a3f5f\"},\"hovermode\":\"closest\",\"hoverlabel\":{\"align\":\"left\"},\"paper_bgcolor\":\"white\",\"plot_bgcolor\":\"#E5ECF6\",\"polar\":{\"bgcolor\":\"#E5ECF6\",\"angularaxis\":{\"gridcolor\":\"white\",\"linecolor\":\"white\",\"ticks\":\"\"},\"radialaxis\":{\"gridcolor\":\"white\",\"linecolor\":\"white\",\"ticks\":\"\"}},\"ternary\":{\"bgcolor\":\"#E5ECF6\",\"aaxis\":{\"gridcolor\":\"white\",\"linecolor\":\"white\",\"ticks\":\"\"},\"baxis\":{\"gridcolor\":\"white\",\"linecolor\":\"white\",\"ticks\":\"\"},\"caxis\":{\"gridcolor\":\"white\",\"linecolor\":\"white\",\"ticks\":\"\"}},\"coloraxis\":{\"colorbar\":{\"outlinewidth\":0,\"ticks\":\"\"}},\"colorscale\":{\"sequential\":[[0.0,\"#0d0887\"],[0.1111111111111111,\"#46039f\"],[0.2222222222222222,\"#7201a8\"],[0.3333333333333333,\"#9c179e\"],[0.4444444444444444,\"#bd3786\"],[0.5555555555555556,\"#d8576b\"],[0.6666666666666666,\"#ed7953\"],[0.7777777777777778,\"#fb9f3a\"],[0.8888888888888888,\"#fdca26\"],[1.0,\"#f0f921\"]],\"sequentialminus\":[[0.0,\"#0d0887\"],[0.1111111111111111,\"#46039f\"],[0.2222222222222222,\"#7201a8\"],[0.3333333333333333,\"#9c179e\"],[0.4444444444444444,\"#bd3786\"],[0.5555555555555556,\"#d8576b\"],[0.6666666666666666,\"#ed7953\"],[0.7777777777777778,\"#fb9f3a\"],[0.8888888888888888,\"#fdca26\"],[1.0,\"#f0f921\"]],\"diverging\":[[0,\"#8e0152\"],[0.1,\"#c51b7d\"],[0.2,\"#de77ae\"],[0.3,\"#f1b6da\"],[0.4,\"#fde0ef\"],[0.5,\"#f7f7f7\"],[0.6,\"#e6f5d0\"],[0.7,\"#b8e186\"],[0.8,\"#7fbc41\"],[0.9,\"#4d9221\"],[1,\"#276419\"]]},\"xaxis\":{\"gridcolor\":\"white\",\"linecolor\":\"white\",\"ticks\":\"\",\"title\":{\"standoff\":15},\"zerolinecolor\":\"white\",\"automargin\":true,\"zerolinewidth\":2},\"yaxis\":{\"gridcolor\":\"white\",\"linecolor\":\"white\",\"ticks\":\"\",\"title\":{\"standoff\":15},\"zerolinecolor\":\"white\",\"automargin\":true,\"zerolinewidth\":2},\"scene\":{\"xaxis\":{\"backgroundcolor\":\"#E5ECF6\",\"gridcolor\":\"white\",\"linecolor\":\"white\",\"showbackground\":true,\"ticks\":\"\",\"zerolinecolor\":\"white\",\"gridwidth\":2},\"yaxis\":{\"backgroundcolor\":\"#E5ECF6\",\"gridcolor\":\"white\",\"linecolor\":\"white\",\"showbackground\":true,\"ticks\":\"\",\"zerolinecolor\":\"white\",\"gridwidth\":2},\"zaxis\":{\"backgroundcolor\":\"#E5ECF6\",\"gridcolor\":\"white\",\"linecolor\":\"white\",\"showbackground\":true,\"ticks\":\"\",\"zerolinecolor\":\"white\",\"gridwidth\":2}},\"shapedefaults\":{\"line\":{\"color\":\"#2a3f5f\"}},\"annotationdefaults\":{\"arrowcolor\":\"#2a3f5f\",\"arrowhead\":0,\"arrowwidth\":1},\"geo\":{\"bgcolor\":\"white\",\"landcolor\":\"#E5ECF6\",\"subunitcolor\":\"white\",\"showland\":true,\"showlakes\":true,\"lakecolor\":\"white\"},\"title\":{\"x\":0.05},\"mapbox\":{\"style\":\"light\"}}},\"xaxis\":{\"anchor\":\"y\",\"domain\":[0.0,1.0],\"title\":{\"text\":\"x\"}},\"yaxis\":{\"anchor\":\"x\",\"domain\":[0.0,1.0],\"title\":{\"text\":\"y\"}},\"legend\":{\"tracegroupgap\":0},\"margin\":{\"t\":60}},                        {\"responsive\": true}                    ).then(function(){\n",
              "                            \n",
              "var gd = document.getElementById('1f9d81ce-85da-4df1-90a1-4b68b64db4ad');\n",
              "var x = new MutationObserver(function (mutations, observer) {{\n",
              "        var display = window.getComputedStyle(gd).display;\n",
              "        if (!display || display === 'none') {{\n",
              "            console.log([gd, 'removed!']);\n",
              "            Plotly.purge(gd);\n",
              "            observer.disconnect();\n",
              "        }}\n",
              "}});\n",
              "\n",
              "// Listen for the removal of the full notebook cells\n",
              "var notebookContainer = gd.closest('#notebook-container');\n",
              "if (notebookContainer) {{\n",
              "    x.observe(notebookContainer, {childList: true});\n",
              "}}\n",
              "\n",
              "// Listen for the clearing of the current output cell\n",
              "var outputEl = gd.closest('.output');\n",
              "if (outputEl) {{\n",
              "    x.observe(outputEl, {childList: true});\n",
              "}}\n",
              "\n",
              "                        })                };                            </script>        </div>\n",
              "</body>\n",
              "</html>"
            ]
          },
          "metadata": {}
        }
      ]
    },
    {
      "cell_type": "code",
      "source": [
        "import warnings\n",
        "warnings.filterwarnings('ignore')\n",
        "plt.figure(figsize=(16,5))\n",
        "plt.subplot(1,2,1)\n",
        "sns.distplot(df['Close'])\n",
        "\n",
        "plt.show()"
      ],
      "metadata": {
        "id": "yPLpm8lqt6cu",
        "outputId": "43499db7-adf0-4ab6-e001-7baed8ddfc2b",
        "colab": {
          "base_uri": "https://localhost:8080/",
          "height": 261
        }
      },
      "execution_count": 39,
      "outputs": [
        {
          "output_type": "display_data",
          "data": {
            "text/plain": [
              "<Figure size 1600x500 with 1 Axes>"
            ],
            "image/png": "[encoded data removed]"
          },
          "metadata": {}
        }
      ]
    },
    {
      "cell_type": "code",
      "source": [
        "plt.figure(figsize=(16,5))\n",
        "plt.subplot(1,2,1)\n",
        "sns.histplot(df['Close'], kde=True)\n",
        "\n",
        "plt.show()"
      ],
      "metadata": {
        "id": "gMZy2oCwvE2L",
        "outputId": "5768b532-7925-42e9-db17-e0d526b3bef8",
        "colab": {
          "base_uri": "https://localhost:8080/",
          "height": 250
        }
      },
      "execution_count": 40,
      "outputs": [
        {
          "output_type": "display_data",
          "data": {
            "text/plain": [
              "<Figure size 1600x500 with 1 Axes>"
            ],
            "image/png": "[encoded data removed]"
          },
          "metadata": {}
        }
      ]
    },
    {
      "cell_type": "code",
      "source": [
        "outliers"
      ],
      "metadata": {
        "id": "-yKP2xQHzVMr",
        "outputId": "25838626-ccef-4cd5-8873-6a211d347ef0",
        "colab": {
          "base_uri": "https://localhost:8080/"
        }
      },
      "execution_count": 44,
      "outputs": [
        {
          "output_type": "execute_result",
          "data": {
            "text/plain": [
              "[]"
            ]
          },
          "metadata": {},
          "execution_count": 44
        }
      ]
    },
    {
      "cell_type": "markdown",
      "source": [
        "#**Building JSE trading calender**"
      ],
      "metadata": {
        "id": "QENuvQGtWdzQ"
      }
    },
    {
      "cell_type": "code",
      "source": [
        "!pip install exchange_calendars"
      ],
      "metadata": {
        "id": "lP3bL1JSWnor"
      },
      "execution_count": null,
      "outputs": []
    },
    {
      "cell_type": "code",
      "source": [
        "import exchange_calendars as xcals"
      ],
      "metadata": {
        "id": "0d7tiet4XTpk"
      },
      "execution_count": null,
      "outputs": []
    },
    {
      "cell_type": "code",
      "source": [
        "xcals.get_calendar_names(include_aliases=False)"
      ],
      "metadata": {
        "id": "SdBrDb2QZh3b"
      },
      "execution_count": null,
      "outputs": []
    },
    {
      "cell_type": "code",
      "source": [
        "Twentyfourseven = xcals.get_calendar('24/7')\n",
        "Twentyfourseven.schedule.loc[\"2022-01-01\":\"2023-04-24\"]"
      ],
      "metadata": {
        "id": "0vvqLMSfZxsx"
      },
      "execution_count": null,
      "outputs": []
    },
    {
      "cell_type": "code",
      "source": [
        "xjse.previous_close(\"2023-04-26\")"
      ],
      "metadata": {
        "id": "LzLWtOJprfZy"
      },
      "execution_count": null,
      "outputs": []
    },
    {
      "cell_type": "code",
      "source": [
        "xjse.is_session"
      ],
      "metadata": {
        "id": "c1_QKEUy1R4b"
      },
      "execution_count": null,
      "outputs": []
    },
    {
      "cell_type": "code",
      "source": [
        "# necessary imports\n",
        "import pandas as pd\n",
        "from os import listdir\n",
        "from exchange_calendars import get_calendar\n",
        "# the path to where you have your data\n",
        "path = '/content/Stocks_final2/'"
      ],
      "metadata": {
        "id": "0FNfOInxeBYT"
      },
      "execution_count": null,
      "outputs": []
    },
    {
      "cell_type": "markdown",
      "source": [
        "#**Programme JSE Stock Momentum Ranking Table**"
      ],
      "metadata": {
        "id": "ReQHevZiLrtP"
      }
    },
    {
      "cell_type": "code",
      "source": [
        "\n",
        "%matplotlib inline\n",
        "import pandas as pd\n",
        "data = pd.read_csv('allshareza.csv', index_col='Date', parse_dates=['Date'])\n",
        "data.drop(columns=[\"Unnamed: 0\",\"Open\", \"High\", \"Low\", \"Volume\", \"Dividends\", \"Stock Splits\"], inplace=True) \n",
        "data['SMA'] = data['Close'].rolling(50).mean()\n",
        "data.plot()"
      ],
      "metadata": {
        "id": "5T2y8N8TMkS0"
      },
      "execution_count": null,
      "outputs": []
    },
    {
      "cell_type": "code",
      "source": [
        "data"
      ],
      "metadata": {
        "id": "m6iW2nFxDFnm"
      },
      "execution_count": null,
      "outputs": []
    },
    {
      "cell_type": "code",
      "source": [
        "from datetime import datetime \n",
        "import pandas as pd\n",
        "import matplotlib.pyplot as plt\n",
        "import numpy as np\n",
        "%matplotlib inline\n",
        "plt.rcParams[\"figure.figsize\"] = (10, 6) # (w, h)\n",
        "plt.ioff()"
      ],
      "metadata": {
        "id": "9xXBRrw-5W3n"
      },
      "execution_count": null,
      "outputs": []
    },
    {
      "cell_type": "code",
      "source": [
        "tickers = pd.read_csv('/content/tickers.csv', header=None)[1].tolist()\n",
        "stocks = (\n",
        "    (pd.concat(\n",
        "        [pd.read_csv(f\"/content/Stocks_final2/{ticker}.csv\", parse_dates=True)\n",
        "        for ticker in tickers],\n",
        "        axis=1,\n",
        "        sort=True)\n",
        "    )\n",
        ")\n",
        "stocks = stocks.loc[:,~stocks.columns.duplicated()]"
      ],
      "metadata": {
        "id": "XT-jPHGK5dvN"
      },
      "execution_count": null,
      "outputs": []
    },
    {
      "cell_type": "code",
      "source": [
        "stocks=stocks.dropna()\n",
        "stocks=stocks.drop(columns =[\"Unnamed: 0\", \"open\",\"high\",\"low\",\"volume\"])"
      ],
      "metadata": {
        "id": "aDwyICUI7EIa"
      },
      "execution_count": null,
      "outputs": []
    },
    {
      "cell_type": "code",
      "source": [
        "stocks.info()\n",
        "stocks.set_index('date', inplace=True)\n",
        "stocks"
      ],
      "metadata": {
        "id": "19wj9fFnDtjM"
      },
      "execution_count": null,
      "outputs": []
    },
    {
      "cell_type": "code",
      "source": [
        "from scipy.stats import linregress\n",
        "def momentum(close):\n",
        "    returns = np.log(close)\n",
        "    x = np.arange(len(returns))\n",
        "    slope, _, rvalue, _, _ = linregress(x, returns)\n",
        "    return ((1 + slope) ** 252) * (rvalue ** 2)  # annualize"
      ],
      "metadata": {
        "id": "frsYvsTTClab"
      },
      "execution_count": null,
      "outputs": []
    },
    {
      "cell_type": "code",
      "source": [
        "\n",
        "momentums = stocks.copy(deep=True)\n",
        "for ticker in tickers:\n",
        "    momentums[ticker] = stocks[ticker].rolling(90).apply(momentum, raw=False)"
      ],
      "metadata": {
        "id": "lps5EubUCw8U"
      },
      "execution_count": null,
      "outputs": []
    },
    {
      "cell_type": "code",
      "source": [
        "momentums"
      ],
      "metadata": {
        "id": "cXF2awJ5H8sS"
      },
      "execution_count": null,
      "outputs": []
    },
    {
      "cell_type": "code",
      "source": [
        "momentums"
      ],
      "metadata": {
        "id": "FVL_vXQXEKD5"
      },
      "execution_count": null,
      "outputs": []
    }
  ]
}