{
  "nbformat": 4,
  "nbformat_minor": 0,
  "metadata": {
    "colab": {
      "name": "Zipline_Reloaded_BacktestEngine.ipynb",
      "provenance": [],
      "include_colab_link": true
    },
    "kernelspec": {
      "display_name": "Python 3",
      "name": "python3"
    },
    "language_info": {
      "name": "python"
    }
  },
  "cells": [
    {
      "cell_type": "markdown",
      "metadata": {
        "id": "view-in-github",
        "colab_type": "text"
      },
      "source": [
        "<a href=\"https://colab.research.google.com/github/helmieresearch/helmieresearch/blob/main/Momentum_Ranking_Model.ipynb\" target=\"_parent\"><img src=\"https://colab.research.google.com/assets/colab-badge.svg\" alt=\"Open In Colab\"/></a>"
      ]
    },
    {
      "cell_type": "markdown",
      "source": [
        "# 🧰**INSTALL MODULES**"
      ],
      "metadata": {
        "id": "xRTs1_SK0Scj"
      }
    },
    {
      "cell_type": "code",
      "source": [
        "# Mount Google Drive\n",
        "from google.colab import drive\n",
        "drive.mount('/content/drive')"
      ],
      "metadata": {
        "id": "ABrWrt1q06gq",
        "collapsed": true
      },
      "execution_count": null,
      "outputs": []
    },
    {
      "cell_type": "code",
      "metadata": {
        "id": "1tlwk44QhErd"
      },
      "source": [
        "# Install ta-lib v0.4.0\n",
        "%%bash\n",
        "wget http://prdownloads.sourceforge.net/ta-lib/ta-lib-0.4.0-src.tar.gz\n",
        "tar -xzf ta-lib-0.4.0-src.tar.gz\n",
        "cd ta-lib/\n",
        "./configure\n",
        "make\n",
        "make install"
      ],
      "execution_count": null,
      "outputs": []
    },
    {
      "cell_type": "code",
      "metadata": {
        "id": "JSwN3Ywihz3r",
        "collapsed": true
      },
      "source": [
        "# Install zipline\n",
        "%pip install zipline-reloaded"
      ],
      "execution_count": null,
      "outputs": []
    },
    {
      "cell_type": "code",
      "source": [
        "!pip install iso3166==2.0.2"
      ],
      "metadata": {
        "id": "w2cgjqTU8TKt"
      },
      "execution_count": null,
      "outputs": []
    },
    {
      "cell_type": "code",
      "source": [
        "# Install Pyfolio\n",
        "!pip install pyfolio-reloaded"
      ],
      "metadata": {
        "id": "m-y07xfPTFVK",
        "collapsed": true
      },
      "execution_count": null,
      "outputs": []
    },
    {
      "cell_type": "code",
      "source": [
        "# Install matplot library\n",
        "!pip install matplotlib"
      ],
      "metadata": {
        "collapsed": true,
        "id": "zoV1_FSc_5MW"
      },
      "execution_count": null,
      "outputs": []
    },
    {
      "cell_type": "code",
      "source": [
        "# Install data bundle 'Quandl'\n",
        "!pip install quandl"
      ],
      "metadata": {
        "collapsed": true,
        "id": "8-pgTCGp2XzF"
      },
      "execution_count": null,
      "outputs": []
    },
    {
      "cell_type": "code",
      "source": [
        "import zipline\n",
        "zipline.__version__"
      ],
      "metadata": {
        "id": "C9erwAEdVunF"
      },
      "execution_count": null,
      "outputs": []
    },
    {
      "cell_type": "code",
      "source": [
        "!pip install nasdaq-data-link"
      ],
      "metadata": {
        "id": "jjqASrBOT4Rc"
      },
      "execution_count": null,
      "outputs": []
    },
    {
      "cell_type": "code",
      "source": [
        "!pip install Plotly express"
      ],
      "metadata": {
        "id": "xs_1PByfqULD"
      },
      "execution_count": null,
      "outputs": []
    },
    {
      "cell_type": "markdown",
      "source": [
        "# 💽**SET WORKING DIRECTORY**"
      ],
      "metadata": {
        "id": "4Ixua2eyz0Hr"
      }
    },
    {
      "cell_type": "code",
      "source": [
        "import os\n",
        "\n",
        "# Set your working directory to a folder in your Google Drive. This way, if your notebook times out,\n",
        "# your files will be saved in your Google Drive!\n",
        "\n",
        "# the base Google Drive directory\n",
        "root_dir = \"/content/drive/\"\n"
      ],
      "metadata": {
        "id": "eWtZZXQol34j"
      },
      "execution_count": null,
      "outputs": []
    },
    {
      "cell_type": "code",
      "source": [
        "import os\n",
        "\n",
        "# Set your working directory to a folder in your Google Drive. This way, if your notebook times out,\n",
        "# your files will be saved in your Google Drive!\n",
        "\n",
        "\n",
        "# choose where you want your project files to be saved\n",
        "project_folder = \"MyDrive/Colab Notebooks/My Project Folder\"\n"
      ],
      "metadata": {
        "id": "c4jxNssSmApK"
      },
      "execution_count": null,
      "outputs": []
    },
    {
      "cell_type": "code",
      "source": [
        "def create_and_set_working_directory(project_folder):\n",
        "  # check if your project folder exists. if not, it will be created.\n",
        "  if os.path.isdir(root_dir + project_folder) == False:\n",
        "    os.mkdir(root_dir + project_folder)\n",
        "    print(root_dir + project_folder + ' did not exist but was created.')\n",
        "\n",
        "  # change the OS to use your project folder as the working directory\n",
        "  os.chdir(root_dir + project_folder)\n",
        "\n",
        "  # create a test file to make sure it shows up in the right place\n",
        "  !touch 'new_file_in_working_directory.txt'\n",
        "  print('\\nYour working directory was changed to ' + root_dir + project_folder + \\\n",
        "        \"\\n\\nAn empty text file was created there. You can also run !pwd to confirm the current working directory.\" )\n",
        "\n",
        "create_and_set_working_directory(project_folder)"
      ],
      "metadata": {
        "id": "Y0PGKB_SmAR5"
      },
      "execution_count": null,
      "outputs": []
    },
    {
      "cell_type": "code",
      "source": [
        "# Confirm current working directory\n",
        "!pwd"
      ],
      "metadata": {
        "id": "Q4_HSs4HneUa"
      },
      "execution_count": null,
      "outputs": []
    },
    {
      "cell_type": "code",
      "source": [
        "import os\n",
        "for f in os.listdir(\"//content/drive/MyDrive/Colab Notebooks/My Project Folder\"):\n",
        "\tprint(f)"
      ],
      "metadata": {
        "id": "8HB8gDZGqsfB"
      },
      "execution_count": null,
      "outputs": []
    },
    {
      "cell_type": "markdown",
      "source": [
        "# ⏳**INGEST DATA**"
      ],
      "metadata": {
        "id": "z5Y1KYNHeqeu"
      }
    },
    {
      "cell_type": "code",
      "source": [
        "# Ingest custom bundle\n",
        "!zipline ingest --bundle 'crypto'"
      ],
      "metadata": {
        "id": "CvMaJ1U1eVhB"
      },
      "execution_count": null,
      "outputs": []
    },
    {
      "cell_type": "code",
      "source": [
        "# Ingest custom bundle\n",
        "!zipline ingest --bundle 'equities_csvdir'"
      ],
      "metadata": {
        "id": "okd6vU6j5iPt"
      },
      "execution_count": null,
      "outputs": []
    },
    {
      "cell_type": "code",
      "source": [
        "# Ingest custom bundle\n",
        "!zipline ingest --bundle 'random_futures_data'"
      ],
      "metadata": {
        "id": "1tKhQWGK5Z8T"
      },
      "execution_count": null,
      "outputs": []
    },
    {
      "cell_type": "code",
      "source": [
        "# Ingest custom bundle\n",
        "!zipline ingest --bundle 'random_stock_data'"
      ],
      "metadata": {
        "id": "lvSZVAHNJDW4"
      },
      "execution_count": null,
      "outputs": []
    },
    {
      "cell_type": "code",
      "source": [
        "'''\n",
        "INGEST QUANDL STOCK BUNDLE\n",
        "'''\n",
        "# Ingest bundle API\n",
        "!QUANDL_API_KEY=KUnssHvVERHb5XYu9C1- zipline ingest -b 'quandl'"
      ],
      "metadata": {
        "id": "KiUF_IBQCSlm",
        "collapsed": true
      },
      "execution_count": null,
      "outputs": []
    },
    {
      "cell_type": "code",
      "source": [
        "# Confirm existing bundles\n",
        "!zipline bundles"
      ],
      "metadata": {
        "id": "Ol2e01cH_O3z"
      },
      "execution_count": null,
      "outputs": []
    },
    {
      "cell_type": "code",
      "source": [
        "# clean everything older than <date>\n",
        "!zipline clean -b random_stock_data  --after 2022-04-13"
      ],
      "metadata": {
        "id": "mzYjOy4meAx3"
      },
      "execution_count": null,
      "outputs": []
    },
    {
      "cell_type": "markdown",
      "source": [
        "# 📊**ANDREAS CLENOW MODELS**"
      ],
      "metadata": {
        "id": "r6pHOCkwUJOo"
      }
    },
    {
      "cell_type": "markdown",
      "source": [
        "## **Clenow Momentum Model**\n",
        "\n",
        "---\n"
      ],
      "metadata": {
        "id": "EHQUpvbK0RNj"
      }
    },
    {
      "cell_type": "code",
      "source": [
        "#@title\n",
        "%matplotlib inline\n",
        "\n",
        "import zipline\n",
        "from zipline import run_algorithm\n",
        "from zipline.api import order_target_percent, symbol, set_commission, set_slippage, schedule_function, date_rules, time_rules\n",
        "from pandas import Timestamp\n",
        "from datetime import datetime\n",
        "import pytz\n",
        "import matplotlib.pyplot as plt\n",
        "import pyfolio as pf\n",
        "import pandas as pd\n",
        "import numpy as np\n",
        "from scipy import stats\n",
        "from zipline.finance.commission import PerDollar\n",
        "from zipline.finance.slippage import VolumeShareSlippage, FixedSlippage\n",
        "\n",
        "#Model Settings\n",
        "\n",
        "intial_portfolio = 100000\n",
        "momentum_window = 125\n",
        "minimum_momentum = 40\n",
        "portfolio_size = 30\n",
        "vola_window = 20\n",
        "\n",
        "#Commission and Slippage Settings\n",
        "\n",
        "enable_commission = True\n",
        "commission_pct = 0.001\n",
        "enable_slippage = True\n",
        "slippage_volume_limit = 0.025\n",
        "slippage_impact = 0.05\n",
        "\n",
        "def momentum_score(ts):\n",
        "\n",
        "  #Input: Price time series.Output: Annualized exponential regression slope, multiplied by the R2\n",
        "\n",
        "  # Make a list of consecutive numbers\n",
        "  x = np.arange(len(ts))\n",
        "  # Get logs\n",
        "  log_ts = np.log(ts)\n",
        "  # Calculate regression values\n",
        "  slope, intercept, r_value, p_value, std_err = stats.linregress(x, log_ts)\n",
        "  # Annualize percent\n",
        "  annualized_slope = (np.power(np.exp(slope), 252) - 1) * 100\n",
        "  #Adjust for fitness\n",
        "  score = annualized_slope * (r_value ** 2)\n",
        "  return score\n",
        "\n",
        "def volatility(ts):\n",
        "  return ts.pct_change().rolling(vola_window).std().iloc[-1]\n",
        "\n",
        "def output_progress(context):\n",
        "\n",
        "  #Output some performance numbers during backtest run\n",
        "  #This code just prints out the past month's performance,\n",
        "  # so that we have something to look at while the backtest runs.\n",
        "\n",
        "  # Get today's date\n",
        "  today = zipline.api.get_datetime().date()\n",
        "\n",
        "  # Calculate percent difference since last month\n",
        "  perf_pct = (context.portfolio.portfolio_value / context.last_month) - 1\n",
        "\n",
        "  # Print performance, format as percent with two decimals.\n",
        "  print(\"{} - Last Month Result: {:.2%}\".format(today, perf_pct))\n",
        "\n",
        "  # Remember today's portfolio value for next month's calculation\n",
        "  context.last_month = context.portfolio.portfolio_value\n",
        "\n",
        "#Initialization and trading logic\n",
        "\n",
        "\n",
        "def initialize(context):\n",
        "\n",
        "  # Set commission and slippage.\n",
        "  if enable_commission:\n",
        "    comm_model = PerDollar(cost=commission_pct)\n",
        "  else:\n",
        "    comm_model = PerDollar(cost=0.0)\n",
        "  set_commission(comm_model)\n",
        "  if enable_slippage: slippage_model=VolumeShareSlippage(volume_limit=slippage_volume_limit,\n",
        "price_impact=slippage_impact)\n",
        "  else:\n",
        "    slippage_model=FixedSlippage(spread=0.0)\n",
        "  set_slippage(slippage_model)\n",
        "\n",
        "  # Used only for progress output.\n",
        "  context.last_month = intial_portfolio\n",
        "\n",
        "  # Store index membership\n",
        "  context.index_members = pd.read_csv('/content/drive/MyDrive/Colab Notebooks/My Project Folder/index members/sp500.csv', engine='python', error_bad_lines=False)\n",
        "\n",
        "\n",
        "  #Schedule rebalance monthly.\n",
        "  schedule_function(\n",
        "    func=rebalance,\n",
        "    date_rule=date_rules.month_start(),\n",
        "    time_rule=time_rules.market_open()\n",
        "  )\n",
        "\n",
        "def rebalance(context, data):\n",
        "  # Write some progress output during the backtest\n",
        "  output_progress(context)\n",
        "\n",
        "  # First, get today's date\n",
        "  today = zipline.api.get_datetime().date()\n",
        "\n",
        "  # Second, get the index makeup for all days prior to today.\n",
        "  all_prior = context.index_members.loc[context.index_members.index < today]\n",
        "\n",
        "  todays_universe = [\n",
        "    symbol(ticker) for ticker in\n",
        "    context.index_members.loc[context.index_members.index < today].iloc[-1,0].split(',')\n",
        "  ]\n",
        "\n",
        "  # Get historical data\n",
        "  hist = data.history(todays_universe, \"close\", momentum_window, \"1d\")\n",
        "\n",
        "  # Make momentum ranking table\n",
        "  ranking_table = hist.apply(momentum_score).sort_values(ascending=False)\n",
        "\n",
        "  #Sell Logic\n",
        "  #First we check if any existing position should be sold.\n",
        "    #Sell if stock is no longer part of index.\n",
        "    #Sell if stock has too low momentum value.\n",
        "\n",
        "  kept_positions = list(context.portfolio.positions.keys())\n",
        "  for security in context.portfolio.positions:\n",
        "    if (security not in todays_universe):\n",
        "      order_target_percent(security, 0.0)\n",
        "      kept_positions.remove(security)\n",
        "    elif ranking_table[security] < minimum_momentum:\n",
        "      order_target_percent(security, 0.0)\n",
        "      kept_positions.remove(security)\n",
        "\n",
        "  #Stock Selection Logic\n",
        "  #Check how many stocks we are keeping from last month.\n",
        "  #Fill from top of ranking list, until we reach the desired total number of portfolio holdings.\n",
        "\n",
        "  replacement_stocks = portfolio_size - len(kept_positions)\n",
        "  buy_list = ranking_table.loc[\n",
        "    ~ranking_table.index.isin(kept_positions)][:replacement_stocks]\n",
        "  new_portfolio = pd.concat(\n",
        "    (buy_list,\n",
        "    ranking_table.loc[ranking_table.index.isin(kept_positions)])\n",
        "  )\n",
        "  buy_list = ranking_table.loc[\n",
        "    ~ranking_table.index.isin(kept_positions)][:replacement_stocks]\n",
        "\n",
        "  #Calculate inverse volatility for stocks, and make target position weights.\n",
        "\n",
        "  vola_table = hist[new_portfolio.index].apply(volatility)\n",
        "  inv_vola_table = 1 / vola_table\n",
        "  sum_inv_vola = np.sum(inv_vola_table)\n",
        "  vola_target_weights = inv_vola_table / sum_inv_vola\n",
        "  for security, rank in new_portfolio.iteritems():\n",
        "    weight = vola_target_weights[security]\n",
        "    if security in kept_positions:\n",
        "      order_target_percent(security, weight)\n",
        "    else:\n",
        "      if ranking_table[security] > minimum_momentum:\n",
        "        order_target_percent(security, weight)\n",
        "\n",
        "def analyze(context, perf):\n",
        "  perf['max'] = perf.portfolio_value.cummax()\n",
        "  perf['dd'] = (perf.portfolio_value / perf['max']) - 1\n",
        "  maxdd = perf['dd'].min()\n",
        "\n",
        "  ann_ret = (np.power((perf.portfolio_value.iloc[-1] / perf.portfolio_value.iloc[0]),(252 / len(perf)))) - 1\n",
        "\n",
        "  print(\"Annualized Return: {:.2%} Max Drawdown: {:.2%}\".format(ann_ret, maxdd))\n",
        "\n",
        "  return\n",
        "'''\n",
        "start = datetime(1997, 1, 1, 8, 15, 12, 0, pytz.UTC)\n",
        "end = datetime(2018, 12, 31, 8, 15, 12, 0, pytz.UTC)\n",
        "'''\n",
        "\n",
        "start = pd.Timestamp('1997-1-1', tz='utc')\n",
        "end = pd.Timestamp('2018-12-31', tz='utc')\n",
        "\n",
        "perf = zipline.run_algorithm(start=start, end=end,\n",
        "                             initialize=initialize,\n",
        "                             analyze=analyze,\n",
        "                             capital_base=intial_portfolio,\n",
        "                             data_frequency = 'daily',\n",
        "                             bundle='quandl' )"
      ],
      "metadata": {
        "id": "6aRGAkzKLH88",
        "collapsed": true,
        "cellView": "code"
      },
      "execution_count": null,
      "outputs": []
    },
    {
      "cell_type": "markdown",
      "source": [
        "## **Clenow Trend Model**"
      ],
      "metadata": {
        "id": "x83jcz1QUFDe"
      }
    },
    {
      "cell_type": "code",
      "source": [
        "\n",
        "%matplotlib inline\n",
        "\n",
        "import zipline\n",
        "from zipline.api import future_symbol,  \\\n",
        "    set_commission, set_slippage, schedule_function, date_rules, \\\n",
        "    time_rules, continuous_future, order_target\n",
        "from pandas import Timestamp\n",
        "import pytz\n",
        "import datetime as datetime\n",
        "import matplotlib.pyplot as plt\n",
        "import pyfolio as pf\n",
        "import pandas as pd\n",
        "import numpy as np\n",
        "from zipline.finance.commission import PerTrade, PerContract\n",
        "from zipline.finance.slippage import VolumeShareSlippage, \\\n",
        "    FixedSlippage, VolatilityVolumeShare\n",
        "\n",
        "# These lines are for the dynamic text reporting\n",
        "from IPython.display import display\n",
        "import ipywidgets as widgets\n",
        "out = widgets.HTML()\n",
        "display(out)\n",
        "\n",
        "\"\"\"\n",
        "Model Settings\n",
        "\"\"\"\n",
        "starting_portfolio = 50000000\n",
        "risk_factor = 0.0015\n",
        "stop_distance = 3\n",
        "breakout_window = 50\n",
        "vola_window = 40\n",
        "slow_ma = 80\n",
        "fast_ma = 40\n",
        "enable_commission = True\n",
        "enable_slippage = True\n",
        "\n",
        "\n",
        "def report_result(context, data):\n",
        "    context.months += 1\n",
        "    today = zipline.api.get_datetime().date()\n",
        "    # Calculate annualized return so far\n",
        "    ann_ret = np.power(context.portfolio.portfolio_value / starting_portfolio,\n",
        "                   12 / context.months) - 1\n",
        "\n",
        "    # Update the text\n",
        "    out.value = \"\"\"{} We have traded <b>{}</b> months\n",
        "    and the annualized return is <b>{:.2%}</b>\"\"\".format(today, context.months, ann_ret)\n",
        "\n",
        "def roll_futures(context, data):\n",
        "    open_orders = zipline.api.get_open_orders()\n",
        "\n",
        "    for held_contract in context.portfolio.positions:\n",
        "        # don't roll positions that are set to change by core logic\n",
        "        if held_contract in open_orders:\n",
        "            continue\n",
        "\n",
        "        # Save some time by only checking rolls for\n",
        "        # contracts stopping trading in the next days\n",
        "        days_to_auto_close = (\n",
        "            held_contract.auto_close_date.date() - data.current_session.date()\n",
        "        ).days\n",
        "        if days_to_auto_close > 5:\n",
        "            continue\n",
        "\n",
        "        # Make a continuation\n",
        "        continuation = continuous_future(\n",
        "                held_contract.root_symbol,\n",
        "                offset=0,\n",
        "                roll='volume',\n",
        "                adjustment='mul'\n",
        "                )\n",
        "\n",
        "        # Get the current contract of the continuation\n",
        "        continuation_contract = data.current(continuation, 'contract')\n",
        "\n",
        "        if continuation_contract != held_contract:\n",
        "            # Check how many contracts we hold\n",
        "            pos_size = context.portfolio.positions[held_contract].amount\n",
        "            # Close current position\n",
        "            order_target(held_contract, 0)\n",
        "            # Open new position\n",
        "            order_target(continuation_contract, pos_size)\n",
        "\n",
        "def position_size(portfolio_value, std, point_value):\n",
        "    target_variation = portfolio_value * risk_factor\n",
        "    contract_variation = std * point_value\n",
        "    contracts = target_variation / contract_variation\n",
        "    return int(np.nan_to_num(contracts))\n",
        "\n",
        "def initialize(context):\n",
        "\n",
        "    \"\"\"\n",
        "    Cost Settings\n",
        "    \"\"\"\n",
        "    if enable_commission:\n",
        "        comm_model = PerContract(cost=0.85, exchange_fee=1.5)\n",
        "    else:\n",
        "        comm_model = PerTrade(cost=0.0)\n",
        "\n",
        "    set_commission(us_futures=comm_model)\n",
        "\n",
        "    if enable_slippage:\n",
        "        slippage_model=VolatilityVolumeShare(volume_limit=0.2)\n",
        "    else:\n",
        "        slippage_model=FixedSlippage(spread=0.0)\n",
        "\n",
        "    set_slippage(us_futures=slippage_model)\n",
        "\n",
        "    \"\"\"\n",
        "    Markets to trade\n",
        "    \"\"\"\n",
        "    currencies = [\n",
        "        'AD',\n",
        "        'BP',\n",
        "        'CD',\n",
        "        'CU',\n",
        "        'DX',\n",
        "        'JY',\n",
        "        'NE',\n",
        "        'SF',\n",
        "    ]\n",
        "\n",
        "    agricultural = [\n",
        "        '_C',\n",
        "        'CT',\n",
        "        'FC',\n",
        "        'KC',\n",
        "        'LR',\n",
        "        'LS',\n",
        "        '_O',\n",
        "        '_S',\n",
        "        'SB',\n",
        "        'SM',\n",
        "        '_W',\n",
        "    ]\n",
        "    nonagricultural = [\n",
        "        'CL',\n",
        "        'GC',\n",
        "        'HG',\n",
        "        'HO',\n",
        "        'LG',\n",
        "        'NG',\n",
        "        'PA',\n",
        "        'PL',\n",
        "        'RB',\n",
        "        'SI',\n",
        "    ]\n",
        "    equities = [\n",
        "        'ES',\n",
        "        'NK',\n",
        "        'NQ',\n",
        "        'TW',\n",
        "        'VX',\n",
        "        'YM',\n",
        "    ]\n",
        "    rates = [\n",
        "        'ED',\n",
        "        'FV',\n",
        "        'TU',\n",
        "        'TY',\n",
        "        'US',\n",
        "    ]\n",
        "\n",
        "    # Make a list of all the markets\n",
        "    markets = currencies + agricultural + nonagricultural + equities + rates\n",
        "\n",
        "    # Make a list of all continuations\n",
        "    context.universe = [\n",
        "        continuous_future(market, offset=0, roll='volume', adjustment='mul')\n",
        "            for market in markets\n",
        "    ]\n",
        "\n",
        "    # We'll use these to keep track of best position reading\n",
        "    # Used to calculate stop points.\n",
        "    context.highest_in_position = {market: 0 for market in markets}\n",
        "    context.lowest_in_position = {market: 0 for market in markets}\n",
        "\n",
        "    # Schedule the daily trading\n",
        "    schedule_function(daily_trade, date_rules.every_day(), time_rules.market_close())\n",
        "\n",
        "    # We'll just use this for the progress output\n",
        "    # during the backtest. Doesn't impact anything.\n",
        "    context.months = 0\n",
        "\n",
        "    # Schedule monthly report output\n",
        "    schedule_function(\n",
        "        func=report_result,\n",
        "        date_rule=date_rules.month_start(),\n",
        "        time_rule=time_rules.market_open()\n",
        "    )\n",
        "\n",
        "def analyze(context, perf):\n",
        "    returns, positions, transactions = pf.utils.extract_rets_pos_txn_from_zipline(perf)\n",
        "    pf.create_returns_tear_sheet(returns, benchmark_rets=None)\n",
        "\n",
        "def daily_trade(context, data):\n",
        "    # Get continuation data\n",
        "    hist = data.history(\n",
        "        context.universe,\n",
        "        fields=['close','volume'],\n",
        "        frequency='1d',\n",
        "        bar_count=250,\n",
        "    )\n",
        "\n",
        "    # Calculate trend\n",
        "    hist['trend'] = hist['close'].ewm(span=fast_ma).mean() > hist['close'].ewm(span=slow_ma).mean()\n",
        "\n",
        "    # Make dictionary of open positions\n",
        "    open_pos = {\n",
        "        pos.root_symbol: pos\n",
        "        for pos in context.portfolio.positions\n",
        "    }\n",
        "\n",
        "    # Iterate markets, check for trades\n",
        "    for continuation in context.universe:\n",
        "\n",
        "        # Get root symbol of continuation\n",
        "        root = continuation.root_symbol\n",
        "\n",
        "        # Slice off history for just this market\n",
        "        h = hist.xs(continuation, 2)\n",
        "\n",
        "        # Get standard deviation\n",
        "        std = h.close.diff()[-vola_window:].std()\n",
        "\n",
        "        if root in open_pos: # Position is open\n",
        "\n",
        "            # Get position\n",
        "            p = context.portfolio.positions[open_pos[root]]\n",
        "\n",
        "            if p.amount > 0: # Position is long\n",
        "                if context.highest_in_position[root] == 0: # First day holding the position\n",
        "                    context.highest_in_position[root] = p.cost_basis\n",
        "                else:\n",
        "                    context.highest_in_position[root] = max(\n",
        "                        h['close'].iloc[-1], context.highest_in_position[root]\n",
        "                    )\n",
        "\n",
        "                # Calculate stop point\n",
        "                stop = context.highest_in_position[root] - (std  * stop_distance)\n",
        "                # Check if stop is hit\n",
        "                if h.iloc[-1]['close'] < stop:\n",
        "                    contract = open_pos[root]\n",
        "                    order_target(contract, 0)\n",
        "                    context.highest_in_position[root] = 0\n",
        "                # Check if trend has flipped\n",
        "                elif h['trend'].iloc[-1] == False:\n",
        "                    contract = open_pos[root]\n",
        "                    order_target(contract, 0)\n",
        "                    context.highest_in_position[root] = 0\n",
        "\n",
        "            else: # Position is short\n",
        "                if context.lowest_in_position[root] == 0: # First day holding the position\n",
        "                    context.lowest_in_position[root] = p.cost_basis\n",
        "                else:\n",
        "                    context.lowest_in_position[root] = min(\n",
        "                        h['close'].iloc[-1], context.lowest_in_position[root]\n",
        "                    )\n",
        "\n",
        "                # Calculate stop point\n",
        "                stop = context.lowest_in_position[root] + (std  * stop_distance)\n",
        "\n",
        "                # Check if stop is hit\n",
        "                if h.iloc[-1]['close'] > stop:\n",
        "                    contract = open_pos[root]\n",
        "                    order_target(contract, 0)\n",
        "                    context.lowest_in_position[root] = 0\n",
        "                # Check if trend has flipped\n",
        "                elif h['trend'].iloc[-1] == True:\n",
        "                    contract = open_pos[root]\n",
        "                    order_target(contract, 0)\n",
        "                    context.lowest_in_position[root] = 0\n",
        "\n",
        "        else: # No position on\n",
        "            if h['trend'].iloc[-1]: # Bull trend\n",
        "                # Check if we just made a new high\n",
        "                if h['close'][-1] == h[-breakout_window:]['close'].max():\n",
        "                    contract = data.current(continuation, 'contract')\n",
        "\n",
        "                    contracts_to_trade = position_size( \\\n",
        "                                                       context.portfolio.portfolio_value, \\\n",
        "                                                       std, \\\n",
        "                                                       contract.price_multiplier)\n",
        "\n",
        "                    # Limit size to 20% of avg. daily volume\n",
        "                    contracts_cap = int(h['volume'][-20:].mean() * 0.2)\n",
        "                    contracts_to_trade = min(contracts_to_trade, contracts_cap)\n",
        "\n",
        "                    # Place the order\n",
        "                    order_target(contract, contracts_to_trade)\n",
        "\n",
        "            else: # Bear trend\n",
        "                # Check if we just made a new low\n",
        "                if h['close'][-1] == h[-breakout_window:]['close'].min():\n",
        "                    contract = data.current(continuation, 'contract')\n",
        "\n",
        "                    contracts_to_trade = position_size( \\\n",
        "                                                       context.portfolio.portfolio_value, \\\n",
        "                                                       std, \\\n",
        "                                                       contract.price_multiplier)\n",
        "\n",
        "                    # Limit size to 20% of avg. daily volume\n",
        "                    contracts_cap = int(h['volume'][-20:].mean() * 0.2)\n",
        "                    contracts_to_trade = min(contracts_to_trade, contracts_cap)\n",
        "\n",
        "                    # Place the order\n",
        "                    order_target(contract, -1 * contracts_to_trade)\n",
        "\n",
        "    # If we have open positions, check for rolls\n",
        "    if len(open_pos) > 0:\n",
        "        roll_futures(context, data)\n",
        "\n",
        "\n",
        "start = pd.Timestamp('2003-01-01', tz='utc')\n",
        "end = pd.Timestamp('2017-12-31', tz='utc')\n",
        "\n",
        "perf = zipline.run_algorithm(\n",
        "    start=start, end=end,\n",
        "    initialize=initialize,\n",
        "    analyze=analyze,\n",
        "    capital_base=starting_portfolio,\n",
        "    data_frequency = 'daily',\n",
        "    bundle='random_futures_data' )\n",
        "\n",
        "\n"
      ],
      "metadata": {
        "id": "sponWV8ZKDJv"
      },
      "execution_count": null,
      "outputs": []
    },
    {
      "cell_type": "markdown",
      "source": [
        "### 💻**MODEL TESTING**"
      ],
      "metadata": {
        "id": "8gWXJGjGBDbs"
      }
    },
    {
      "cell_type": "markdown",
      "source": [
        "#**DIGITAL ASSETS PROGRAMME**\n",
        "\n"
      ],
      "metadata": {
        "id": "tIM7wTXOAarM"
      }
    },
    {
      "cell_type": "markdown",
      "source": [
        "## **Systems**\n",
        "\n",
        "---\n",
        "\n"
      ],
      "metadata": {
        "id": "TycKaYmxuCVl"
      }
    },
    {
      "cell_type": "markdown",
      "source": [
        "### Single Asset Backtest"
      ],
      "metadata": {
        "id": "ySxEKidEU606"
      }
    },
    {
      "cell_type": "code",
      "source": [
        "# This ensures that our graphs will be shown properly in the notebook.\n",
        "%matplotlib inline\n",
        "\n",
        "# Import libraries\n",
        "import zipline\n",
        "from zipline import run_algorithm\n",
        "from zipline.api import order_target_percent, symbol\n",
        "from datetime import datetime\n",
        "import pytz\n",
        "import matplotlib.pyplot as plt\n",
        "import pandas as pd\n",
        "\n",
        "def initialize(context):\n",
        "  # Which asset to trade\n",
        "  context.asset = symbol('ABG.JO')\n",
        "\n",
        "  # Moving average window\n",
        "  context.index_average_window = 100\n",
        "\n",
        "def handle_data(context, data):\n",
        "  # Request history for the stock\n",
        "  btc_hist = data.history(context.asset, \"close\",\n",
        "                               context.index_average_window, \"1d\")\n",
        "\n",
        "  # Check if price is above moving average\n",
        "  if btc_hist[-1] > btc_hist.mean():\n",
        "    asset_weight = 1.0\n",
        "  else:\n",
        "    asset_weight = 0.0\n",
        "    # Place order\n",
        "    order_target_percent(context.asset, asset_weight)\n",
        "\n",
        "def analyze(context, perf):\n",
        "\n",
        "  fig = plt.figure(figsize=(12, 8))\n",
        "\n",
        "    # First char\n",
        "  ax = fig.add_subplot(311)\n",
        "  ax.set_title('Strategy Results')\n",
        "  ax.semilogy(perf['portfolio_value'], linestyle='-',\n",
        "              label='Equity Curve', linewidth=3.0)\n",
        "  ax.legend()\n",
        "  ax.grid(False)\n",
        "\n",
        "  # Second chart\n",
        "  ax = fig.add_subplot(312)\n",
        "  ax.plot(perf['gross_leverage'],\n",
        "  label='Exposure', linestyle='-', linewidth=1.0)\n",
        "  ax.legend()\n",
        "  ax.grid(True)\n",
        "\n",
        "  # Third chart\n",
        "  ax = fig.add_subplot(313)\n",
        "  ax.plot(perf['returns'], label='Returns', linestyle='-.',\n",
        "          linewidth=1.0)\n",
        "  ax.legend()\n",
        "  ax.grid(True)"
      ],
      "metadata": {
        "id": "kcHu_Gsb7cll"
      },
      "execution_count": null,
      "outputs": []
    },
    {
      "cell_type": "markdown",
      "source": [
        "### Equal Weight Model"
      ],
      "metadata": {
        "id": "_tfGWw1gYDlo"
      }
    },
    {
      "cell_type": "code",
      "source": [
        "\n",
        "# Import a few libraries we need\n",
        "import zipline\n",
        "from zipline import run_algorithm\n",
        "from zipline.api import order_target_percent, symbol, schedule_function, date_rules, time_rules\n",
        "from datetime import datetime\n",
        "import pytz\n",
        "import pyfolio as pf\n",
        "import pandas as pd\n",
        "import numpy as np\n",
        "\n",
        "def initialize(context):\n",
        "\n",
        "  # Which stock to trade\n",
        "\n",
        "\n",
        "  JSE_UNIVESRE = mylist\n",
        "\n",
        "\n",
        "\n",
        "  #Make a list of symbols from the list of tickers\n",
        "  context.JSE_UNIVESRE_symbols = [symbol(s) for s in JSE_UNIVESRE]\n",
        "\n",
        "  # Moving average window\n",
        "  context.index_average_window = 52\n",
        "\n",
        "def handle_data(context, data):\n",
        "\n",
        "  # Get history for all the stocks\n",
        "  stock_hist = data.history(context.JSE_UNIVESRE_symbols, \"close\", context.index_average_window, \"1d\")\n",
        "\n",
        "  # Make an empty DataFrame to start with\n",
        "  stock_analytics = pd.DataFrame()\n",
        "\n",
        "  # Add column for above or below average\n",
        "  stock_analytics['above_mean'] = stock_hist.iloc[-1] > stock_hist.mean()\n",
        "\n",
        "  # Set weight for stocks to buy\n",
        "  stock_analytics.loc[stock_analytics['above_mean'] == True, 'weight'] = 1/len(context.JSE_UNIVESRE_symbols)\n",
        "\n",
        "  # Set weight to zero for the rest\n",
        "  stock_analytics.loc[stock_analytics['above_mean'] == False, 'weight'] = 0.0\n",
        "\n",
        "  # Iterate each row and place trades\n",
        "  for stock, analytics in stock_analytics.iterrows():\n",
        "\n",
        "    # Check if the stock can be traded\n",
        "    if data.can_trade(stock):\n",
        "\n",
        "      # Place the trade\n",
        "      order_target_percent(stock, analytics['weight'])\n",
        "\n",
        "def analyze(context, perf):\n",
        "\n",
        "  # Use PyFolio to generate a performance report\n",
        "  returns, positions, transactions = pf.utils.extract_rets_pos_txn_from_zipline(perf)\n",
        "\n",
        "  benchmark_period_return = perf['benchmark_period_return']\n",
        "\n",
        "  daily_benchmark_returns = np.exp(np.log(benchmark_period_return + 1.0).diff()) - 1\n",
        "\n",
        "  # Create tear sheet\n",
        "  pf.create_full_tear_sheet(returns, positions=positions, transactions=transactions, benchmark_rets=None)\n",
        "\n",
        "\"\"\"\n",
        "\n",
        "def analyze(context, perf):\n",
        "\n",
        "  fig = plt.figure(figsize=(12, 8))\n",
        "\n",
        "  # First chart\n",
        "  ax = fig.add_subplot(311)\n",
        "  ax.set_title('Strategy Results')\n",
        "  ax.plot(perf['portfolio_value'], linestyle='-',\n",
        "          label='Equity Curve', linewidth=3.0)\n",
        "  ax.legend()\n",
        "  ax.grid(False)\n",
        "\n",
        "  # Second chart\n",
        "  ax = fig.add_subplot(312)\n",
        "  ax.plot(perf['gross_leverage'],label='Exposure',\n",
        "          linestyle='-', linewidth=1.0)\n",
        "  ax.legend()\n",
        "  ax.grid(True)\n",
        "\n",
        "  # Third chart\n",
        "  ax = fig.add_subplot(313)\n",
        "  ax.plot(perf['returns'], label='Returns', linestyle='-.',\n",
        "          linewidth=1.0)\n",
        "  ax.legend()\n",
        "  ax.grid(True)\n",
        "\n",
        "  \"\"\"\n",
        "\"\"\"\n",
        "# Set start and end date\n",
        "start= datetime.datetime(2022, 3, 15, 0, 0)\n",
        "now_aware = pytz.utc.localize(start)\n",
        "now_aware = start.replace(tzinfo=pytz.UTC)\n",
        "end = datetime.datetime(2023, 4, 1, 0, 0)\n",
        "now_aware2 = pytz.utc.localize(end)\n",
        "now_aware2 = end.replace(tzinfo=pytz.UTC)\n",
        "\"\"\"\n",
        "\n",
        "# Set start and end date\n",
        "start_date = pd.to_datetime('2022-4-21')\n",
        "end_date = pd.to_datetime('2023-4-21')\n",
        "\n",
        "\n",
        "# Fire off the backtest\n",
        "result = run_algorithm(\n",
        "start=start_date,\n",
        "end=end_date,\n",
        "initialize=initialize,\n",
        "analyze=analyze,\n",
        "handle_data=handle_data,\n",
        "capital_base=10000,\n",
        "data_frequency = 'daily', bundle= 'random_stock_data')\n",
        "\"\"\"\n",
        "# Fire off the backtest\n",
        "perf = run_algorithm(\n",
        "start=start_date,\n",
        "end=end_date,\n",
        "initialize=initialize,\n",
        "analyze=analyze,\n",
        "handle_data=handle_data,\n",
        "capital_base=10000,\n",
        "data_frequency = 'daily',\n",
        "bundle= 'random_stock_data',)\n",
        "\"\"\""
      ],
      "metadata": {
        "id": "JEtmR8GjFANc",
        "collapsed": true
      },
      "execution_count": null,
      "outputs": []
    },
    {
      "cell_type": "code",
      "source": [
        "mylist"
      ],
      "metadata": {
        "id": "7tuet-jiiuYh"
      },
      "execution_count": null,
      "outputs": []
    },
    {
      "cell_type": "code",
      "source": [
        "#Export performance results to disk in csv file\n",
        "\n",
        "perf.portfolio_value.to_csv('ewm_momentum_model.csv')"
      ],
      "metadata": {
        "id": "BU2OOl30YXe1"
      },
      "execution_count": null,
      "outputs": []
    },
    {
      "cell_type": "markdown",
      "source": [
        "### Momentum Model"
      ],
      "metadata": {
        "id": "1V0GCt2_92BD"
      }
    },
    {
      "cell_type": "code",
      "source": [
        "#@title\n",
        "\n",
        "%matplotlib inline\n",
        "\n",
        "import zipline\n",
        "from zipline import run_algorithm\n",
        "from zipline.api import order_target_percent, symbol, set_commission, set_slippage, schedule_function, date_rules, time_rules\n",
        "import matplotlib.pyplot as plt\n",
        "import pyfolio as pf\n",
        "import pandas as pd\n",
        "import numpy as np\n",
        "from scipy import stats\n",
        "import warnings\n",
        "warnings.filterwarnings('ignore')\n",
        "from zipline.finance.commission import PerDollar\n",
        "from zipline.finance.slippage import VolumeShareSlippage, FixedSlippage\n",
        "\n",
        "\n",
        "initial_portfolio = 10000\n",
        "minimum_momentum = 10\n",
        "portfolio_size = 1\n",
        "vola_window = 30\n",
        "\n",
        "def momentum_score(ts):\n",
        "\n",
        "  #Input: Price time series.Output: Annualized exponential regression slope, multiplied by the R2\n",
        "\n",
        "  # Make a list of consecutive numbers\n",
        "  x = np.arange(len(ts))\n",
        "  # Get logs\n",
        "  log_ts = np.log(ts)\n",
        "  # Calculate regression values\n",
        "  slope, intercept, r_value, p_value, std_err = stats.linregress(x, log_ts)\n",
        "  # Annualize percent\n",
        "  annualized_slope = (np.power(np.exp(slope), 252) - 1) * 100\n",
        "  #Adjust for fitness\n",
        "  score = annualized_slope * (r_value ** 2)\n",
        "  return score\n",
        "\n",
        "def volatility(ts):\n",
        "  return ts.pct_change().rolling(vola_window).std().iloc[-1]\n",
        "\n",
        "\n",
        "#Initialization and trading logic\n",
        "\n",
        "\n",
        "def initialize(context):\n",
        "\n",
        "  context.rolling_window = 100\n",
        "\n",
        "  #Commission and Slippage Settings\n",
        "\n",
        "  enable_commission = True\n",
        "  commission_pct = 0.001\n",
        "  enable_slippage = True\n",
        "  slippage_volume_limit = 0.025\n",
        "  slippage_impact = 0.05\n",
        "\n",
        "  \"\"\"\n",
        "  dji = [\"AAVE\",\"ADA\",\"ALPHA\",\"BCH\",\"BTC\",\n",
        "          \"DOGE\",\"DOT\",\"ETH\",\"LTC\",\"USDT\",\n",
        "          \"XLM\",\"XMR\",\"XRP\"]\n",
        "  \"\"\"\n",
        "  dji = [\"btc\",\"ltc\",\"eth\"]\n",
        "\n",
        "\n",
        "  # Make a list of symbols from the list of tickers\n",
        "  context.dji_symbols = [symbol(s) for s in dji]\n",
        "\n",
        "  # Set commission and slippage.\n",
        "  if enable_commission:\n",
        "    comm_model = PerDollar(cost=commission_pct)\n",
        "  else:\n",
        "    comm_model = PerDollar(cost=0.0)\n",
        "  set_commission(comm_model)\n",
        "  if enable_slippage: slippage_model=VolumeShareSlippage(volume_limit=slippage_volume_limit,\n",
        "price_impact=slippage_impact)\n",
        "  else:\n",
        "    slippage_model=FixedSlippage(spread=0.0)\n",
        "  set_slippage(slippage_model)\n",
        "\n",
        "\n",
        "  #Schedule rebalance monthly.\n",
        "  schedule_function(\n",
        "    func=rebalance,\n",
        "    date_rule=date_rules.month_start(),\n",
        "    time_rule=time_rules.market_open()\n",
        "  )\n",
        "\n",
        "def rebalance(context, data):\n",
        "\n",
        "  # Get historical data\n",
        "  hist = data.history(context.dji_symbols, \"close\", context.rolling_window, \"1d\")\n",
        "\n",
        "  # Make momentum ranking table\n",
        "  ranking_table = hist.apply(momentum_score).sort_values(ascending=False)\n",
        "\n",
        "  #Sell Logic\n",
        "  #First we check if any existing position should be sold.\n",
        "    #Sell if stock is no longer part of index.\n",
        "    #Sell if stock has too low momentum value.\n",
        "\n",
        "  kept_positions = list(context.portfolio.positions.keys())\n",
        "  for security in context.portfolio.positions:\n",
        "    if ranking_table[security] < minimum_momentum:\n",
        "      order_target_percent(security, 0.0)\n",
        "      kept_positions.remove(security)\n",
        "\n",
        "  #Stock Selection Logic\n",
        "  #Check how many stocks we are keeping from last month.\n",
        "  #Fill from top of ranking list, until we reach the desired total number of portfolio holdings.\n",
        "\n",
        "  replacement_stocks = portfolio_size - len(kept_positions)\n",
        "  buy_list = ranking_table.loc[\n",
        "    ~ranking_table.index.isin(kept_positions)][:replacement_stocks]\n",
        "  new_portfolio = pd.concat(\n",
        "    (buy_list,\n",
        "    ranking_table.loc[ranking_table.index.isin(kept_positions)])\n",
        "  )\n",
        "  buy_list = ranking_table.loc[\n",
        "    ~ranking_table.index.isin(kept_positions)][:replacement_stocks]\n",
        "\n",
        "  #Calculate inverse volatility for stocks, and make target position weights.\n",
        "\n",
        "  vola_table = hist[new_portfolio.index].apply(volatility)\n",
        "  inv_vola_table = 1 / vola_table\n",
        "  sum_inv_vola = np.sum(inv_vola_table)\n",
        "  vola_target_weights = inv_vola_table / sum_inv_vola\n",
        "  for security, rank in new_portfolio.iteritems():\n",
        "    weight = vola_target_weights[security]\n",
        "    if security in kept_positions:\n",
        "      order_target_percent(security, weight)\n",
        "    else:\n",
        "      if ranking_table[security] > minimum_momentum:\n",
        "        order_target_percent(security, weight)\n",
        "\n",
        "\n",
        "def analyze(context, perf):\n",
        "\n",
        "  # Use PyFolio to generate a performance report\n",
        "  returns, positions, transactions = pf.utils.extract_rets_pos_txn_from_zipline(perf)\n",
        "\n",
        "  benchmark_period_return = perf['benchmark_period_return']\n",
        "\n",
        "  daily_benchmark_returns = np.exp(np.log(benchmark_period_return + 1.0).diff()) - 1\n",
        "\n",
        "  # Create tear sheet\n",
        "  pf.create_full_tear_sheet(returns, positions=positions, transactions=transactions, benchmark_rets=None)\n",
        "\n",
        "start= pd.Timestamp('2015-5-1', tz='utc')\n",
        "end = pd.Timestamp('2022-5-2', tz='utc')\n",
        "\n",
        "perf = zipline.run_algorithm(start=start,\n",
        "                             end=end,\n",
        "                             initialize=initialize,\n",
        "                             analyze=analyze,\n",
        "                             capital_base=initial_portfolio,\n",
        "                             data_frequency='daily',\n",
        "                             bundle='crypto')"
      ],
      "metadata": {
        "id": "OfmZYBZ4p4nv"
      },
      "execution_count": null,
      "outputs": []
    },
    {
      "cell_type": "code",
      "source": [
        "#Export Performance Result to disk in csv file\n",
        "\n",
        "perf.portfolio_value.to_csv('crypto_momentum.csv')"
      ],
      "metadata": {
        "id": "M18L5KZe3rQr"
      },
      "execution_count": null,
      "outputs": []
    },
    {
      "cell_type": "markdown",
      "source": [
        "### **Model Performance**"
      ],
      "metadata": {
        "id": "kPK0-JU_Y1Ke"
      }
    },
    {
      "cell_type": "code",
      "source": [],
      "metadata": {
        "id": "gyaPFiaykaNm",
        "cellView": "form"
      },
      "execution_count": null,
      "outputs": []
    },
    {
      "cell_type": "markdown",
      "source": [
        "# **DATA CLEANING**\n",
        "\n"
      ],
      "metadata": {
        "id": "wOl0psqAtAal"
      }
    },
    {
      "cell_type": "markdown",
      "source": [
        "## Futures"
      ],
      "metadata": {
        "id": "leJ4xVj0cUmi"
      }
    },
    {
      "cell_type": "code",
      "source": [
        "# Import modules\n",
        "import nasdaqdatalink\n",
        "import quandl\n",
        "# Get the data for Futures, Continuous Contract #6.\n",
        "import matplotlib.pyplot as plt\n",
        "data = quandl.get(\"CHRIS/CME_YM1\",start_date=\"2017-12-03\", end_date=\"2018-12-03\", api_key='WDDHaLh3eG6vrEgiCCqy')"
      ],
      "metadata": {
        "id": "RC5tgJ5vmc7a"
      },
      "execution_count": null,
      "outputs": []
    },
    {
      "cell_type": "code",
      "source": [
        "# Plot the prices\n",
        "data.Settle.plot()\n",
        "plt.show()"
      ],
      "metadata": {
        "id": "84lZG881mitG"
      },
      "execution_count": null,
      "outputs": []
    },
    {
      "cell_type": "code",
      "source": [
        "#import required libraries\n",
        "import pandas as pd\n",
        "from datetime import datetime\n",
        "import numpy as np\n",
        "\n",
        "data = data.rename(columns={'Open': 'open','High':'high',\n",
        "                                'Low':'low','Last':'close',\n",
        "                                'Volume':'volume','Previous Day Open Interest': 'openinterest'}, index=None)\n",
        "\n",
        "data['expiration_date'] = '2018-12-21'\n",
        "data['root_symbol'] = 'YM'\n",
        "data['symbol'] = 'YMZ18'\n",
        "\n",
        "new_data = data.drop(['Change', 'Settle',], axis=1)\n",
        "\n",
        "print(new_data.head())"
      ],
      "metadata": {
        "id": "6aDFt_ctctAx"
      },
      "execution_count": null,
      "outputs": []
    },
    {
      "cell_type": "code",
      "source": [
        "new_data.to_csv('/content/drive/MyDrive/Colab Notebooks/My Project Folder/Futures/YMZ18.csv')"
      ],
      "metadata": {
        "id": "U-luxklmprlL"
      },
      "execution_count": null,
      "outputs": []
    },
    {
      "cell_type": "markdown",
      "source": [
        "## Digital assets"
      ],
      "metadata": {
        "id": "j9Isr0HFaAKD"
      }
    },
    {
      "cell_type": "markdown",
      "source": [
        "### Adjusting model performace csv data for comparison"
      ],
      "metadata": {
        "id": "xkG3Yi2EHM4P"
      }
    },
    {
      "cell_type": "code",
      "source": [
        "import pandas as pd\n",
        "import numpy as np\n",
        "\n",
        "A = pd.read_csv('/content/drive/MyDrive/Colab Notebooks/My Project Folder/Backtests/Raw Model Performance Data/Digital Assets/crypto_momentum.csv', parse_dates=True, index_col=0)\n",
        "\n",
        "A.index = A.index.strftime('%Y/%m/%d')\n",
        "\n",
        "header_row = 1\n",
        "\n",
        "A.columns = A.iloc[header_row]\n",
        "\n",
        "A"
      ],
      "metadata": {
        "id": "HkR-LQr5HUfA"
      },
      "execution_count": null,
      "outputs": []
    },
    {
      "cell_type": "code",
      "source": [
        "A.info()"
      ],
      "metadata": {
        "id": "dwSpgXWbjPHq"
      },
      "execution_count": null,
      "outputs": []
    },
    {
      "cell_type": "code",
      "source": [
        "\n",
        "A.to_csv('/content/drive/MyDrive/Colab Notebooks/My Project Folder/Backtests/crypto_momentum_2.csv')\n"
      ],
      "metadata": {
        "id": "zpol9KKPOz0m"
      },
      "execution_count": null,
      "outputs": []
    },
    {
      "cell_type": "markdown",
      "source": [
        "### Adjusting crypto indices csv data for comparison"
      ],
      "metadata": {
        "id": "xcAQevGKs8jc"
      }
    },
    {
      "cell_type": "code",
      "source": [
        "#import required libraries\n",
        "import pandas as pd\n",
        "from datetime import datetime\n",
        "import exchange_calendars as xcals\n",
        "from zipline import get_calendar\n",
        "import numpy as np\n",
        "\n",
        "df = pd.read_csv('/content/drive/MyDrive/Colab Notebooks/My Project Folder/crypto/indices/SPCBDM.csv', encoding='cp1252')\n",
        "df.info()\n",
        "print(df)"
      ],
      "metadata": {
        "id": "Ui2xKWSwvQsK"
      },
      "execution_count": null,
      "outputs": []
    },
    {
      "cell_type": "code",
      "source": [
        "\n",
        "df.drop([1355],axis=0, inplace = True )\n",
        "\n",
        "#Convert 'date' Column to datetime\n",
        "df['2/28/2017'] = pd.to_datetime(df['2/28/2017'], utc=True)\n",
        "\n",
        "#Set 'date' column as index\n",
        "df.set_index('2/28/2017', inplace=True)\n",
        "\n",
        "# Get all expected trading sessions in new dataframe.\n",
        "sessions = get_calendar('NYSE').sessions_in_range('2017-02-28', '2022-05-05')\n",
        "\n",
        "df.index = df.index.strftime('%Y/%m/%d')\n",
        "\n",
        "header_row = 1\n",
        "\n",
        "df.columns = df.iloc[header_row]\n",
        "\n",
        "df.tail(5)\n",
        "df.info()\n",
        "df"
      ],
      "metadata": {
        "id": "ccCas1-YyplH"
      },
      "execution_count": null,
      "outputs": []
    },
    {
      "cell_type": "code",
      "source": [
        "df = df[~df.index.duplicated()]\n",
        "df"
      ],
      "metadata": {
        "id": "6_L-MWp3pbMV"
      },
      "execution_count": null,
      "outputs": []
    },
    {
      "cell_type": "code",
      "source": [
        "df.to_csv('/content/drive/MyDrive/Colab Notebooks/My Project Folder/Backtests/SPCBDM_test3.csv')"
      ],
      "metadata": {
        "id": "YxGN_p0ckuRC"
      },
      "execution_count": null,
      "outputs": []
    },
    {
      "cell_type": "markdown",
      "source": [
        "### Removing weekends from timeseries"
      ],
      "metadata": {
        "id": "wyel-4htJj0U"
      }
    },
    {
      "cell_type": "code",
      "source": [
        "#@title\n",
        "#Import statements\n",
        "%matplotlib inline\n",
        "import pandas as pd\n",
        "import datetime as dt\n",
        "import numpy as np\n",
        "\n",
        "#Load csv file from disc\n",
        "df = pd.read_csv('/content/drive/MyDrive/Colab Notebooks/My Project Folder/crypto/crypto_data/DOGE.csv')\n",
        "\n",
        "#Set date column to datetime\n",
        "df['time'] = pd.to_datetime(df['time'], errors='coerce')\n",
        "\n",
        "#Remove weekends from data\n",
        "df = df[df.time.dt.weekday < 5]\n",
        "\n",
        "#Set 'date' columns as Index\n",
        "df.set_index(\"time\", inplace = True)\n",
        "\n",
        "#display weekday dataframe\n",
        "df"
      ],
      "metadata": {
        "id": "LcR4uk8SJ3mT"
      },
      "execution_count": null,
      "outputs": []
    },
    {
      "cell_type": "code",
      "source": [
        "#inspect dataframe\n",
        "df.info()"
      ],
      "metadata": {
        "id": "b2HfyHCXUYBR"
      },
      "execution_count": null,
      "outputs": []
    },
    {
      "cell_type": "code",
      "source": [
        "#Save dataframe to csv\n",
        "\n",
        "df.to_csv('/content/drive/MyDrive/Colab Notebooks/My Project Folder/crypto/crypto weekday data/DODGE_weekday.csv')"
      ],
      "metadata": {
        "id": "t91Kk-vQRL8Q"
      },
      "execution_count": null,
      "outputs": []
    },
    {
      "cell_type": "code",
      "source": [
        "#Load final data to file to dataframe\n",
        "dodge = pd.read_csv('/content/drive/MyDrive/Colab Notebooks/My Project Folder/crypto/crypto weekday data/DODGE_weekday.csv')\n",
        "\n",
        "print(dodge)\n",
        "\n"
      ],
      "metadata": {
        "id": "biKqcgmYUzrI"
      },
      "execution_count": null,
      "outputs": []
    },
    {
      "cell_type": "code",
      "source": [
        "#Remove weekends from dataframe\n",
        "btc = usholidays[usholidays.date.dt.weekday < 5]\n",
        "\n",
        "#Set 'date' column as index\n",
        "btc.set_index('date', inplace = True)\n",
        "\n",
        "btc"
      ],
      "metadata": {
        "id": "z2i2hsa_DPOz"
      },
      "execution_count": null,
      "outputs": []
    },
    {
      "cell_type": "code",
      "source": [
        "#import US holiday calender\n",
        "from pandas.tseries.holiday import USFederalHolidayCalendar as calendar\n",
        "\n",
        "#Set period between start and end date in dataframe to identify and remove holidays\n",
        "holidays = calendar().holidays(start='2009-01-05', end='2022-05-24')\n",
        "m = raw_data['date'].isin(holidays)\n",
        "usholidays = raw_data[~m].copy()\n",
        "\n",
        "#print new dataframe with holidays removed\n",
        "usholidays"
      ],
      "metadata": {
        "id": "CBI8-xSAAoRb"
      },
      "execution_count": null,
      "outputs": []
    },
    {
      "cell_type": "markdown",
      "source": [
        "### Adjusting crypto data from **Yahoo Finance** for testing with NYSE trading calender."
      ],
      "metadata": {
        "id": "apiTpYe_fJXQ"
      }
    },
    {
      "cell_type": "code",
      "source": [
        "#import required libraries\n",
        "import pandas as pd\n",
        "from datetime import datetime\n",
        "import exchange_calendars as xcals\n",
        "from zipline import get_calendar\n",
        "import numpy as np"
      ],
      "metadata": {
        "id": "62ohBdKTfmjU"
      },
      "execution_count": null,
      "outputs": []
    },
    {
      "cell_type": "code",
      "source": [
        "df = pd.read_csv('/content/drive/MyDrive/Colab Notebooks/My Project Folder/crypto/yahoo_data/yahoo raw data/BTC-USD.csv', parse_dates=True, index_col=0)\n",
        "\n",
        "# Remove Adj Close Column\n",
        "new_df = df.drop(['Adj Close'], axis=1)\n",
        "\n",
        "new_df[\"Volume\"] = new_df[\"Volume\"].astype(float)\n",
        "\n",
        "#Reset index\n",
        "new_df.reset_index(inplace = True)\n",
        "\n",
        "#Convert 'date' Column to datetime\n",
        "new_df['Date'] = pd.to_datetime(new_df['Date'], utc=True)\n",
        "\n",
        "#Set 'date' column as index\n",
        "new_df.set_index('Date', inplace=True)\n",
        "\n",
        "# Get all expected trading sessions in new dataframe.\n",
        "sessions = get_calendar('NYSE').sessions_in_range('2009-01-05', '2022-07-07')\n",
        "\n",
        "# To set the trading session in  new dataframe to the NYSE Calender\n",
        "btc = new_df.reindex(sessions)\n",
        "\n",
        "#Reset index again to change the index name\n",
        "btc.reset_index(inplace = True)\n",
        "\n",
        "#Rename index column to 'date'\n",
        "btc = btc.rename(columns={'index': 'trading_date'}, index=None)\n",
        "\n",
        "#Change date format to Year-Month-Day\n",
        "btc['trading_date'] =  pd.to_datetime(btc['trading_date']).dt.strftime('%Y-%m-%d')\n",
        "\n",
        "crypto = btc.dropna()\n",
        "\n",
        "#Change 'PriceUSD' columns to 'close'\n",
        "crypto.rename(columns = {'Open':'open',\n",
        "                      'High':'high',\n",
        "                      'Low':'low',\n",
        "                      'Close':'close',\n",
        "                      'Volume':'volume'}, inplace = True)\n",
        "\n",
        "crypto.set_index('trading_date', inplace=True)\n",
        "\n",
        "crypto.info()\n",
        "\n",
        "crypto.to_csv('/content/drive/MyDrive/Colab Notebooks/My Project Folder/crypto/yahoo_data/yahoo cleaned data/btc.csv')\n",
        "\n",
        "crypto"
      ],
      "metadata": {
        "id": "9Zw_h3y8fQBV"
      },
      "execution_count": null,
      "outputs": []
    },
    {
      "cell_type": "markdown",
      "source": [
        "### Adjusting crypto data from **Coinmetrics** for testing with NYSE trading calender."
      ],
      "metadata": {
        "id": "ZoZBFEZFb1JM"
      }
    },
    {
      "cell_type": "code",
      "source": [
        "#import required libraries\n",
        "import pandas as pd\n",
        "from datetime import datetime\n",
        "import exchange_calendars as xcals\n",
        "from zipline import get_calendar\n",
        "import numpy as np\n",
        "\n",
        "#load raw data from file\n",
        "raw_data = pd.read_csv('/content/drive/MyDrive/Colab Notebooks/My Project Folder/crypto/coinmetrics_data/btc.csv', parse_dates=True, index_col=0)\n",
        "\n",
        "new = raw_data.drop(raw_data.loc[:, :'PriceBTC'].columns, axis=1)\n",
        "\n",
        "\n",
        "#drop columns not needed. Only closing prices required\n",
        "new.drop(new.iloc[:, 1:76], inplace = True, axis = 1)\n",
        "\n",
        "#Add new columns\n",
        "new['high'] =0\n",
        "new['low'] =0\n",
        "new['open'] =0\n",
        "new['volume'] =0\n",
        "\n",
        "# Rearrange columns to set timestamp as first column\n",
        "new = new[['high','open','low','PriceUSD','volume']]\n",
        "\n",
        "#Change 'PriceUSD' columns to 'close'\n",
        "new.rename(columns = {'PriceUSD':'close'}, inplace = True)\n",
        "\n",
        "\"\"\"\n",
        "#Drop row (date) not needed\n",
        "new=new.drop(['2022-05-25'])\n",
        "\"\"\"\n",
        "\n",
        "#Fill 'close' column with integer values '0'\n",
        "new[\"close\"].fillna(0, inplace=True)\n",
        "\n",
        "#Reset index\n",
        "new.reset_index(inplace = True)\n",
        "\n",
        "#Rename time columns to date\n",
        "new = new.rename(columns={'time': 'date'}, index=None)\n",
        "\n",
        "#Drop all NaN values from dataframe\n",
        "new.dropna()\n",
        "\n",
        "#Convert columns datatype from integer to float\n",
        "new[\"high\"] = new[\"high\"].astype(float)\n",
        "new[\"open\"] = new[\"open\"].astype(float)\n",
        "new[\"low\"] = new[\"low\"].astype(float)\n",
        "new[\"volume\"] = new[\"volume\"].astype(float)\n",
        "\n",
        "#Convert 'date' Column to datetime\n",
        "new['date'] = pd.to_datetime(new['date'], utc=True)\n",
        "\n",
        "#Set 'date' column as index\n",
        "new.set_index('date', inplace=True)\n",
        "\n",
        "# Get all expected trading sessions in new dataframe.\n",
        "sessions = get_calendar('NYSE').sessions_in_range('2009-01-05', '2022-05-24')\n",
        "\n",
        "# To set the trading session in  new dataframe to the NYSE Calender\n",
        "btc = new.reindex(sessions)\n",
        "\n",
        "#Reset index again to change the index name\n",
        "btc.reset_index(inplace = True)\n",
        "\n",
        "#Rename index column to 'date'\n",
        "btc = btc.rename(columns={'index': 'date'}, index=None)\n",
        "\n",
        "#Change date format to Year-Month-Day\n",
        "btc['date'] =  pd.to_datetime(btc['date']).dt.strftime('%Y-%m-%d')\n",
        "\n",
        "\"\"\"\n",
        "btc.set_index('date', inplace=True)\n",
        "\"\"\"\n",
        "\n",
        "# Remove two columns name is 'C' and 'D'\n",
        "df = btc.drop(['high', 'open','low'], axis=1)\n",
        "\n",
        "df['open'] = df['close'] - (0 * df ['close'])\n",
        "df['high'] = df['open'] - (0 * df ['open'])\n",
        "df['low'] = df['high'] - (0 * df ['high'])\n",
        "\n",
        "# Rearrange columns\n",
        "df = df[['date','open','high','low','close','volume']]\n",
        "\n",
        "df.set_index('date', inplace=True)\n",
        "\n",
        "crypto = df.dropna()\n",
        "\n",
        "crypto.to_csv('/content/drive/MyDrive/Colab Notebooks/My Project Folder/crypto/final crypto bundle/btc.csv')"
      ],
      "metadata": {
        "id": "UQOZCRgetfon"
      },
      "execution_count": null,
      "outputs": []
    },
    {
      "cell_type": "markdown",
      "source": [],
      "metadata": {
        "id": "gDZuhdt9s2dd"
      }
    },
    {
      "cell_type": "markdown",
      "source": [
        "#**Exploratory Data Analyses (EDA)**"
      ],
      "metadata": {
        "id": "OlM6TGBPVSmL"
      }
    },
    {
      "cell_type": "code",
      "source": [
        "!pip install mpld3"
      ],
      "metadata": {
        "id": "s14iuKoDf7rk"
      },
      "execution_count": null,
      "outputs": []
    },
    {
      "cell_type": "code",
      "source": [
        "%matplotlib inline\n",
        "import numpy as np\n",
        "import pandas as pd\n",
        "from scipy import stats\n",
        "import seaborn as sn\n",
        "import matplotlib.pyplot as plt\n",
        "\"\"\"\n",
        "import mpld3\n",
        "mpld3.enable_notebook()\n",
        "\"\"\"\n",
        "import warnings\n",
        "warnings.filterwarnings('ignore')\n",
        "pd.set_option('display.max_rows', 2)"
      ],
      "metadata": {
        "id": "i5waJ-BLVR5U"
      },
      "execution_count": null,
      "outputs": []
    },
    {
      "cell_type": "code",
      "source": [
        "File = pd.read_csv('/content/Stocks_final2/ABG.JO.csv',parse_dates=True) #, index_col=0)\n",
        "File"
      ],
      "metadata": {
        "id": "7TIUEc7qhsCf"
      },
      "execution_count": null,
      "outputs": []
    },
    {
      "cell_type": "code",
      "source": [
        "\n",
        "#Reset index again to change the index name\n",
        "File.reset_index(inplace = True)\n",
        "\n",
        "#Rename index column to 'date'\n",
        "File = File.rename(columns={'trading_date': 'date'}, index=None)\n",
        "\n",
        "#Change date format to Year-Month-Day\n",
        "File['date'] =  pd.to_datetime(File['date']).dt.strftime('%Y-%m-%d')\n",
        "\n",
        "File = File.drop(['index'], axis=1)\n",
        "File.set_index('date', inplace=True)"
      ],
      "metadata": {
        "id": "TQP8UzLazYif"
      },
      "execution_count": null,
      "outputs": []
    },
    {
      "cell_type": "code",
      "source": [
        "File"
      ],
      "metadata": {
        "id": "q2TjW87f1YUh"
      },
      "execution_count": null,
      "outputs": []
    },
    {
      "cell_type": "code",
      "source": [
        "Raw = pd.read_csv('/content/Raw/ABG.JO.csv') #,parse_dates=True, index_col=0)\n",
        "Raw"
      ],
      "metadata": {
        "id": "NLFOz9WWvVDA"
      },
      "execution_count": null,
      "outputs": []
    },
    {
      "cell_type": "code",
      "source": [
        "File.info()\n",
        "Raw.info()"
      ],
      "metadata": {
        "id": "0Lto8rfVvgM5"
      },
      "execution_count": null,
      "outputs": []
    },
    {
      "cell_type": "markdown",
      "source": [],
      "metadata": {
        "id": "i_v1a5ALOkqE"
      }
    },
    {
      "cell_type": "code",
      "source": [
        "print(File.tail(5))"
      ],
      "metadata": {
        "id": "4H0rZSeSvXRk",
        "outputId": "cb0be4b8-5c58-4615-ff3f-a50799fc9dfc",
        "colab": {
          "base_uri": "https://localhost:8080/"
        }
      },
      "execution_count": 11,
      "outputs": [
        {
          "output_type": "stream",
          "name": "stdout",
          "text": [
            "            open  high   low  close  volume  symbol\n",
            "2023-05-12  0.98  0.98  0.98   0.98     0.0  TLM.JO\n",
            "...          ...   ...   ...    ...     ...     ...\n",
            "2023-05-18  0.98  0.98  0.98   0.98     0.0  TLM.JO\n",
            "\n",
            "[5 rows x 6 columns]\n"
          ]
        }
      ]
    },
    {
      "cell_type": "code",
      "source": [
        "File = pd.read_csv('/content/Stocks_final3/TLM.JO.csv')\n",
        "File.set_index(\"date\", inplace=True)\n",
        "File.info()\n",
        "File"
      ],
      "metadata": {
        "id": "Tr3jDmh6WdTG",
        "outputId": "2fa86ce6-b2bc-4bdf-d0af-03cf0b3482bd",
        "colab": {
          "base_uri": "https://localhost:8080/",
          "height": 412
        }
      },
      "execution_count": 57,
      "outputs": [
        {
          "output_type": "stream",
          "name": "stdout",
          "text": [
            "<class 'pandas.core.frame.DataFrame'>\n",
            "Index: 784 entries, 2020-01-02 to 2023-05-10\n",
            "Data columns (total 5 columns):\n",
            " #   Column  Non-Null Count  Dtype  \n",
            "---  ------  --------------  -----  \n",
            " 0   open    784 non-null    float64\n",
            " 1   high    784 non-null    float64\n",
            " 2   low     784 non-null    float64\n",
            " 3   close   784 non-null    float64\n",
            " 4   volume  784 non-null    float64\n",
            "dtypes: float64(5)\n",
            "memory usage: 36.8+ KB\n"
          ]
        },
        {
          "output_type": "execute_result",
          "data": {
            "text/plain": [
              "            open  high   low  close  volume\n",
              "date                                       \n",
              "2020-01-02  70.0  70.0  70.0   70.0     0.0\n",
              "...          ...   ...   ...    ...     ...\n",
              "2023-05-10  98.0  98.0  98.0   98.0     0.0\n",
              "\n",
              "[784 rows x 5 columns]"
            ],
            "text/html": [
              "\n",
              "  <div id=\"df-c4c81b1a-bdc2-4b8e-9e55-d39aadc07941\">\n",
              "    <div class=\"colab-df-container\">\n",
              "      <div>\n",
              "<style scoped>\n",
              "    .dataframe tbody tr th:only-of-type {\n",
              "        vertical-align: middle;\n",
              "    }\n",
              "\n",
              "    .dataframe tbody tr th {\n",
              "        vertical-align: top;\n",
              "    }\n",
              "\n",
              "    .dataframe thead th {\n",
              "        text-align: right;\n",
              "    }\n",
              "</style>\n",
              "<table border=\"1\" class=\"dataframe\">\n",
              "  <thead>\n",
              "    <tr style=\"text-align: right;\">\n",
              "      <th></th>\n",
              "      <th>open</th>\n",
              "      <th>high</th>\n",
              "      <th>low</th>\n",
              "      <th>close</th>\n",
              "      <th>volume</th>\n",
              "    </tr>\n",
              "    <tr>\n",
              "      <th>date</th>\n",
              "      <th></th>\n",
              "      <th></th>\n",
              "      <th></th>\n",
              "      <th></th>\n",
              "      <th></th>\n",
              "    </tr>\n",
              "  </thead>\n",
              "  <tbody>\n",
              "    <tr>\n",
              "      <th>2020-01-02</th>\n",
              "      <td>70.0</td>\n",
              "      <td>70.0</td>\n",
              "      <td>70.0</td>\n",
              "      <td>70.0</td>\n",
              "      <td>0.0</td>\n",
              "    </tr>\n",
              "    <tr>\n",
              "      <th>...</th>\n",
              "      <td>...</td>\n",
              "      <td>...</td>\n",
              "      <td>...</td>\n",
              "      <td>...</td>\n",
              "      <td>...</td>\n",
              "    </tr>\n",
              "    <tr>\n",
              "      <th>2023-05-10</th>\n",
              "      <td>98.0</td>\n",
              "      <td>98.0</td>\n",
              "      <td>98.0</td>\n",
              "      <td>98.0</td>\n",
              "      <td>0.0</td>\n",
              "    </tr>\n",
              "  </tbody>\n",
              "</table>\n",
              "<p>784 rows × 5 columns</p>\n",
              "</div>\n",
              "      <button class=\"colab-df-convert\" onclick=\"convertToInteractive('df-c4c81b1a-bdc2-4b8e-9e55-d39aadc07941')\"\n",
              "              title=\"Convert this dataframe to an interactive table.\"\n",
              "              style=\"display:none;\">\n",
              "        \n",
              "  <svg xmlns=\"http://www.w3.org/2000/svg\" height=\"24px\"viewBox=\"0 0 24 24\"\n",
              "       width=\"24px\">\n",
              "    <path d=\"M0 0h24v24H0V0z\" fill=\"none\"/>\n",
              "    <path d=\"M18.56 5.44l.94 2.06.94-2.06 2.06-.94-2.06-.94-.94-2.06-.94 2.06-2.06.94zm-11 1L8.5 8.5l.94-2.06 2.06-.94-2.06-.94L8.5 2.5l-.94 2.06-2.06.94zm10 10l.94 2.06.94-2.06 2.06-.94-2.06-.94-.94-2.06-.94 2.06-2.06.94z\"/><path d=\"M17.41 7.96l-1.37-1.37c-.4-.4-.92-.59-1.43-.59-.52 0-1.04.2-1.43.59L10.3 9.45l-7.72 7.72c-.78.78-.78 2.05 0 2.83L4 21.41c.39.39.9.59 1.41.59.51 0 1.02-.2 1.41-.59l7.78-7.78 2.81-2.81c.8-.78.8-2.07 0-2.86zM5.41 20L4 18.59l7.72-7.72 1.47 1.35L5.41 20z\"/>\n",
              "  </svg>\n",
              "      </button>\n",
              "      \n",
              "  <style>\n",
              "    .colab-df-container {\n",
              "      display:flex;\n",
              "      flex-wrap:wrap;\n",
              "      gap: 12px;\n",
              "    }\n",
              "\n",
              "    .colab-df-convert {\n",
              "      background-color: #E8F0FE;\n",
              "      border: none;\n",
              "      border-radius: 50%;\n",
              "      cursor: pointer;\n",
              "      display: none;\n",
              "      fill: #1967D2;\n",
              "      height: 32px;\n",
              "      padding: 0 0 0 0;\n",
              "      width: 32px;\n",
              "    }\n",
              "\n",
              "    .colab-df-convert:hover {\n",
              "      background-color: #E2EBFA;\n",
              "      box-shadow: 0px 1px 2px rgba(60, 64, 67, 0.3), 0px 1px 3px 1px rgba(60, 64, 67, 0.15);\n",
              "      fill: #174EA6;\n",
              "    }\n",
              "\n",
              "    [theme=dark] .colab-df-convert {\n",
              "      background-color: #3B4455;\n",
              "      fill: #D2E3FC;\n",
              "    }\n",
              "\n",
              "    [theme=dark] .colab-df-convert:hover {\n",
              "      background-color: #434B5C;\n",
              "      box-shadow: 0px 1px 3px 1px rgba(0, 0, 0, 0.15);\n",
              "      filter: drop-shadow(0px 1px 2px rgba(0, 0, 0, 0.3));\n",
              "      fill: #FFFFFF;\n",
              "    }\n",
              "  </style>\n",
              "\n",
              "      <script>\n",
              "        const buttonEl =\n",
              "          document.querySelector('#df-c4c81b1a-bdc2-4b8e-9e55-d39aadc07941 button.colab-df-convert');\n",
              "        buttonEl.style.display =\n",
              "          google.colab.kernel.accessAllowed ? 'block' : 'none';\n",
              "\n",
              "        async function convertToInteractive(key) {\n",
              "          const element = document.querySelector('#df-c4c81b1a-bdc2-4b8e-9e55-d39aadc07941');\n",
              "          const dataTable =\n",
              "            await google.colab.kernel.invokeFunction('convertToInteractive',\n",
              "                                                     [key], {});\n",
              "          if (!dataTable) return;\n",
              "\n",
              "          const docLinkHtml = 'Like what you see? Visit the ' +\n",
              "            '<a target=\"_blank\" href=https://colab.research.google.com/notebooks/data_table.ipynb>data table notebook</a>'\n",
              "            + ' to learn more about interactive tables.';\n",
              "          element.innerHTML = '';\n",
              "          dataTable['output_type'] = 'display_data';\n",
              "          await google.colab.output.renderOutput(dataTable, element);\n",
              "          const docLink = document.createElement('div');\n",
              "          docLink.innerHTML = docLinkHtml;\n",
              "          element.appendChild(docLink);\n",
              "        }\n",
              "      </script>\n",
              "    </div>\n",
              "  </div>\n",
              "  "
            ]
          },
          "metadata": {},
          "execution_count": 57
        }
      ]
    },
    {
      "cell_type": "code",
      "source": [
        "File2 = pd.read_csv('/content/Stocks_final/TLM.JO-edited2.csv')\n",
        "File2.set_index(\"date\", inplace=True)\n",
        "File2.info()\n",
        "File2"
      ],
      "metadata": {
        "id": "WU4AVBh5Qt9F",
        "outputId": "139fe685-4d0f-4301-cc57-a3c92ae4f433",
        "colab": {
          "base_uri": "https://localhost:8080/",
          "height": 412
        }
      },
      "execution_count": 49,
      "outputs": [
        {
          "output_type": "stream",
          "name": "stdout",
          "text": [
            "<class 'pandas.core.frame.DataFrame'>\n",
            "Index: 784 entries, 2020-01-02 to 2023-05-10\n",
            "Data columns (total 5 columns):\n",
            " #   Column  Non-Null Count  Dtype  \n",
            "---  ------  --------------  -----  \n",
            " 0   open    784 non-null    float64\n",
            " 1   high    784 non-null    float64\n",
            " 2   low     784 non-null    float64\n",
            " 3   close   784 non-null    float64\n",
            " 4   volume  784 non-null    float64\n",
            "dtypes: float64(5)\n",
            "memory usage: 36.8+ KB\n"
          ]
        },
        {
          "output_type": "execute_result",
          "data": {
            "text/plain": [
              "            open  high   low  close  volume\n",
              "date                                       \n",
              "2020-01-02  70.0  70.0  70.0   70.0     0.0\n",
              "...          ...   ...   ...    ...     ...\n",
              "2023-05-10  98.0  98.0  98.0   98.0     0.0\n",
              "\n",
              "[784 rows x 5 columns]"
            ],
            "text/html": [
              "\n",
              "  <div id=\"df-96dfc84d-ff91-4087-af87-cad04d7f52e0\">\n",
              "    <div class=\"colab-df-container\">\n",
              "      <div>\n",
              "<style scoped>\n",
              "    .dataframe tbody tr th:only-of-type {\n",
              "        vertical-align: middle;\n",
              "    }\n",
              "\n",
              "    .dataframe tbody tr th {\n",
              "        vertical-align: top;\n",
              "    }\n",
              "\n",
              "    .dataframe thead th {\n",
              "        text-align: right;\n",
              "    }\n",
              "</style>\n",
              "<table border=\"1\" class=\"dataframe\">\n",
              "  <thead>\n",
              "    <tr style=\"text-align: right;\">\n",
              "      <th></th>\n",
              "      <th>open</th>\n",
              "      <th>high</th>\n",
              "      <th>low</th>\n",
              "      <th>close</th>\n",
              "      <th>volume</th>\n",
              "    </tr>\n",
              "    <tr>\n",
              "      <th>date</th>\n",
              "      <th></th>\n",
              "      <th></th>\n",
              "      <th></th>\n",
              "      <th></th>\n",
              "      <th></th>\n",
              "    </tr>\n",
              "  </thead>\n",
              "  <tbody>\n",
              "    <tr>\n",
              "      <th>2020-01-02</th>\n",
              "      <td>70.0</td>\n",
              "      <td>70.0</td>\n",
              "      <td>70.0</td>\n",
              "      <td>70.0</td>\n",
              "      <td>0.0</td>\n",
              "    </tr>\n",
              "    <tr>\n",
              "      <th>...</th>\n",
              "      <td>...</td>\n",
              "      <td>...</td>\n",
              "      <td>...</td>\n",
              "      <td>...</td>\n",
              "      <td>...</td>\n",
              "    </tr>\n",
              "    <tr>\n",
              "      <th>2023-05-10</th>\n",
              "      <td>98.0</td>\n",
              "      <td>98.0</td>\n",
              "      <td>98.0</td>\n",
              "      <td>98.0</td>\n",
              "      <td>0.0</td>\n",
              "    </tr>\n",
              "  </tbody>\n",
              "</table>\n",
              "<p>784 rows × 5 columns</p>\n",
              "</div>\n",
              "      <button class=\"colab-df-convert\" onclick=\"convertToInteractive('df-96dfc84d-ff91-4087-af87-cad04d7f52e0')\"\n",
              "              title=\"Convert this dataframe to an interactive table.\"\n",
              "              style=\"display:none;\">\n",
              "        \n",
              "  <svg xmlns=\"http://www.w3.org/2000/svg\" height=\"24px\"viewBox=\"0 0 24 24\"\n",
              "       width=\"24px\">\n",
              "    <path d=\"M0 0h24v24H0V0z\" fill=\"none\"/>\n",
              "    <path d=\"M18.56 5.44l.94 2.06.94-2.06 2.06-.94-2.06-.94-.94-2.06-.94 2.06-2.06.94zm-11 1L8.5 8.5l.94-2.06 2.06-.94-2.06-.94L8.5 2.5l-.94 2.06-2.06.94zm10 10l.94 2.06.94-2.06 2.06-.94-2.06-.94-.94-2.06-.94 2.06-2.06.94z\"/><path d=\"M17.41 7.96l-1.37-1.37c-.4-.4-.92-.59-1.43-.59-.52 0-1.04.2-1.43.59L10.3 9.45l-7.72 7.72c-.78.78-.78 2.05 0 2.83L4 21.41c.39.39.9.59 1.41.59.51 0 1.02-.2 1.41-.59l7.78-7.78 2.81-2.81c.8-.78.8-2.07 0-2.86zM5.41 20L4 18.59l7.72-7.72 1.47 1.35L5.41 20z\"/>\n",
              "  </svg>\n",
              "      </button>\n",
              "      \n",
              "  <style>\n",
              "    .colab-df-container {\n",
              "      display:flex;\n",
              "      flex-wrap:wrap;\n",
              "      gap: 12px;\n",
              "    }\n",
              "\n",
              "    .colab-df-convert {\n",
              "      background-color: #E8F0FE;\n",
              "      border: none;\n",
              "      border-radius: 50%;\n",
              "      cursor: pointer;\n",
              "      display: none;\n",
              "      fill: #1967D2;\n",
              "      height: 32px;\n",
              "      padding: 0 0 0 0;\n",
              "      width: 32px;\n",
              "    }\n",
              "\n",
              "    .colab-df-convert:hover {\n",
              "      background-color: #E2EBFA;\n",
              "      box-shadow: 0px 1px 2px rgba(60, 64, 67, 0.3), 0px 1px 3px 1px rgba(60, 64, 67, 0.15);\n",
              "      fill: #174EA6;\n",
              "    }\n",
              "\n",
              "    [theme=dark] .colab-df-convert {\n",
              "      background-color: #3B4455;\n",
              "      fill: #D2E3FC;\n",
              "    }\n",
              "\n",
              "    [theme=dark] .colab-df-convert:hover {\n",
              "      background-color: #434B5C;\n",
              "      box-shadow: 0px 1px 3px 1px rgba(0, 0, 0, 0.15);\n",
              "      filter: drop-shadow(0px 1px 2px rgba(0, 0, 0, 0.3));\n",
              "      fill: #FFFFFF;\n",
              "    }\n",
              "  </style>\n",
              "\n",
              "      <script>\n",
              "        const buttonEl =\n",
              "          document.querySelector('#df-96dfc84d-ff91-4087-af87-cad04d7f52e0 button.colab-df-convert');\n",
              "        buttonEl.style.display =\n",
              "          google.colab.kernel.accessAllowed ? 'block' : 'none';\n",
              "\n",
              "        async function convertToInteractive(key) {\n",
              "          const element = document.querySelector('#df-96dfc84d-ff91-4087-af87-cad04d7f52e0');\n",
              "          const dataTable =\n",
              "            await google.colab.kernel.invokeFunction('convertToInteractive',\n",
              "                                                     [key], {});\n",
              "          if (!dataTable) return;\n",
              "\n",
              "          const docLinkHtml = 'Like what you see? Visit the ' +\n",
              "            '<a target=\"_blank\" href=https://colab.research.google.com/notebooks/data_table.ipynb>data table notebook</a>'\n",
              "            + ' to learn more about interactive tables.';\n",
              "          element.innerHTML = '';\n",
              "          dataTable['output_type'] = 'display_data';\n",
              "          await google.colab.output.renderOutput(dataTable, element);\n",
              "          const docLink = document.createElement('div');\n",
              "          docLink.innerHTML = docLinkHtml;\n",
              "          element.appendChild(docLink);\n",
              "        }\n",
              "      </script>\n",
              "    </div>\n",
              "  </div>\n",
              "  "
            ]
          },
          "metadata": {},
          "execution_count": 49
        }
      ]
    },
    {
      "cell_type": "code",
      "source": [
        "File3 = pd.read_csv('/content/Stocks_final3/TLM.JO.csv')\n",
        "File3.set_index(\"trading_date\", inplace=True)\n",
        "File3.info()\n",
        "File3"
      ],
      "metadata": {
        "id": "ZzraEl3W2vYk"
      },
      "execution_count": null,
      "outputs": []
    },
    {
      "cell_type": "code",
      "source": [
        "File['open'].plot(figsize=(12,6),\n",
        "                  linestyle='--',color='black',\n",
        "                  legend='Open')\n",
        "\n",
        "File['high'].plot(figsize=(12,6),\n",
        "                   linestyle='-',color='red',\n",
        "                   legend='High')\n",
        "File['low'].plot(figsize=(12,6),\n",
        "                 linestyle=':',color='blue',\n",
        "                 legend='Low')\n",
        "\n",
        "File['close'].plot(figsize=(12,6),\n",
        "                  linestyle='-',color='purple',\n",
        "                  legend='Close')"
      ],
      "metadata": {
        "id": "Kj32Vg-S286T",
        "outputId": "bf2e5107-18b6-4171-b250-3fdea4f920bf",
        "colab": {
          "base_uri": "https://localhost:8080/",
          "height": 368
        }
      },
      "execution_count": 58,
      "outputs": [
        {
          "output_type": "execute_result",
          "data": {
            "text/plain": [
              "<Axes: xlabel='date'>"
            ]
          },
          "metadata": {},
          "execution_count": 58
        },
        {
          "output_type": "display_data",
          "data": {
            "text/plain": [
              "<Figure size 1200x600 with 1 Axes>"
            ],
            "image/png": "[encoded data removed]"
          },
          "metadata": {}
        }
      ]
    },
    {
      "cell_type": "code",
      "source": [
        "pd.set_option('display.max_rows', None)\n",
        "\n",
        "File.describe()"
      ],
      "metadata": {
        "id": "-ACTvJDKWq-y"
      },
      "execution_count": null,
      "outputs": []
    },
    {
      "cell_type": "code",
      "source": [
        "pd.set_option('display.max_rows', None)\n",
        "\n",
        "File3.describe()"
      ],
      "metadata": {
        "id": "664n5qBH38bs"
      },
      "execution_count": null,
      "outputs": []
    },
    {
      "cell_type": "code",
      "source": [
        "\n",
        "File2['open'].plot(figsize=(12,6),\n",
        "                  linestyle='--',color='black',\n",
        "                  legend='Open')\n",
        "\n",
        "File2['high'].plot(figsize=(12,6),\n",
        "                   linestyle='-',color='red',\n",
        "                   legend='High')\n",
        "\n",
        "File2['low'].plot(figsize=(12,6),\n",
        "                 linestyle=':',color='blue',\n",
        "                 legend='Low')\n",
        "\n",
        "\n",
        "File2['close'].plot(figsize=(12,6),\n",
        "                  linestyle='-',color='purple',\n",
        "                  legend='Close')"
      ],
      "metadata": {
        "id": "aPN9i9h3Ydbd",
        "outputId": "268bdb48-28c3-4fa0-a71f-9a2f38316c9f",
        "colab": {
          "base_uri": "https://localhost:8080/",
          "height": 368
        }
      },
      "execution_count": 51,
      "outputs": [
        {
          "output_type": "execute_result",
          "data": {
            "text/plain": [
              "<Axes: xlabel='date'>"
            ]
          },
          "metadata": {},
          "execution_count": 51
        },
        {
          "output_type": "display_data",
          "data": {
            "text/plain": [
              "<Figure size 1200x600 with 1 Axes>"
            ],
            "image/png": "[encoded data removed]"
          },
          "metadata": {}
        }
      ]
    },
    {
      "cell_type": "code",
      "source": [
        "no_outlier_prices = File[(np.abs(stats.zscore(File)) <\n",
        "2).all(axis=1)]"
      ],
      "metadata": {
        "id": "yGFt1GskpsGJ"
      },
      "execution_count": 33,
      "outputs": []
    },
    {
      "cell_type": "code",
      "source": [
        "no_outlier_prices['close'].plot(figsize=(12,6), linestyle='--',\n",
        "color='black', legend='close')"
      ],
      "metadata": {
        "id": "kSie4BpYqa8R",
        "outputId": "f565b10a-3844-47b5-8639-95b3ddc24d0d",
        "colab": {
          "base_uri": "https://localhost:8080/",
          "height": 368
        }
      },
      "execution_count": 34,
      "outputs": [
        {
          "output_type": "execute_result",
          "data": {
            "text/plain": [
              "<Axes: xlabel='date'>"
            ]
          },
          "metadata": {},
          "execution_count": 34
        },
        {
          "output_type": "display_data",
          "data": {
            "text/plain": [
              "<Figure size 1200x600 with 1 Axes>"
            ],
            "image/png": "[encoded data removed]"
          },
          "metadata": {}
        }
      ]
    },
    {
      "cell_type": "code",
      "source": [
        "pd.set_option('display.max_rows', None)\n",
        "\n",
        "no_outlier_prices[['high']].describe()"
      ],
      "metadata": {
        "id": "_7kJ7-_Mw1pa"
      },
      "execution_count": null,
      "outputs": []
    },
    {
      "cell_type": "code",
      "source": [
        "File2.describe()"
      ],
      "metadata": {
        "id": "dMCNcaxy3p_e"
      },
      "execution_count": null,
      "outputs": []
    },
    {
      "cell_type": "markdown",
      "source": [
        "#**Feeding index data**"
      ],
      "metadata": {
        "id": "SCo0nvnDo2Y-"
      }
    },
    {
      "cell_type": "code",
      "source": [
        "%matplotlib inline\n",
        "\n",
        "import datetime\n",
        "import pandas as pd\n",
        "import yfinance as yf\n",
        "import numpy as np\n",
        "import matplotlib.pyplot as plt\n",
        "import seaborn as sns\n",
        "import plotly.express as px\n",
        "\n",
        "now = datetime.datetime.now().strftime(\"%Y-%m-%d\")\n",
        "data = yf.Ticker(\"^J203.JO\")\n",
        "df = data.history(start=\"2022-06-01\",  end=now)\n",
        "resetindex = df.reset_index(inplace = True)\n",
        "\n",
        "df['Date'] = pd.to_datetime(df['Date']).dt.strftime('%Y-%m-%d')\n",
        "\n",
        "df = df.drop(columns=(['Open', 'High','Low','Volume','Dividends','Stock Splits']))\n",
        "\n",
        "df.set_index(\"Date\", inplace=True)\n",
        "\n",
        "df.head()"
      ],
      "metadata": {
        "id": "aPDBKAgI7ZFT"
      },
      "execution_count": null,
      "outputs": []
    },
    {
      "cell_type": "code",
      "source": [
        "df['SMA'] = df['Close'].rolling(50).mean()\n",
        "plt.show()"
      ],
      "metadata": {
        "id": "10bM-MERdYnl"
      },
      "execution_count": null,
      "outputs": []
    },
    {
      "cell_type": "code",
      "source": [
        "\n",
        "pd.set_option('display.max_rows', None)\n",
        "\n",
        "df.describe()"
      ],
      "metadata": {
        "id": "N-ScG5bipeRN"
      },
      "execution_count": null,
      "outputs": []
    },
    {
      "cell_type": "code",
      "source": [
        "\n",
        "fig = px.histogram(df, x='Close')\n",
        "fig.show()"
      ],
      "metadata": {
        "id": "_NHypPYLq4wt"
      },
      "execution_count": null,
      "outputs": []
    },
    {
      "cell_type": "code",
      "source": [
        "\n",
        "fig = px.box(df, y='Close')\n",
        "fig.show()"
      ],
      "metadata": {
        "id": "FF9XGxZ4rUAY"
      },
      "execution_count": null,
      "outputs": []
    },
    {
      "cell_type": "code",
      "source": [
        "\n",
        "fig = px.scatter(x=df['Close'], y=df['Close'])\n",
        "fig.show()"
      ],
      "metadata": {
        "id": "beEEgZhvrr6f"
      },
      "execution_count": null,
      "outputs": []
    },
    {
      "cell_type": "code",
      "source": [
        "plt.figure(figsize=(16,5))\n",
        "plt.subplot(1,2,1)\n",
        "sns.histplot(df['Close'], kde=True)\n",
        "\n",
        "plt.show()"
      ],
      "metadata": {
        "id": "gMZy2oCwvE2L"
      },
      "execution_count": null,
      "outputs": []
    },
    {
      "cell_type": "markdown",
      "source": [
        "# **Feeding data and ranking stocks on the JSE**"
      ],
      "metadata": {
        "id": "pkft-F-8W1im"
      }
    },
    {
      "cell_type": "markdown",
      "source": [
        "##**Test script**"
      ],
      "metadata": {
        "id": "CELwtAdyXE_i"
      }
    },
    {
      "cell_type": "code",
      "source": [
        "\n",
        "\"\"\"Raw Test version\"\"\"\n",
        "\"\"\"\n",
        "#Import required libraries\n",
        "import pandas as pd\n",
        "import json\n",
        "import requests\n",
        "import glob\n",
        "import os\n",
        "from yahooquery import Ticker\n",
        "from datetime import datetime\n",
        "\n",
        "\n",
        "params = {'access_key': 'e52cf3b93696352e880916f8c8adbf0c',\n",
        "          'limit': 350}\n",
        "api_result = requests.get('http://api.marketstack.com/v1/exchanges/XJSE/tickers', params)\n",
        "api_response = api_result.json()\n",
        "print(f\"Exchange Name = {api_response['data']['name']}\")\n",
        "for ticker in api_response['data']['tickers']:\n",
        "  print(f\"{ticker['name']}: {ticker['symbol']}\")\n",
        "\n",
        "\n",
        "# Serializing json\n",
        "json_object = json.dumps(api_response, indent=4)\n",
        "# Writing to sample.json\n",
        "with open(\"jse.json\", \"w\") as outfile:\n",
        "    outfile.write(json_object)\n",
        "\n",
        "# Opening JSON file\n",
        "with open('jse.json', 'r') as openfile:\n",
        "    # Reading from json file\n",
        "    json_object = json.load(openfile)\n",
        "df1 = pd.json_normalize(json_object[\"data\"][\"tickers\"])\n",
        "\n",
        "# dropping null value columns to avoid errors\n",
        "# new data frame with split value columns\n",
        "new = df1[\"symbol\"].str.split(\".\", n = 1, expand = True)\n",
        "# making separate first name column from new data frame\n",
        "df1[\"ticker\"]= new[0]\n",
        "# Dropping old Name columns\n",
        "df1.drop(columns =[\"has_intraday\",\"has_eod\"], inplace = True)\n",
        "new.columns = new.columns.astype(str)\n",
        "new.columns.values[1] = \"tickers\"\n",
        "new['0'] + '.' + new['tickers']\n",
        "new.replace(\"XJSE\", \"JO\", inplace=True)\n",
        "\n",
        "result = pd.concat([df1, new], axis=1, join='inner')\n",
        "df2=result['0'] + '.' + result['tickers']\n",
        "final = pd.concat([df1, df2], axis=1, join='inner')\n",
        "final.columns.values[3] = \"tickers\"\n",
        "final.columns = final.columns.astype(str)\n",
        "#Dropping old Name columns\n",
        "final.drop(columns =[\"name\", \"symbol\",\"ticker\"], inplace = True)\n",
        "# Converting a specific Dataframe\n",
        "# column to list using Series.tolist()\n",
        "xjse = final[\"tickers\"].tolist()\n",
        "\n",
        "symbols = xjse\n",
        "tickers = Ticker(symbols, asynchronous=True)\n",
        "data = tickers.history(start='2020-01-01', end='2023-05-10', interval='1d')\n",
        "data= data.drop(['adjclose','dividends','splits'],axis=1)\n",
        "\n",
        "resetindex = data.reset_index(inplace = True)\n",
        "\n",
        "# new dataframe with different column order\n",
        "df_new = data.iloc[:, [1, 2, 3, 4, 5, 6, 0]]\n",
        "\n",
        "Tickers = df_new[\"symbol\"].tolist()\n",
        "mylist = list(dict.fromkeys(Tickers))\n",
        "df = pd.DataFrame (mylist, columns = ['tickers'])\n",
        "df.columns = df.iloc[1]\n",
        "\n",
        "df.to_csv(\"/content/Raw/tickers.csv\")\n",
        "\n",
        "\n",
        "#Change date format to Year-Month-Day\n",
        "df_new['date'] =  pd.to_datetime(df_new['date']).dt.strftime('%Y-%m-%d')\n",
        "\n",
        "df_new.set_index('date', inplace=True)\n",
        "\n",
        "for i, g in df_new.groupby('symbol'):\n",
        "    g.to_csv('/content/Raw/{}.csv'.format(i), header=True, index_label=False)\n",
        "\"\"\""
      ],
      "metadata": {
        "id": "STmjfYc4ugdS"
      },
      "execution_count": null,
      "outputs": []
    },
    {
      "cell_type": "markdown",
      "source": [
        "##**Revised Script**"
      ],
      "metadata": {
        "id": "zrc_a85oXX0I"
      }
    },
    {
      "cell_type": "markdown",
      "source": [
        "###Install packages"
      ],
      "metadata": {
        "id": "oOqMYPtEBnw_"
      }
    },
    {
      "cell_type": "code",
      "source": [
        "!pip install yfinance"
      ],
      "metadata": {
        "id": "IECOpw6H-TQX"
      },
      "execution_count": null,
      "outputs": []
    },
    {
      "cell_type": "code",
      "source": [
        "!pip install yahooquery"
      ],
      "metadata": {
        "id": "iAeOLNoS-X0q"
      },
      "execution_count": null,
      "outputs": []
    },
    {
      "cell_type": "markdown",
      "source": [
        "###Import data"
      ],
      "metadata": {
        "id": "MY58T5eLBt0Y"
      }
    },
    {
      "cell_type": "code",
      "source": [
        "#Import required libraries\n",
        "import pandas as pd\n",
        "import json\n",
        "import requests\n",
        "import glob\n",
        "import os\n",
        "from yahooquery import Ticker\n",
        "from datetime import datetime\n",
        "\"\"\"\n",
        "params = {'access_key': 'e52cf3b93696352e880916f8c8adbf0c',\n",
        "          'limit': 350}\n",
        "api_result = requests.get('http://api.marketstack.com/v1/exchanges/XJSE/tickers', params)\n",
        "api_response = api_result.json()\n",
        "print(f\"Exchange Name = {api_response['data']['name']}\")\n",
        "for ticker in api_response['data']['tickers']:\n",
        "  print(f\"{ticker['name']}: {ticker['symbol']}\")\n",
        "\n",
        "\n",
        "# Serializing json\n",
        "json_object = json.dumps(api_response, indent=4)\n",
        "# Writing to sample.json\n",
        "with open(\"jse.json\", \"w\") as outfile:\n",
        "    outfile.write(json_object)\n",
        "\"\"\"\n",
        "# Opening JSON file\n",
        "with open('jse.json', 'r') as openfile:\n",
        "    # Reading from json file\n",
        "    json_object = json.load(openfile)\n",
        "df1 = pd.json_normalize(json_object[\"data\"][\"tickers\"])\n",
        "\n",
        "# dropping null value columns to avoid errors\n",
        "# new data frame with split value columns\n",
        "new = df1[\"symbol\"].str.split(\".\", n = 1, expand = True)\n",
        "# making separate first name column from new data frame\n",
        "df1[\"ticker\"]= new[0]\n",
        "# Dropping old Name columns\n",
        "df1.drop(columns =[\"has_intraday\",\"has_eod\"], inplace = True)\n",
        "new.columns = new.columns.astype(str)\n",
        "new.columns.values[1] = \"tickers\"\n",
        "new['0'] + '.' + new['tickers']\n",
        "new.replace(\"XJSE\", \"JO\", inplace=True)\n",
        "\n",
        "result = pd.concat([df1, new], axis=1, join='inner')\n",
        "df2=result['0'] + '.' + result['tickers']\n",
        "final = pd.concat([df1, df2], axis=1, join='inner')\n",
        "final.columns.values[3] = \"tickers\"\n",
        "final.columns = final.columns.astype(str)\n",
        "#Dropping old Name columns\n",
        "final.drop(columns =[\"name\", \"symbol\",\"ticker\"], inplace = True)\n",
        "# Converting a specific Dataframe\n",
        "# column to list using Series.tolist()\n",
        "xjse = final[\"tickers\"].tolist()\n",
        "print(\"Converting tickers to list...\")\n",
        "print(\"Output dataframe...\" )\n",
        "print(\"Writing csv file...\" )\n",
        "print(\"Saving JSE data to disc...\")\n",
        "print(\"Saving csv files for each stock to disc...\")\n",
        "symbols = xjse\n",
        "tickers = Ticker(symbols, asynchronous=True)\n",
        "data = tickers.history(start='2020-01-01', end='2023-05-19', interval='1d')\n",
        "data= data.drop(['adjclose','dividends','splits'],axis=1)\n",
        "\n",
        "\n",
        "#Convert dataframe to csv and save to disc\n",
        "final.to_csv(\"tickers.csv\")\n",
        "data.to_csv(\"jse_stocks.csv\")\n",
        "\n",
        "resetindex = data.reset_index(inplace = True)\n",
        "\n",
        "for i, g in data.groupby('symbol'):\n",
        "    g.to_csv('/content/Stocks/{}.csv'.format(i), header=True, index_label=False)\n",
        "\n",
        "# merging the files\n",
        "joined_files = os.path.join(\"/content/Stocks/\", \"*.csv\")\n",
        "\n",
        "# A list of all joined files is returned\n",
        "joined_list = glob.glob(joined_files)\n",
        "\n",
        "# Finally, the files are joined\n",
        "df = pd.concat(map(pd.read_csv, joined_list), ignore_index=True)\n",
        "\n",
        "# new dataframe with different column order\n",
        "df_new = df.iloc[:, [1, 2, 3, 4, 5, 6, 0]]\n",
        "\n",
        "Tickers = df_new[\"symbol\"].tolist()\n",
        "mylist = list(dict.fromkeys(Tickers))\n",
        "df = pd.DataFrame (mylist, columns = ['tickers'])\n",
        "df.to_csv(\"/content/tickers.csv\")\n",
        "\n",
        "#Change date format to Year-Month-Day\n",
        "df_new['date'] =  pd.to_datetime(df_new['date']).dt.strftime('%Y-%m-%d')\n",
        "\n",
        "df_new.set_index('date', inplace=True)\n",
        "\n",
        "for i, g in df_new.groupby('symbol'):\n",
        "    g.to_csv('/content/Stocks_final3/{}.csv'.format(i), header=True, index_label=False)"
      ],
      "metadata": {
        "id": "DCM0ZmyKXD-p",
        "colab": {
          "base_uri": "https://localhost:8080/"
        },
        "outputId": "d9c7e340-8e34-463f-d989-7d5e04d53f5d"
      },
      "execution_count": 53,
      "outputs": [
        {
          "output_type": "stream",
          "name": "stdout",
          "text": [
            "Converting tickers to list...\n",
            "Output dataframe...\n",
            "Writing csv file...\n",
            "Saving JSE data to disc...\n",
            "Saving csv files for each stock to disc...\n"
          ]
        }
      ]
    },
    {
      "cell_type": "code",
      "source": [
        "symbols = xjse\n",
        "tickers = Ticker(symbols, asynchronous=True)\n",
        "data = tickers.history(start='2020-01-01', end='2023-05-19', interval='1d')\n",
        "data= data.drop(['adjclose','dividends','splits'],axis=1)\n",
        "\n",
        "resetindex = data.reset_index(inplace = True)\n",
        "\n",
        "# new dataframe with different column order\n",
        "df_new = data.iloc[:, [1, 2, 3, 4, 5, 6, 0]]\n",
        "\n",
        "Tickers = df_new[\"symbol\"].tolist()\n",
        "mylist = list(dict.fromkeys(Tickers))\n",
        "df = pd.DataFrame (mylist, columns = ['tickers'])\n",
        "df.columns = df.iloc[1]\n",
        "\n",
        "df.to_csv(\"/content/Stocks_final3/tickers.csv\")"
      ],
      "metadata": {
        "id": "g4fDeUN1hYhV"
      },
      "execution_count": 54,
      "outputs": []
    },
    {
      "cell_type": "code",
      "source": [
        "import os\n",
        "import pandas as pd\n",
        "from scipy import stats\n",
        "import numpy as np\n",
        "directory = '/content/Stocks_final/'\n",
        "ext = ('.csv')\n",
        "\n",
        "for filename in os.listdir(directory):\n",
        "    f = os.path.join(directory, filename)\n",
        "\n",
        "    if f.endswith(ext):\n",
        "\n",
        "            head_tail = os.path.split(f)\n",
        "            head_tail1 = '/content/Stocks_final2/'\n",
        "            k =head_tail[1]\n",
        "            r=k.split(\".\")[0]\n",
        "\n",
        "            p=head_tail1 + \"/\" + r + \".JO.csv\"\n",
        "\n",
        "            mydata = pd.read_csv(f)\n",
        "\n",
        "            mydata.reset_index(inplace = True)\n",
        "\n",
        "            mydata = mydata.rename(columns={'index': 'date'}, index=None)\n",
        "\n",
        "            mydata['date'] =  pd.to_datetime(mydata['date']).dt.strftime('%Y-%m-%d')\n",
        "\n",
        "            mydata.set_index('date', inplace=True)\n",
        "\n",
        "            new =mydata[[\"open\",\"high\",\"low\",\"close\",\"volume\"]]\n",
        "\n",
        "            no_outlier_prices = new[(np.abs(stats.zscore(new,nan_policy='omit')) <3).all(axis=1)]\n",
        "\n",
        "            #Reset index again to change the index name\n",
        "            #no_outlier_prices.reset_index(inplace = True)\n",
        "\n",
        "            #Rename index column to 'date'\n",
        "            #no_outlier_prices = no_outlier_prices.rename(columns={'trading_date': 'date'}, index=None)\n",
        "\n",
        "            #Change date format to Year-Month-Day\n",
        "            #no_outlier_prices['date'] =  pd.to_datetime(no_outlier_prices['date']).dt.strftime('%Y-%m-%d')\n",
        "\n",
        "            #no_outlier_prices = no_outlier_prices.drop(['index'], axis=1)\n",
        "            #no_outlier_prices.set_index('date', inplace=True)\n",
        "\n",
        "no_outlier_prices.to_csv(p)\n",
        "\n",
        "mydata.to_csv(p)"
      ],
      "metadata": {
        "id": "DdtrsJzT3pxU"
      },
      "execution_count": null,
      "outputs": []
    },
    {
      "cell_type": "code",
      "source": [
        "from pathlib import Path\n",
        "import pandas as pd\n",
        "\n",
        "csv_folder = Path('/content/Stocks_final3')\n",
        "\n",
        "for file in csv_folder.glob('*.JO.csv'): #create iteratable & iterate on it.\n",
        "    mydata = pd.read_csv(file)\n",
        "    mydata.reset_index(inplace = True)\n",
        "    mydata = mydata.rename(columns={'index': 'date'}, index=None)\n",
        "    mydata['date'] =  pd.to_datetime(mydata['date']).dt.strftime('%Y-%m-%d')\n",
        "    mydata.set_index('date', inplace=True)\n",
        "    df =mydata[[\"open\",\"high\",\"low\",\"close\",\"volume\"]]\n",
        "    no_outlier_prices = df[(np.abs(stats.zscore(df)) <2).all(axis=1)]\n",
        "    new_file_name = file.parent.joinpath(f\"{file.stem}.csv\")\n",
        "    no_outlier_prices.to_csv(new_file_name) #, index=None, encoding='utf-8-sig', decimal=',')"
      ],
      "metadata": {
        "id": "ot6t276-AKRJ"
      },
      "execution_count": 55,
      "outputs": []
    },
    {
      "cell_type": "code",
      "source": [
        "no_outlier_prices"
      ],
      "metadata": {
        "id": "lgrNNQNREmBi",
        "outputId": "1220d5ca-cd1b-4652-825a-66e13e0a8b45",
        "colab": {
          "base_uri": "https://localhost:8080/",
          "height": 204
        }
      },
      "execution_count": 39,
      "outputs": [
        {
          "output_type": "execute_result",
          "data": {
            "text/plain": [
              "             open   high    low  close  volume\n",
              "date                                          \n",
              "2020-02-17  341.0  352.0  352.0  352.0  3140.0\n",
              "...           ...    ...    ...    ...     ...\n",
              "2023-05-18   50.0   50.0   50.0   50.0     0.0\n",
              "\n",
              "[770 rows x 5 columns]"
            ],
            "text/html": [
              "\n",
              "  <div id=\"df-47d67637-db14-43d4-a73b-07e323464165\">\n",
              "    <div class=\"colab-df-container\">\n",
              "      <div>\n",
              "<style scoped>\n",
              "    .dataframe tbody tr th:only-of-type {\n",
              "        vertical-align: middle;\n",
              "    }\n",
              "\n",
              "    .dataframe tbody tr th {\n",
              "        vertical-align: top;\n",
              "    }\n",
              "\n",
              "    .dataframe thead th {\n",
              "        text-align: right;\n",
              "    }\n",
              "</style>\n",
              "<table border=\"1\" class=\"dataframe\">\n",
              "  <thead>\n",
              "    <tr style=\"text-align: right;\">\n",
              "      <th></th>\n",
              "      <th>open</th>\n",
              "      <th>high</th>\n",
              "      <th>low</th>\n",
              "      <th>close</th>\n",
              "      <th>volume</th>\n",
              "    </tr>\n",
              "    <tr>\n",
              "      <th>date</th>\n",
              "      <th></th>\n",
              "      <th></th>\n",
              "      <th></th>\n",
              "      <th></th>\n",
              "      <th></th>\n",
              "    </tr>\n",
              "  </thead>\n",
              "  <tbody>\n",
              "    <tr>\n",
              "      <th>2020-02-17</th>\n",
              "      <td>341.0</td>\n",
              "      <td>352.0</td>\n",
              "      <td>352.0</td>\n",
              "      <td>352.0</td>\n",
              "      <td>3140.0</td>\n",
              "    </tr>\n",
              "    <tr>\n",
              "      <th>...</th>\n",
              "      <td>...</td>\n",
              "      <td>...</td>\n",
              "      <td>...</td>\n",
              "      <td>...</td>\n",
              "      <td>...</td>\n",
              "    </tr>\n",
              "    <tr>\n",
              "      <th>2023-05-18</th>\n",
              "      <td>50.0</td>\n",
              "      <td>50.0</td>\n",
              "      <td>50.0</td>\n",
              "      <td>50.0</td>\n",
              "      <td>0.0</td>\n",
              "    </tr>\n",
              "  </tbody>\n",
              "</table>\n",
              "<p>770 rows × 5 columns</p>\n",
              "</div>\n",
              "      <button class=\"colab-df-convert\" onclick=\"convertToInteractive('df-47d67637-db14-43d4-a73b-07e323464165')\"\n",
              "              title=\"Convert this dataframe to an interactive table.\"\n",
              "              style=\"display:none;\">\n",
              "        \n",
              "  <svg xmlns=\"http://www.w3.org/2000/svg\" height=\"24px\"viewBox=\"0 0 24 24\"\n",
              "       width=\"24px\">\n",
              "    <path d=\"M0 0h24v24H0V0z\" fill=\"none\"/>\n",
              "    <path d=\"M18.56 5.44l.94 2.06.94-2.06 2.06-.94-2.06-.94-.94-2.06-.94 2.06-2.06.94zm-11 1L8.5 8.5l.94-2.06 2.06-.94-2.06-.94L8.5 2.5l-.94 2.06-2.06.94zm10 10l.94 2.06.94-2.06 2.06-.94-2.06-.94-.94-2.06-.94 2.06-2.06.94z\"/><path d=\"M17.41 7.96l-1.37-1.37c-.4-.4-.92-.59-1.43-.59-.52 0-1.04.2-1.43.59L10.3 9.45l-7.72 7.72c-.78.78-.78 2.05 0 2.83L4 21.41c.39.39.9.59 1.41.59.51 0 1.02-.2 1.41-.59l7.78-7.78 2.81-2.81c.8-.78.8-2.07 0-2.86zM5.41 20L4 18.59l7.72-7.72 1.47 1.35L5.41 20z\"/>\n",
              "  </svg>\n",
              "      </button>\n",
              "      \n",
              "  <style>\n",
              "    .colab-df-container {\n",
              "      display:flex;\n",
              "      flex-wrap:wrap;\n",
              "      gap: 12px;\n",
              "    }\n",
              "\n",
              "    .colab-df-convert {\n",
              "      background-color: #E8F0FE;\n",
              "      border: none;\n",
              "      border-radius: 50%;\n",
              "      cursor: pointer;\n",
              "      display: none;\n",
              "      fill: #1967D2;\n",
              "      height: 32px;\n",
              "      padding: 0 0 0 0;\n",
              "      width: 32px;\n",
              "    }\n",
              "\n",
              "    .colab-df-convert:hover {\n",
              "      background-color: #E2EBFA;\n",
              "      box-shadow: 0px 1px 2px rgba(60, 64, 67, 0.3), 0px 1px 3px 1px rgba(60, 64, 67, 0.15);\n",
              "      fill: #174EA6;\n",
              "    }\n",
              "\n",
              "    [theme=dark] .colab-df-convert {\n",
              "      background-color: #3B4455;\n",
              "      fill: #D2E3FC;\n",
              "    }\n",
              "\n",
              "    [theme=dark] .colab-df-convert:hover {\n",
              "      background-color: #434B5C;\n",
              "      box-shadow: 0px 1px 3px 1px rgba(0, 0, 0, 0.15);\n",
              "      filter: drop-shadow(0px 1px 2px rgba(0, 0, 0, 0.3));\n",
              "      fill: #FFFFFF;\n",
              "    }\n",
              "  </style>\n",
              "\n",
              "      <script>\n",
              "        const buttonEl =\n",
              "          document.querySelector('#df-47d67637-db14-43d4-a73b-07e323464165 button.colab-df-convert');\n",
              "        buttonEl.style.display =\n",
              "          google.colab.kernel.accessAllowed ? 'block' : 'none';\n",
              "\n",
              "        async function convertToInteractive(key) {\n",
              "          const element = document.querySelector('#df-47d67637-db14-43d4-a73b-07e323464165');\n",
              "          const dataTable =\n",
              "            await google.colab.kernel.invokeFunction('convertToInteractive',\n",
              "                                                     [key], {});\n",
              "          if (!dataTable) return;\n",
              "\n",
              "          const docLinkHtml = 'Like what you see? Visit the ' +\n",
              "            '<a target=\"_blank\" href=https://colab.research.google.com/notebooks/data_table.ipynb>data table notebook</a>'\n",
              "            + ' to learn more about interactive tables.';\n",
              "          element.innerHTML = '';\n",
              "          dataTable['output_type'] = 'display_data';\n",
              "          await google.colab.output.renderOutput(dataTable, element);\n",
              "          const docLink = document.createElement('div');\n",
              "          docLink.innerHTML = docLinkHtml;\n",
              "          element.appendChild(docLink);\n",
              "        }\n",
              "      </script>\n",
              "    </div>\n",
              "  </div>\n",
              "  "
            ]
          },
          "metadata": {},
          "execution_count": 39
        }
      ]
    },
    {
      "cell_type": "markdown",
      "source": [
        "###Stock ranking method"
      ],
      "metadata": {
        "id": "ReQHevZiLrtP"
      }
    },
    {
      "cell_type": "code",
      "source": [
        "%matplotlib inline\n",
        "from datetime import datetime\n",
        "import pandas as pd\n",
        "import matplotlib.pyplot as plt\n",
        "import numpy as np\n",
        "\n",
        "plt.rcParams[\"figure.figsize\"] = (12, 9) # (w, h)\n",
        "plt.ioff()\n",
        "\n",
        "tickers = pd.read_csv('/content/Stocks_final3/tickers.csv', header=None)[1].tolist()\n",
        "stocks = (\n",
        "    (pd.concat(\n",
        "        [pd.read_csv(f\"/content/Stocks_final3/{ticker}.csv\",parse_dates=None, index_col=0)[\n",
        "        'close'].rename(ticker)\n",
        "        for ticker in tickers],\n",
        "        axis=1,\n",
        "        sort=True)\n",
        "    )\n",
        ")\n",
        "stocks = stocks.loc[:,~stocks.columns.duplicated()]\n",
        "\n",
        "from scipy.stats import linregress\n",
        "def momentum(closes):\n",
        "    returns = np.log(closes)\n",
        "    x = np.arange(len(returns))\n",
        "    slope, _, rvalue, _, _ = linregress(x, returns)\n",
        "    return ((1 + slope) ** 252) * (rvalue ** 2)  # annualize slope and multiply by R^2\n",
        "\n",
        "momentums = stocks.copy(deep=True)\n",
        "for ticker in tickers:\n",
        "    momentums[ticker] = stocks[ticker].rolling(100).apply(momentum, raw=False)\n",
        "\n",
        "result = momentums.sort_values(by = '2023-05-18', axis = 1, ascending =False)\n",
        "result.reset_index(inplace=True)\n",
        "res=result[~(result['date'] < '2023-05-18')].dropna(axis=1)\n",
        "\n",
        "mes = res.reindex(columns = res.columns.tolist()\n",
        "                                  + ['empty'])\n",
        "\n",
        "df = mes.set_index(['empty']).stack().reset_index(name='index').rename(columns={'level_2':'date'})\n",
        "\n",
        "df.columns = df.iloc[0]\n",
        "\n",
        "df.index = list(df.index)\n",
        "\n",
        "df.columns.values[0] = \"empty\"\n",
        "df.columns.values[1] = \"symbol\"\n",
        "df.columns.values[2] = \"momentum_score\"\n",
        "\n",
        "df=df.drop(['empty'], axis=1)\n",
        "\n",
        "finalframe=df.drop(index=0)\n",
        "\n",
        "finalframe['momentum_score'] =finalframe['momentum_score'].astype(float)\n",
        "\n",
        "finalframe['rank']=finalframe['momentum_score'].rank(ascending=False)\n",
        "\n",
        "finalframe['momentum_score'] =finalframe['momentum_score'].astype(float)\n",
        "\n",
        "finalframe.style.format({'momentum_score':\"{:.2f}\"})\n",
        "\n",
        "Mylist = finalframe[\"symbol\"].tolist()\n",
        "\n",
        "finalframe.set_index('symbol',inplace=True)\n",
        "\n",
        "final = pd.concat([df1, df2], axis=1, join='inner')\n",
        "final.columns.values[3] = \"tickers\"\n",
        "final.columns = final.columns.astype(str)\n",
        "\n",
        "final.set_index('tickers', inplace=True)\n",
        "Yes = final.reindex(Mylist)\n",
        "\n",
        "rt = pd.concat([finalframe, Yes], axis=1, join='inner')\n",
        "\n",
        "rt = rt.iloc[:, [2, 3, 4, 0, 1]]\n",
        "\n",
        "rt.style.format({'momentum_score':\"{:.2f}\"})"
      ],
      "metadata": {
        "id": "G0RWU7g78SGR",
        "outputId": "63f3cde1-c412-461b-d276-484dcd042f76",
        "colab": {
          "base_uri": "https://localhost:8080/",
          "height": 1000
        }
      },
      "execution_count": 63,
      "outputs": [
        {
          "output_type": "execute_result",
          "data": {
            "text/plain": [
              "<pandas.io.formats.style.Styler at 0x7fe3d1f08580>"
            ],
            "text/html": [
              "<style type=\"text/css\">\n",
              "</style>\n",
              "<table id=\"T_c758a\" class=\"dataframe\">\n",
              "  <thead>\n",
              "    <tr>\n",
              "      <th class=\"blank level0\" >&nbsp;</th>\n",
              "      <th id=\"T_c758a_level0_col0\" class=\"col_heading level0 col0\" >name</th>\n",
              "      <th id=\"T_c758a_level0_col1\" class=\"col_heading level0 col1\" >symbol</th>\n",
              "      <th id=\"T_c758a_level0_col2\" class=\"col_heading level0 col2\" >ticker</th>\n",
              "      <th id=\"T_c758a_level0_col3\" class=\"col_heading level0 col3\" >momentum_score</th>\n",
              "      <th id=\"T_c758a_level0_col4\" class=\"col_heading level0 col4\" >rank</th>\n",
              "    </tr>\n",
              "  </thead>\n",
              "  <tbody>\n",
              "    <tr>\n",
              "      <th id=\"T_c758a_level0_row0\" class=\"row_heading level0 row0\" >TTO.JO</th>\n",
              "      <td id=\"T_c758a_row0_col0\" class=\"data row0 col0\" >TRUSTCO GROUP HLDGS LTD</td>\n",
              "      <td id=\"T_c758a_row0_col1\" class=\"data row0 col1\" >TTO.XJSE</td>\n",
              "      <td id=\"T_c758a_row0_col2\" class=\"data row0 col2\" >TTO</td>\n",
              "      <td id=\"T_c758a_row0_col3\" class=\"data row0 col3\" >15747836.63</td>\n",
              "      <td id=\"T_c758a_row0_col4\" class=\"data row0 col4\" >1.000000</td>\n",
              "    </tr>\n",
              "    <tr>\n",
              "      <th id=\"T_c758a_level0_row1\" class=\"row_heading level0 row1\" >RTN.JO</th>\n",
              "      <td id=\"T_c758a_row1_col0\" class=\"data row1 col0\" >REX TRUEFORM GROUP -N-</td>\n",
              "      <td id=\"T_c758a_row1_col1\" class=\"data row1 col1\" >RTN.XJSE</td>\n",
              "      <td id=\"T_c758a_row1_col2\" class=\"data row1 col2\" >RTN</td>\n",
              "      <td id=\"T_c758a_row1_col3\" class=\"data row1 col3\" >1261788.05</td>\n",
              "      <td id=\"T_c758a_row1_col4\" class=\"data row1 col4\" >2.000000</td>\n",
              "    </tr>\n",
              "    <tr>\n",
              "      <th id=\"T_c758a_level0_row2\" class=\"row_heading level0 row2\" >TXT.JO</th>\n",
              "      <td id=\"T_c758a_row2_col0\" class=\"data row2 col0\" >TEXTAINER GROUP HLDGS LTD</td>\n",
              "      <td id=\"T_c758a_row2_col1\" class=\"data row2 col1\" >TXT.XJSE</td>\n",
              "      <td id=\"T_c758a_row2_col2\" class=\"data row2 col2\" >TXT</td>\n",
              "      <td id=\"T_c758a_row2_col3\" class=\"data row2 col3\" >1.21</td>\n",
              "      <td id=\"T_c758a_row2_col4\" class=\"data row2 col4\" >3.000000</td>\n",
              "    </tr>\n",
              "    <tr>\n",
              "      <th id=\"T_c758a_level0_row3\" class=\"row_heading level0 row3\" >SUR.JO</th>\n",
              "      <td id=\"T_c758a_row3_col0\" class=\"data row3 col0\" >SPUR CORPORATION LTD</td>\n",
              "      <td id=\"T_c758a_row3_col1\" class=\"data row3 col1\" >SUR.XJSE</td>\n",
              "      <td id=\"T_c758a_row3_col2\" class=\"data row3 col2\" >SUR</td>\n",
              "      <td id=\"T_c758a_row3_col3\" class=\"data row3 col3\" >0.86</td>\n",
              "      <td id=\"T_c758a_row3_col4\" class=\"data row3 col4\" >4.000000</td>\n",
              "    </tr>\n",
              "    <tr>\n",
              "      <th id=\"T_c758a_level0_row4\" class=\"row_heading level0 row4\" >OMN.JO</th>\n",
              "      <td id=\"T_c758a_row4_col0\" class=\"data row4 col0\" >OMNIA HOLDINGS LTD</td>\n",
              "      <td id=\"T_c758a_row4_col1\" class=\"data row4 col1\" >OMN.XJSE</td>\n",
              "      <td id=\"T_c758a_row4_col2\" class=\"data row4 col2\" >OMN</td>\n",
              "      <td id=\"T_c758a_row4_col3\" class=\"data row4 col3\" >0.52</td>\n",
              "      <td id=\"T_c758a_row4_col4\" class=\"data row4 col4\" >5.000000</td>\n",
              "    </tr>\n",
              "    <tr>\n",
              "      <th id=\"T_c758a_level0_row5\" class=\"row_heading level0 row5\" >ART.JO</th>\n",
              "      <td id=\"T_c758a_row5_col0\" class=\"data row5 col0\" >ARGENT INDUSTRIAL LTD</td>\n",
              "      <td id=\"T_c758a_row5_col1\" class=\"data row5 col1\" >ART.XJSE</td>\n",
              "      <td id=\"T_c758a_row5_col2\" class=\"data row5 col2\" >ART</td>\n",
              "      <td id=\"T_c758a_row5_col3\" class=\"data row5 col3\" >0.52</td>\n",
              "      <td id=\"T_c758a_row5_col4\" class=\"data row5 col4\" >6.000000</td>\n",
              "    </tr>\n",
              "    <tr>\n",
              "      <th id=\"T_c758a_level0_row6\" class=\"row_heading level0 row6\" >RBP.JO</th>\n",
              "      <td id=\"T_c758a_row6_col0\" class=\"data row6 col0\" >ROYAL BAFOKENG PLATINUM LTD</td>\n",
              "      <td id=\"T_c758a_row6_col1\" class=\"data row6 col1\" >RBP.XJSE</td>\n",
              "      <td id=\"T_c758a_row6_col2\" class=\"data row6 col2\" >RBP</td>\n",
              "      <td id=\"T_c758a_row6_col3\" class=\"data row6 col3\" >0.49</td>\n",
              "      <td id=\"T_c758a_row6_col4\" class=\"data row6 col4\" >7.000000</td>\n",
              "    </tr>\n",
              "    <tr>\n",
              "      <th id=\"T_c758a_level0_row7\" class=\"row_heading level0 row7\" >RACP.JO</th>\n",
              "      <td id=\"T_c758a_row7_col0\" class=\"data row7 col0\" >RECM AND CALIBRE LIMITED</td>\n",
              "      <td id=\"T_c758a_row7_col1\" class=\"data row7 col1\" >RACP.XJSE</td>\n",
              "      <td id=\"T_c758a_row7_col2\" class=\"data row7 col2\" >RACP</td>\n",
              "      <td id=\"T_c758a_row7_col3\" class=\"data row7 col3\" >0.49</td>\n",
              "      <td id=\"T_c758a_row7_col4\" class=\"data row7 col4\" >8.000000</td>\n",
              "    </tr>\n",
              "    <tr>\n",
              "      <th id=\"T_c758a_level0_row8\" class=\"row_heading level0 row8\" >RMH.JO</th>\n",
              "      <td id=\"T_c758a_row8_col0\" class=\"data row8 col0\" >RMB HOLDINGS LTD</td>\n",
              "      <td id=\"T_c758a_row8_col1\" class=\"data row8 col1\" >RMH.XJSE</td>\n",
              "      <td id=\"T_c758a_row8_col2\" class=\"data row8 col2\" >RMH</td>\n",
              "      <td id=\"T_c758a_row8_col3\" class=\"data row8 col3\" >0.48</td>\n",
              "      <td id=\"T_c758a_row8_col4\" class=\"data row8 col4\" >9.000000</td>\n",
              "    </tr>\n",
              "    <tr>\n",
              "      <th id=\"T_c758a_level0_row9\" class=\"row_heading level0 row9\" >SPG.JO</th>\n",
              "      <td id=\"T_c758a_row9_col0\" class=\"data row9 col0\" >SUPER GROUP LTD</td>\n",
              "      <td id=\"T_c758a_row9_col1\" class=\"data row9 col1\" >SPG.XJSE</td>\n",
              "      <td id=\"T_c758a_row9_col2\" class=\"data row9 col2\" >SPG</td>\n",
              "      <td id=\"T_c758a_row9_col3\" class=\"data row9 col3\" >0.47</td>\n",
              "      <td id=\"T_c758a_row9_col4\" class=\"data row9 col4\" >10.000000</td>\n",
              "    </tr>\n",
              "    <tr>\n",
              "      <th id=\"T_c758a_level0_row10\" class=\"row_heading level0 row10\" >ENX.JO</th>\n",
              "      <td id=\"T_c758a_row10_col0\" class=\"data row10 col0\" >ENX GROUP LIMITED</td>\n",
              "      <td id=\"T_c758a_row10_col1\" class=\"data row10 col1\" >ENX.XJSE</td>\n",
              "      <td id=\"T_c758a_row10_col2\" class=\"data row10 col2\" >ENX</td>\n",
              "      <td id=\"T_c758a_row10_col3\" class=\"data row10 col3\" >0.45</td>\n",
              "      <td id=\"T_c758a_row10_col4\" class=\"data row10 col4\" >11.000000</td>\n",
              "    </tr>\n",
              "    <tr>\n",
              "      <th id=\"T_c758a_level0_row11\" class=\"row_heading level0 row11\" >PAN.JO</th>\n",
              "      <td id=\"T_c758a_row11_col0\" class=\"data row11 col0\" >PAN AFRICAN RESOURCE PLC</td>\n",
              "      <td id=\"T_c758a_row11_col1\" class=\"data row11 col1\" >PAN.XJSE</td>\n",
              "      <td id=\"T_c758a_row11_col2\" class=\"data row11 col2\" >PAN</td>\n",
              "      <td id=\"T_c758a_row11_col3\" class=\"data row11 col3\" >0.44</td>\n",
              "      <td id=\"T_c758a_row11_col4\" class=\"data row11 col4\" >12.000000</td>\n",
              "    </tr>\n",
              "    <tr>\n",
              "      <th id=\"T_c758a_level0_row12\" class=\"row_heading level0 row12\" >LEW.JO</th>\n",
              "      <td id=\"T_c758a_row12_col0\" class=\"data row12 col0\" >LEWIS GROUP LTD</td>\n",
              "      <td id=\"T_c758a_row12_col1\" class=\"data row12 col1\" >LEW.XJSE</td>\n",
              "      <td id=\"T_c758a_row12_col2\" class=\"data row12 col2\" >LEW</td>\n",
              "      <td id=\"T_c758a_row12_col3\" class=\"data row12 col3\" >0.44</td>\n",
              "      <td id=\"T_c758a_row12_col4\" class=\"data row12 col4\" >13.000000</td>\n",
              "    </tr>\n",
              "    <tr>\n",
              "      <th id=\"T_c758a_level0_row13\" class=\"row_heading level0 row13\" >QFH.JO</th>\n",
              "      <td id=\"T_c758a_row13_col0\" class=\"data row13 col0\" >QUANTUM FOODS HLDGS LTD</td>\n",
              "      <td id=\"T_c758a_row13_col1\" class=\"data row13 col1\" >QFH.XJSE</td>\n",
              "      <td id=\"T_c758a_row13_col2\" class=\"data row13 col2\" >QFH</td>\n",
              "      <td id=\"T_c758a_row13_col3\" class=\"data row13 col3\" >0.44</td>\n",
              "      <td id=\"T_c758a_row13_col4\" class=\"data row13 col4\" >14.000000</td>\n",
              "    </tr>\n",
              "    <tr>\n",
              "      <th id=\"T_c758a_level0_row14\" class=\"row_heading level0 row14\" >RDF.JO</th>\n",
              "      <td id=\"T_c758a_row14_col0\" class=\"data row14 col0\" >REDEFINE PROPERTIES LTD</td>\n",
              "      <td id=\"T_c758a_row14_col1\" class=\"data row14 col1\" >RDF.XJSE</td>\n",
              "      <td id=\"T_c758a_row14_col2\" class=\"data row14 col2\" >RDF</td>\n",
              "      <td id=\"T_c758a_row14_col3\" class=\"data row14 col3\" >0.43</td>\n",
              "      <td id=\"T_c758a_row14_col4\" class=\"data row14 col4\" >15.000000</td>\n",
              "    </tr>\n",
              "    <tr>\n",
              "      <th id=\"T_c758a_level0_row15\" class=\"row_heading level0 row15\" >DCP.JO</th>\n",
              "      <td id=\"T_c758a_row15_col0\" class=\"data row15 col0\" >DIS-CHEM PHARMACIES LTD</td>\n",
              "      <td id=\"T_c758a_row15_col1\" class=\"data row15 col1\" >DCP.XJSE</td>\n",
              "      <td id=\"T_c758a_row15_col2\" class=\"data row15 col2\" >DCP</td>\n",
              "      <td id=\"T_c758a_row15_col3\" class=\"data row15 col3\" >0.41</td>\n",
              "      <td id=\"T_c758a_row15_col4\" class=\"data row15 col4\" >16.000000</td>\n",
              "    </tr>\n",
              "    <tr>\n",
              "      <th id=\"T_c758a_level0_row16\" class=\"row_heading level0 row16\" >TBS.JO</th>\n",
              "      <td id=\"T_c758a_row16_col0\" class=\"data row16 col0\" >TIGER BRANDS LTD</td>\n",
              "      <td id=\"T_c758a_row16_col1\" class=\"data row16 col1\" >TBS.XJSE</td>\n",
              "      <td id=\"T_c758a_row16_col2\" class=\"data row16 col2\" >TBS</td>\n",
              "      <td id=\"T_c758a_row16_col3\" class=\"data row16 col3\" >0.41</td>\n",
              "      <td id=\"T_c758a_row16_col4\" class=\"data row16 col4\" >17.000000</td>\n",
              "    </tr>\n",
              "    <tr>\n",
              "      <th id=\"T_c758a_level0_row17\" class=\"row_heading level0 row17\" >ABG.JO</th>\n",
              "      <td id=\"T_c758a_row17_col0\" class=\"data row17 col0\" >ABSA GROUP LIMITED</td>\n",
              "      <td id=\"T_c758a_row17_col1\" class=\"data row17 col1\" >ABG.XJSE</td>\n",
              "      <td id=\"T_c758a_row17_col2\" class=\"data row17 col2\" >ABG</td>\n",
              "      <td id=\"T_c758a_row17_col3\" class=\"data row17 col3\" >0.41</td>\n",
              "      <td id=\"T_c758a_row17_col4\" class=\"data row17 col4\" >18.000000</td>\n",
              "    </tr>\n",
              "    <tr>\n",
              "      <th id=\"T_c758a_level0_row18\" class=\"row_heading level0 row18\" >HYP.JO</th>\n",
              "      <td id=\"T_c758a_row18_col0\" class=\"data row18 col0\" >HYPROP INV LTD</td>\n",
              "      <td id=\"T_c758a_row18_col1\" class=\"data row18 col1\" >HYP.XJSE</td>\n",
              "      <td id=\"T_c758a_row18_col2\" class=\"data row18 col2\" >HYP</td>\n",
              "      <td id=\"T_c758a_row18_col3\" class=\"data row18 col3\" >0.40</td>\n",
              "      <td id=\"T_c758a_row18_col4\" class=\"data row18 col4\" >19.000000</td>\n",
              "    </tr>\n",
              "    <tr>\n",
              "      <th id=\"T_c758a_level0_row19\" class=\"row_heading level0 row19\" >MFL.JO</th>\n",
              "      <td id=\"T_c758a_row19_col0\" class=\"data row19 col0\" >METROFILE HOLDINGS LTD</td>\n",
              "      <td id=\"T_c758a_row19_col1\" class=\"data row19 col1\" >MFL.XJSE</td>\n",
              "      <td id=\"T_c758a_row19_col2\" class=\"data row19 col2\" >MFL</td>\n",
              "      <td id=\"T_c758a_row19_col3\" class=\"data row19 col3\" >0.37</td>\n",
              "      <td id=\"T_c758a_row19_col4\" class=\"data row19 col4\" >20.000000</td>\n",
              "    </tr>\n",
              "    <tr>\n",
              "      <th id=\"T_c758a_level0_row20\" class=\"row_heading level0 row20\" >TFG.JO</th>\n",
              "      <td id=\"T_c758a_row20_col0\" class=\"data row20 col0\" >THE FOSCHINI GROUP LIMITED</td>\n",
              "      <td id=\"T_c758a_row20_col1\" class=\"data row20 col1\" >TFG.XJSE</td>\n",
              "      <td id=\"T_c758a_row20_col2\" class=\"data row20 col2\" >TFG</td>\n",
              "      <td id=\"T_c758a_row20_col3\" class=\"data row20 col3\" >0.35</td>\n",
              "      <td id=\"T_c758a_row20_col4\" class=\"data row20 col4\" >21.000000</td>\n",
              "    </tr>\n",
              "    <tr>\n",
              "      <th id=\"T_c758a_level0_row21\" class=\"row_heading level0 row21\" >ACL.JO</th>\n",
              "      <td id=\"T_c758a_row21_col0\" class=\"data row21 col0\" >ARCELORMITTAL SA LIMITED</td>\n",
              "      <td id=\"T_c758a_row21_col1\" class=\"data row21 col1\" >ACL.XJSE</td>\n",
              "      <td id=\"T_c758a_row21_col2\" class=\"data row21 col2\" >ACL</td>\n",
              "      <td id=\"T_c758a_row21_col3\" class=\"data row21 col3\" >0.33</td>\n",
              "      <td id=\"T_c758a_row21_col4\" class=\"data row21 col4\" >22.000000</td>\n",
              "    </tr>\n",
              "    <tr>\n",
              "      <th id=\"T_c758a_level0_row22\" class=\"row_heading level0 row22\" >SOL.JO</th>\n",
              "      <td id=\"T_c758a_row22_col0\" class=\"data row22 col0\" >SASOL LIMITED</td>\n",
              "      <td id=\"T_c758a_row22_col1\" class=\"data row22 col1\" >SOL.XJSE</td>\n",
              "      <td id=\"T_c758a_row22_col2\" class=\"data row22 col2\" >SOL</td>\n",
              "      <td id=\"T_c758a_row22_col3\" class=\"data row22 col3\" >0.30</td>\n",
              "      <td id=\"T_c758a_row22_col4\" class=\"data row22 col4\" >23.000000</td>\n",
              "    </tr>\n",
              "    <tr>\n",
              "      <th id=\"T_c758a_level0_row23\" class=\"row_heading level0 row23\" >IMP.JO</th>\n",
              "      <td id=\"T_c758a_row23_col0\" class=\"data row23 col0\" >IMPALA PLATINUM HLGS LTD</td>\n",
              "      <td id=\"T_c758a_row23_col1\" class=\"data row23 col1\" >IMP.XJSE</td>\n",
              "      <td id=\"T_c758a_row23_col2\" class=\"data row23 col2\" >IMP</td>\n",
              "      <td id=\"T_c758a_row23_col3\" class=\"data row23 col3\" >0.30</td>\n",
              "      <td id=\"T_c758a_row23_col4\" class=\"data row23 col4\" >24.000000</td>\n",
              "    </tr>\n",
              "    <tr>\n",
              "      <th id=\"T_c758a_level0_row24\" class=\"row_heading level0 row24\" >MPT.JO</th>\n",
              "      <td id=\"T_c758a_row24_col0\" class=\"data row24 col0\" >MPACT LIMITED</td>\n",
              "      <td id=\"T_c758a_row24_col1\" class=\"data row24 col1\" >MPT.XJSE</td>\n",
              "      <td id=\"T_c758a_row24_col2\" class=\"data row24 col2\" >MPT</td>\n",
              "      <td id=\"T_c758a_row24_col3\" class=\"data row24 col3\" >0.29</td>\n",
              "      <td id=\"T_c758a_row24_col4\" class=\"data row24 col4\" >25.000000</td>\n",
              "    </tr>\n",
              "    <tr>\n",
              "      <th id=\"T_c758a_level0_row25\" class=\"row_heading level0 row25\" >MMP.JO</th>\n",
              "      <td id=\"T_c758a_row25_col0\" class=\"data row25 col0\" >MARSHALL MONTEAGLE PLC</td>\n",
              "      <td id=\"T_c758a_row25_col1\" class=\"data row25 col1\" >MMP.XJSE</td>\n",
              "      <td id=\"T_c758a_row25_col2\" class=\"data row25 col2\" >MMP</td>\n",
              "      <td id=\"T_c758a_row25_col3\" class=\"data row25 col3\" >0.29</td>\n",
              "      <td id=\"T_c758a_row25_col4\" class=\"data row25 col4\" >26.000000</td>\n",
              "    </tr>\n",
              "    <tr>\n",
              "      <th id=\"T_c758a_level0_row26\" class=\"row_heading level0 row26\" >PPE.JO</th>\n",
              "      <td id=\"T_c758a_row26_col0\" class=\"data row26 col0\" >PURPLE GROUP LTD</td>\n",
              "      <td id=\"T_c758a_row26_col1\" class=\"data row26 col1\" >PPE.XJSE</td>\n",
              "      <td id=\"T_c758a_row26_col2\" class=\"data row26 col2\" >PPE</td>\n",
              "      <td id=\"T_c758a_row26_col3\" class=\"data row26 col3\" >0.27</td>\n",
              "      <td id=\"T_c758a_row26_col4\" class=\"data row26 col4\" >27.000000</td>\n",
              "    </tr>\n",
              "    <tr>\n",
              "      <th id=\"T_c758a_level0_row27\" class=\"row_heading level0 row27\" >GSH.JO</th>\n",
              "      <td id=\"T_c758a_row27_col0\" class=\"data row27 col0\" >GRINDROD SHIPPING HLDG LTD</td>\n",
              "      <td id=\"T_c758a_row27_col1\" class=\"data row27 col1\" >GSH.XJSE</td>\n",
              "      <td id=\"T_c758a_row27_col2\" class=\"data row27 col2\" >GSH</td>\n",
              "      <td id=\"T_c758a_row27_col3\" class=\"data row27 col3\" >0.24</td>\n",
              "      <td id=\"T_c758a_row27_col4\" class=\"data row27 col4\" >28.000000</td>\n",
              "    </tr>\n",
              "    <tr>\n",
              "      <th id=\"T_c758a_level0_row28\" class=\"row_heading level0 row28\" >INL.JO</th>\n",
              "      <td id=\"T_c758a_row28_col0\" class=\"data row28 col0\" >INVESTEC LTD</td>\n",
              "      <td id=\"T_c758a_row28_col1\" class=\"data row28 col1\" >INL.XJSE</td>\n",
              "      <td id=\"T_c758a_row28_col2\" class=\"data row28 col2\" >INL</td>\n",
              "      <td id=\"T_c758a_row28_col3\" class=\"data row28 col3\" >0.24</td>\n",
              "      <td id=\"T_c758a_row28_col4\" class=\"data row28 col4\" >29.000000</td>\n",
              "    </tr>\n",
              "    <tr>\n",
              "      <th id=\"T_c758a_level0_row29\" class=\"row_heading level0 row29\" >MTN.JO</th>\n",
              "      <td id=\"T_c758a_row29_col0\" class=\"data row29 col0\" >MTN GROUP LTD</td>\n",
              "      <td id=\"T_c758a_row29_col1\" class=\"data row29 col1\" >MTN.XJSE</td>\n",
              "      <td id=\"T_c758a_row29_col2\" class=\"data row29 col2\" >MTN</td>\n",
              "      <td id=\"T_c758a_row29_col3\" class=\"data row29 col3\" >0.20</td>\n",
              "      <td id=\"T_c758a_row29_col4\" class=\"data row29 col4\" >30.000000</td>\n",
              "    </tr>\n",
              "    <tr>\n",
              "      <th id=\"T_c758a_level0_row30\" class=\"row_heading level0 row30\" >RBX.JO</th>\n",
              "      <td id=\"T_c758a_row30_col0\" class=\"data row30 col0\" >RAUBEX GROUP LTD</td>\n",
              "      <td id=\"T_c758a_row30_col1\" class=\"data row30 col1\" >RBX.XJSE</td>\n",
              "      <td id=\"T_c758a_row30_col2\" class=\"data row30 col2\" >RBX</td>\n",
              "      <td id=\"T_c758a_row30_col3\" class=\"data row30 col3\" >0.20</td>\n",
              "      <td id=\"T_c758a_row30_col4\" class=\"data row30 col4\" >31.000000</td>\n",
              "    </tr>\n",
              "    <tr>\n",
              "      <th id=\"T_c758a_level0_row31\" class=\"row_heading level0 row31\" >AEG.JO</th>\n",
              "      <td id=\"T_c758a_row31_col0\" class=\"data row31 col0\" >AVENG GROUP LIMITED</td>\n",
              "      <td id=\"T_c758a_row31_col1\" class=\"data row31 col1\" >AEG.XJSE</td>\n",
              "      <td id=\"T_c758a_row31_col2\" class=\"data row31 col2\" >AEG</td>\n",
              "      <td id=\"T_c758a_row31_col3\" class=\"data row31 col3\" >0.19</td>\n",
              "      <td id=\"T_c758a_row31_col4\" class=\"data row31 col4\" >32.000000</td>\n",
              "    </tr>\n",
              "    <tr>\n",
              "      <th id=\"T_c758a_level0_row32\" class=\"row_heading level0 row32\" >CLI.JO</th>\n",
              "      <td id=\"T_c758a_row32_col0\" class=\"data row32 col0\" >CLIENTELE LTD</td>\n",
              "      <td id=\"T_c758a_row32_col1\" class=\"data row32 col1\" >CLI.XJSE</td>\n",
              "      <td id=\"T_c758a_row32_col2\" class=\"data row32 col2\" >CLI</td>\n",
              "      <td id=\"T_c758a_row32_col3\" class=\"data row32 col3\" >0.18</td>\n",
              "      <td id=\"T_c758a_row32_col4\" class=\"data row32 col4\" >33.000000</td>\n",
              "    </tr>\n",
              "    <tr>\n",
              "      <th id=\"T_c758a_level0_row33\" class=\"row_heading level0 row33\" >YRK.JO</th>\n",
              "      <td id=\"T_c758a_row33_col0\" class=\"data row33 col0\" >YORK TIMBER HOLDINGS LTD</td>\n",
              "      <td id=\"T_c758a_row33_col1\" class=\"data row33 col1\" >YRK.XJSE</td>\n",
              "      <td id=\"T_c758a_row33_col2\" class=\"data row33 col2\" >YRK</td>\n",
              "      <td id=\"T_c758a_row33_col3\" class=\"data row33 col3\" >0.18</td>\n",
              "      <td id=\"T_c758a_row33_col4\" class=\"data row33 col4\" >34.000000</td>\n",
              "    </tr>\n",
              "    <tr>\n",
              "      <th id=\"T_c758a_level0_row34\" class=\"row_heading level0 row34\" >OCE.JO</th>\n",
              "      <td id=\"T_c758a_row34_col0\" class=\"data row34 col0\" >OCEANA GROUP LTD</td>\n",
              "      <td id=\"T_c758a_row34_col1\" class=\"data row34 col1\" >OCE.XJSE</td>\n",
              "      <td id=\"T_c758a_row34_col2\" class=\"data row34 col2\" >OCE</td>\n",
              "      <td id=\"T_c758a_row34_col3\" class=\"data row34 col3\" >0.18</td>\n",
              "      <td id=\"T_c758a_row34_col4\" class=\"data row34 col4\" >35.000000</td>\n",
              "    </tr>\n",
              "    <tr>\n",
              "      <th id=\"T_c758a_level0_row35\" class=\"row_heading level0 row35\" >OCT.JO</th>\n",
              "      <td id=\"T_c758a_row35_col0\" class=\"data row35 col0\" >OCTODEC INVEST LTD</td>\n",
              "      <td id=\"T_c758a_row35_col1\" class=\"data row35 col1\" >OCT.XJSE</td>\n",
              "      <td id=\"T_c758a_row35_col2\" class=\"data row35 col2\" >OCT</td>\n",
              "      <td id=\"T_c758a_row35_col3\" class=\"data row35 col3\" >0.11</td>\n",
              "      <td id=\"T_c758a_row35_col4\" class=\"data row35 col4\" >36.000000</td>\n",
              "    </tr>\n",
              "    <tr>\n",
              "      <th id=\"T_c758a_level0_row36\" class=\"row_heading level0 row36\" >4SI.JO</th>\n",
              "      <td id=\"T_c758a_row36_col0\" class=\"data row36 col0\" >4Sight Holdings Limited</td>\n",
              "      <td id=\"T_c758a_row36_col1\" class=\"data row36 col1\" >4SI.XJSE</td>\n",
              "      <td id=\"T_c758a_row36_col2\" class=\"data row36 col2\" >4SI</td>\n",
              "      <td id=\"T_c758a_row36_col3\" class=\"data row36 col3\" >0.11</td>\n",
              "      <td id=\"T_c758a_row36_col4\" class=\"data row36 col4\" >37.000000</td>\n",
              "    </tr>\n",
              "    <tr>\n",
              "      <th id=\"T_c758a_level0_row37\" class=\"row_heading level0 row37\" >PRX.JO</th>\n",
              "      <td id=\"T_c758a_row37_col0\" class=\"data row37 col0\" >PROSUS N.V.</td>\n",
              "      <td id=\"T_c758a_row37_col1\" class=\"data row37 col1\" >PRX.XJSE</td>\n",
              "      <td id=\"T_c758a_row37_col2\" class=\"data row37 col2\" >PRX</td>\n",
              "      <td id=\"T_c758a_row37_col3\" class=\"data row37 col3\" >0.10</td>\n",
              "      <td id=\"T_c758a_row37_col4\" class=\"data row37 col4\" >38.000000</td>\n",
              "    </tr>\n",
              "    <tr>\n",
              "      <th id=\"T_c758a_level0_row38\" class=\"row_heading level0 row38\" >BWN.JO</th>\n",
              "      <td id=\"T_c758a_row38_col0\" class=\"data row38 col0\" >BALWIN PROPERTIES LTD</td>\n",
              "      <td id=\"T_c758a_row38_col1\" class=\"data row38 col1\" >BWN.XJSE</td>\n",
              "      <td id=\"T_c758a_row38_col2\" class=\"data row38 col2\" >BWN</td>\n",
              "      <td id=\"T_c758a_row38_col3\" class=\"data row38 col3\" >0.09</td>\n",
              "      <td id=\"T_c758a_row38_col4\" class=\"data row38 col4\" >39.000000</td>\n",
              "    </tr>\n",
              "    <tr>\n",
              "      <th id=\"T_c758a_level0_row39\" class=\"row_heading level0 row39\" >TEX.JO</th>\n",
              "      <td id=\"T_c758a_row39_col0\" class=\"data row39 col0\" >TEXTON PROPERTY FUND LTD</td>\n",
              "      <td id=\"T_c758a_row39_col1\" class=\"data row39 col1\" >TEX.XJSE</td>\n",
              "      <td id=\"T_c758a_row39_col2\" class=\"data row39 col2\" >TEX</td>\n",
              "      <td id=\"T_c758a_row39_col3\" class=\"data row39 col3\" >0.06</td>\n",
              "      <td id=\"T_c758a_row39_col4\" class=\"data row39 col4\" >40.000000</td>\n",
              "    </tr>\n",
              "    <tr>\n",
              "      <th id=\"T_c758a_level0_row40\" class=\"row_heading level0 row40\" >VIS.JO</th>\n",
              "      <td id=\"T_c758a_row40_col0\" class=\"data row40 col0\" >VISUAL INTERNATIONAL HLDGS LTD</td>\n",
              "      <td id=\"T_c758a_row40_col1\" class=\"data row40 col1\" >VIS.XJSE</td>\n",
              "      <td id=\"T_c758a_row40_col2\" class=\"data row40 col2\" >VIS</td>\n",
              "      <td id=\"T_c758a_row40_col3\" class=\"data row40 col3\" >0.06</td>\n",
              "      <td id=\"T_c758a_row40_col4\" class=\"data row40 col4\" >41.000000</td>\n",
              "    </tr>\n",
              "    <tr>\n",
              "      <th id=\"T_c758a_level0_row41\" class=\"row_heading level0 row41\" >WEZ.JO</th>\n",
              "      <td id=\"T_c758a_row41_col0\" class=\"data row41 col0\" >WESIZWE PLATINUM LTD</td>\n",
              "      <td id=\"T_c758a_row41_col1\" class=\"data row41 col1\" >WEZ.XJSE</td>\n",
              "      <td id=\"T_c758a_row41_col2\" class=\"data row41 col2\" >WEZ</td>\n",
              "      <td id=\"T_c758a_row41_col3\" class=\"data row41 col3\" >0.06</td>\n",
              "      <td id=\"T_c758a_row41_col4\" class=\"data row41 col4\" >42.000000</td>\n",
              "    </tr>\n",
              "    <tr>\n",
              "      <th id=\"T_c758a_level0_row42\" class=\"row_heading level0 row42\" >APF.JO</th>\n",
              "      <td id=\"T_c758a_row42_col0\" class=\"data row42 col0\" >ACCELERATE PROP FUND LTD</td>\n",
              "      <td id=\"T_c758a_row42_col1\" class=\"data row42 col1\" >APF.XJSE</td>\n",
              "      <td id=\"T_c758a_row42_col2\" class=\"data row42 col2\" >APF</td>\n",
              "      <td id=\"T_c758a_row42_col3\" class=\"data row42 col3\" >0.04</td>\n",
              "      <td id=\"T_c758a_row42_col4\" class=\"data row42 col4\" >43.000000</td>\n",
              "    </tr>\n",
              "    <tr>\n",
              "      <th id=\"T_c758a_level0_row43\" class=\"row_heading level0 row43\" >NPN.JO</th>\n",
              "      <td id=\"T_c758a_row43_col0\" class=\"data row43 col0\" >NASPERS LTD -N-</td>\n",
              "      <td id=\"T_c758a_row43_col1\" class=\"data row43 col1\" >NPN.XJSE</td>\n",
              "      <td id=\"T_c758a_row43_col2\" class=\"data row43 col2\" >NPN</td>\n",
              "      <td id=\"T_c758a_row43_col3\" class=\"data row43 col3\" >0.03</td>\n",
              "      <td id=\"T_c758a_row43_col4\" class=\"data row43 col4\" >44.000000</td>\n",
              "    </tr>\n",
              "    <tr>\n",
              "      <th id=\"T_c758a_level0_row44\" class=\"row_heading level0 row44\" >ADW.JO</th>\n",
              "      <td id=\"T_c758a_row44_col0\" class=\"data row44 col0\" >AFRICAN DAWN CAPITAL LTD</td>\n",
              "      <td id=\"T_c758a_row44_col1\" class=\"data row44 col1\" >ADW.XJSE</td>\n",
              "      <td id=\"T_c758a_row44_col2\" class=\"data row44 col2\" >ADW</td>\n",
              "      <td id=\"T_c758a_row44_col3\" class=\"data row44 col3\" >0.03</td>\n",
              "      <td id=\"T_c758a_row44_col4\" class=\"data row44 col4\" >45.000000</td>\n",
              "    </tr>\n",
              "    <tr>\n",
              "      <th id=\"T_c758a_level0_row45\" class=\"row_heading level0 row45\" >GPL.JO</th>\n",
              "      <td id=\"T_c758a_row45_col0\" class=\"data row45 col0\" >GRAND PARADE INV LTD</td>\n",
              "      <td id=\"T_c758a_row45_col1\" class=\"data row45 col1\" >GPL.XJSE</td>\n",
              "      <td id=\"T_c758a_row45_col2\" class=\"data row45 col2\" >GPL</td>\n",
              "      <td id=\"T_c758a_row45_col3\" class=\"data row45 col3\" >0.02</td>\n",
              "      <td id=\"T_c758a_row45_col4\" class=\"data row45 col4\" >46.000000</td>\n",
              "    </tr>\n",
              "    <tr>\n",
              "      <th id=\"T_c758a_level0_row46\" class=\"row_heading level0 row46\" >MSP.JO</th>\n",
              "      <td id=\"T_c758a_row46_col0\" class=\"data row46 col0\" >MAS REAL ESTATE INC.</td>\n",
              "      <td id=\"T_c758a_row46_col1\" class=\"data row46 col1\" >MSP.XJSE</td>\n",
              "      <td id=\"T_c758a_row46_col2\" class=\"data row46 col2\" >MSP</td>\n",
              "      <td id=\"T_c758a_row46_col3\" class=\"data row46 col3\" >0.01</td>\n",
              "      <td id=\"T_c758a_row46_col4\" class=\"data row46 col4\" >47.000000</td>\n",
              "    </tr>\n",
              "    <tr>\n",
              "      <th id=\"T_c758a_level0_row47\" class=\"row_heading level0 row47\" >REM.JO</th>\n",
              "      <td id=\"T_c758a_row47_col0\" class=\"data row47 col0\" >REMGRO LTD</td>\n",
              "      <td id=\"T_c758a_row47_col1\" class=\"data row47 col1\" >REM.XJSE</td>\n",
              "      <td id=\"T_c758a_row47_col2\" class=\"data row47 col2\" >REM</td>\n",
              "      <td id=\"T_c758a_row47_col3\" class=\"data row47 col3\" >0.00</td>\n",
              "      <td id=\"T_c758a_row47_col4\" class=\"data row47 col4\" >48.000000</td>\n",
              "    </tr>\n",
              "    <tr>\n",
              "      <th id=\"T_c758a_level0_row48\" class=\"row_heading level0 row48\" >AHL.JO</th>\n",
              "      <td id=\"T_c758a_row48_col0\" class=\"data row48 col0\" >AH-Vest Limited</td>\n",
              "      <td id=\"T_c758a_row48_col1\" class=\"data row48 col1\" >AHL.XJSE</td>\n",
              "      <td id=\"T_c758a_row48_col2\" class=\"data row48 col2\" >AHL</td>\n",
              "      <td id=\"T_c758a_row48_col3\" class=\"data row48 col3\" >0.00</td>\n",
              "      <td id=\"T_c758a_row48_col4\" class=\"data row48 col4\" >49.000000</td>\n",
              "    </tr>\n",
              "    <tr>\n",
              "      <th id=\"T_c758a_level0_row49\" class=\"row_heading level0 row49\" >SBKP.JO</th>\n",
              "      <td id=\"T_c758a_row49_col0\" class=\"data row49 col0\" >STD BANK GROUP 6,5%PREF</td>\n",
              "      <td id=\"T_c758a_row49_col1\" class=\"data row49 col1\" >SBKP.XJSE</td>\n",
              "      <td id=\"T_c758a_row49_col2\" class=\"data row49 col2\" >SBKP</td>\n",
              "      <td id=\"T_c758a_row49_col3\" class=\"data row49 col3\" >0.00</td>\n",
              "      <td id=\"T_c758a_row49_col4\" class=\"data row49 col4\" >50.000000</td>\n",
              "    </tr>\n",
              "    <tr>\n",
              "      <th id=\"T_c758a_level0_row50\" class=\"row_heading level0 row50\" >TPF.JO</th>\n",
              "      <td id=\"T_c758a_row50_col0\" class=\"data row50 col0\" >TRANSCEND RES PROP FD LD</td>\n",
              "      <td id=\"T_c758a_row50_col1\" class=\"data row50 col1\" >TPF.XJSE</td>\n",
              "      <td id=\"T_c758a_row50_col2\" class=\"data row50 col2\" >TPF</td>\n",
              "      <td id=\"T_c758a_row50_col3\" class=\"data row50 col3\" >0.00</td>\n",
              "      <td id=\"T_c758a_row50_col4\" class=\"data row50 col4\" >51.000000</td>\n",
              "    </tr>\n",
              "    <tr>\n",
              "      <th id=\"T_c758a_level0_row51\" class=\"row_heading level0 row51\" >ASC.JO</th>\n",
              "      <td id=\"T_c758a_row51_col0\" class=\"data row51 col0\" >ASCENDIS HEALTH LTD</td>\n",
              "      <td id=\"T_c758a_row51_col1\" class=\"data row51 col1\" >ASC.XJSE</td>\n",
              "      <td id=\"T_c758a_row51_col2\" class=\"data row51 col2\" >ASC</td>\n",
              "      <td id=\"T_c758a_row51_col3\" class=\"data row51 col3\" >0.00</td>\n",
              "      <td id=\"T_c758a_row51_col4\" class=\"data row51 col4\" >52.000000</td>\n",
              "    </tr>\n",
              "    <tr>\n",
              "      <th id=\"T_c758a_level0_row52\" class=\"row_heading level0 row52\" >SOH.JO</th>\n",
              "      <td id=\"T_c758a_row52_col0\" class=\"data row52 col0\" >SOUTH OCEAN HOLDINGS LTD</td>\n",
              "      <td id=\"T_c758a_row52_col1\" class=\"data row52 col1\" >SOH.XJSE</td>\n",
              "      <td id=\"T_c758a_row52_col2\" class=\"data row52 col2\" >SOH</td>\n",
              "      <td id=\"T_c758a_row52_col3\" class=\"data row52 col3\" >0.00</td>\n",
              "      <td id=\"T_c758a_row52_col4\" class=\"data row52 col4\" >53.000000</td>\n",
              "    </tr>\n",
              "  </tbody>\n",
              "</table>\n"
            ]
          },
          "metadata": {},
          "execution_count": 63
        }
      ]
    },
    {
      "cell_type": "code",
      "source": [
        "result"
      ],
      "metadata": {
        "id": "7oFwNMGEQaAW",
        "outputId": "b9d6b518-d2e5-48f6-8924-f84ed76a83d3",
        "colab": {
          "base_uri": "https://localhost:8080/",
          "height": 271
        }
      },
      "execution_count": 62,
      "outputs": [
        {
          "output_type": "execute_result",
          "data": {
            "text/plain": [
              "           date        TTO.JO        RTN.JO    TXT.JO    SUR.JO    SPG.JO  \\\n",
              "0    2020-01-02           NaN           NaN       NaN       NaN       NaN   \n",
              "..          ...           ...           ...       ...       ...       ...   \n",
              "844  2023-05-18  1.574784e+07  1.261788e+06  1.208312  0.858572  0.468732   \n",
              "\n",
              "       OMN.JO    ART.JO    RBP.JO   RACP.JO  ...  INPP.JO  DSBP.JO  NTCP.JO  \\\n",
              "0         NaN       NaN       NaN       NaN  ...      NaN      NaN      NaN   \n",
              "..        ...       ...       ...       ...  ...      ...      ...      ...   \n",
              "844  0.523887  0.522756  0.492238  0.490626  ...      NaN      NaN      NaN   \n",
              "\n",
              "     CPIP.JO  AFEP.JO  GNDP.JO  CATP.JO  NPKP.JO  IVTP.JO  AMIB50.JO  \n",
              "0        NaN      NaN      NaN      NaN      NaN      NaN        NaN  \n",
              "..       ...      ...      ...      ...      ...      ...        ...  \n",
              "844      NaN      NaN      NaN      NaN      NaN      NaN        NaN  \n",
              "\n",
              "[845 rows x 275 columns]"
            ],
            "text/html": [
              "\n",
              "  <div id=\"df-018cdbc2-34e3-4b54-9b67-c81e8ebe1468\">\n",
              "    <div class=\"colab-df-container\">\n",
              "      <div>\n",
              "<style scoped>\n",
              "    .dataframe tbody tr th:only-of-type {\n",
              "        vertical-align: middle;\n",
              "    }\n",
              "\n",
              "    .dataframe tbody tr th {\n",
              "        vertical-align: top;\n",
              "    }\n",
              "\n",
              "    .dataframe thead th {\n",
              "        text-align: right;\n",
              "    }\n",
              "</style>\n",
              "<table border=\"1\" class=\"dataframe\">\n",
              "  <thead>\n",
              "    <tr style=\"text-align: right;\">\n",
              "      <th></th>\n",
              "      <th>date</th>\n",
              "      <th>TTO.JO</th>\n",
              "      <th>RTN.JO</th>\n",
              "      <th>TXT.JO</th>\n",
              "      <th>SUR.JO</th>\n",
              "      <th>SPG.JO</th>\n",
              "      <th>OMN.JO</th>\n",
              "      <th>ART.JO</th>\n",
              "      <th>RBP.JO</th>\n",
              "      <th>RACP.JO</th>\n",
              "      <th>...</th>\n",
              "      <th>INPP.JO</th>\n",
              "      <th>DSBP.JO</th>\n",
              "      <th>NTCP.JO</th>\n",
              "      <th>CPIP.JO</th>\n",
              "      <th>AFEP.JO</th>\n",
              "      <th>GNDP.JO</th>\n",
              "      <th>CATP.JO</th>\n",
              "      <th>NPKP.JO</th>\n",
              "      <th>IVTP.JO</th>\n",
              "      <th>AMIB50.JO</th>\n",
              "    </tr>\n",
              "  </thead>\n",
              "  <tbody>\n",
              "    <tr>\n",
              "      <th>0</th>\n",
              "      <td>2020-01-02</td>\n",
              "      <td>NaN</td>\n",
              "      <td>NaN</td>\n",
              "      <td>NaN</td>\n",
              "      <td>NaN</td>\n",
              "      <td>NaN</td>\n",
              "      <td>NaN</td>\n",
              "      <td>NaN</td>\n",
              "      <td>NaN</td>\n",
              "      <td>NaN</td>\n",
              "      <td>...</td>\n",
              "      <td>NaN</td>\n",
              "      <td>NaN</td>\n",
              "      <td>NaN</td>\n",
              "      <td>NaN</td>\n",
              "      <td>NaN</td>\n",
              "      <td>NaN</td>\n",
              "      <td>NaN</td>\n",
              "      <td>NaN</td>\n",
              "      <td>NaN</td>\n",
              "      <td>NaN</td>\n",
              "    </tr>\n",
              "    <tr>\n",
              "      <th>...</th>\n",
              "      <td>...</td>\n",
              "      <td>...</td>\n",
              "      <td>...</td>\n",
              "      <td>...</td>\n",
              "      <td>...</td>\n",
              "      <td>...</td>\n",
              "      <td>...</td>\n",
              "      <td>...</td>\n",
              "      <td>...</td>\n",
              "      <td>...</td>\n",
              "      <td>...</td>\n",
              "      <td>...</td>\n",
              "      <td>...</td>\n",
              "      <td>...</td>\n",
              "      <td>...</td>\n",
              "      <td>...</td>\n",
              "      <td>...</td>\n",
              "      <td>...</td>\n",
              "      <td>...</td>\n",
              "      <td>...</td>\n",
              "      <td>...</td>\n",
              "    </tr>\n",
              "    <tr>\n",
              "      <th>844</th>\n",
              "      <td>2023-05-18</td>\n",
              "      <td>1.574784e+07</td>\n",
              "      <td>1.261788e+06</td>\n",
              "      <td>1.208312</td>\n",
              "      <td>0.858572</td>\n",
              "      <td>0.468732</td>\n",
              "      <td>0.523887</td>\n",
              "      <td>0.522756</td>\n",
              "      <td>0.492238</td>\n",
              "      <td>0.490626</td>\n",
              "      <td>...</td>\n",
              "      <td>NaN</td>\n",
              "      <td>NaN</td>\n",
              "      <td>NaN</td>\n",
              "      <td>NaN</td>\n",
              "      <td>NaN</td>\n",
              "      <td>NaN</td>\n",
              "      <td>NaN</td>\n",
              "      <td>NaN</td>\n",
              "      <td>NaN</td>\n",
              "      <td>NaN</td>\n",
              "    </tr>\n",
              "  </tbody>\n",
              "</table>\n",
              "<p>845 rows × 275 columns</p>\n",
              "</div>\n",
              "      <button class=\"colab-df-convert\" onclick=\"convertToInteractive('df-018cdbc2-34e3-4b54-9b67-c81e8ebe1468')\"\n",
              "              title=\"Convert this dataframe to an interactive table.\"\n",
              "              style=\"display:none;\">\n",
              "        \n",
              "  <svg xmlns=\"http://www.w3.org/2000/svg\" height=\"24px\"viewBox=\"0 0 24 24\"\n",
              "       width=\"24px\">\n",
              "    <path d=\"M0 0h24v24H0V0z\" fill=\"none\"/>\n",
              "    <path d=\"M18.56 5.44l.94 2.06.94-2.06 2.06-.94-2.06-.94-.94-2.06-.94 2.06-2.06.94zm-11 1L8.5 8.5l.94-2.06 2.06-.94-2.06-.94L8.5 2.5l-.94 2.06-2.06.94zm10 10l.94 2.06.94-2.06 2.06-.94-2.06-.94-.94-2.06-.94 2.06-2.06.94z\"/><path d=\"M17.41 7.96l-1.37-1.37c-.4-.4-.92-.59-1.43-.59-.52 0-1.04.2-1.43.59L10.3 9.45l-7.72 7.72c-.78.78-.78 2.05 0 2.83L4 21.41c.39.39.9.59 1.41.59.51 0 1.02-.2 1.41-.59l7.78-7.78 2.81-2.81c.8-.78.8-2.07 0-2.86zM5.41 20L4 18.59l7.72-7.72 1.47 1.35L5.41 20z\"/>\n",
              "  </svg>\n",
              "      </button>\n",
              "      \n",
              "  <style>\n",
              "    .colab-df-container {\n",
              "      display:flex;\n",
              "      flex-wrap:wrap;\n",
              "      gap: 12px;\n",
              "    }\n",
              "\n",
              "    .colab-df-convert {\n",
              "      background-color: #E8F0FE;\n",
              "      border: none;\n",
              "      border-radius: 50%;\n",
              "      cursor: pointer;\n",
              "      display: none;\n",
              "      fill: #1967D2;\n",
              "      height: 32px;\n",
              "      padding: 0 0 0 0;\n",
              "      width: 32px;\n",
              "    }\n",
              "\n",
              "    .colab-df-convert:hover {\n",
              "      background-color: #E2EBFA;\n",
              "      box-shadow: 0px 1px 2px rgba(60, 64, 67, 0.3), 0px 1px 3px 1px rgba(60, 64, 67, 0.15);\n",
              "      fill: #174EA6;\n",
              "    }\n",
              "\n",
              "    [theme=dark] .colab-df-convert {\n",
              "      background-color: #3B4455;\n",
              "      fill: #D2E3FC;\n",
              "    }\n",
              "\n",
              "    [theme=dark] .colab-df-convert:hover {\n",
              "      background-color: #434B5C;\n",
              "      box-shadow: 0px 1px 3px 1px rgba(0, 0, 0, 0.15);\n",
              "      filter: drop-shadow(0px 1px 2px rgba(0, 0, 0, 0.3));\n",
              "      fill: #FFFFFF;\n",
              "    }\n",
              "  </style>\n",
              "\n",
              "      <script>\n",
              "        const buttonEl =\n",
              "          document.querySelector('#df-018cdbc2-34e3-4b54-9b67-c81e8ebe1468 button.colab-df-convert');\n",
              "        buttonEl.style.display =\n",
              "          google.colab.kernel.accessAllowed ? 'block' : 'none';\n",
              "\n",
              "        async function convertToInteractive(key) {\n",
              "          const element = document.querySelector('#df-018cdbc2-34e3-4b54-9b67-c81e8ebe1468');\n",
              "          const dataTable =\n",
              "            await google.colab.kernel.invokeFunction('convertToInteractive',\n",
              "                                                     [key], {});\n",
              "          if (!dataTable) return;\n",
              "\n",
              "          const docLinkHtml = 'Like what you see? Visit the ' +\n",
              "            '<a target=\"_blank\" href=https://colab.research.google.com/notebooks/data_table.ipynb>data table notebook</a>'\n",
              "            + ' to learn more about interactive tables.';\n",
              "          element.innerHTML = '';\n",
              "          dataTable['output_type'] = 'display_data';\n",
              "          await google.colab.output.renderOutput(dataTable, element);\n",
              "          const docLink = document.createElement('div');\n",
              "          docLink.innerHTML = docLinkHtml;\n",
              "          element.appendChild(docLink);\n",
              "        }\n",
              "      </script>\n",
              "    </div>\n",
              "  </div>\n",
              "  "
            ]
          },
          "metadata": {},
          "execution_count": 62
        }
      ]
    },
    {
      "cell_type": "markdown",
      "source": [
        "###Stock weight method"
      ],
      "metadata": {
        "id": "pV33f-nEZuTH"
      }
    },
    {
      "cell_type": "markdown",
      "source": [
        "####Test script"
      ],
      "metadata": {
        "id": "viB0FT_9D2f4"
      }
    },
    {
      "cell_type": "markdown",
      "source": [
        "Functions"
      ],
      "metadata": {
        "id": "UDC2Mz7SFA7q"
      }
    },
    {
      "cell_type": "code",
      "source": [
        "\"\"\"Volatility finction\"\"\"\n",
        "\n",
        "def volatility(ts)\n",
        "\n",
        "return\n",
        "\n",
        "\n",
        "\n",
        "df['vola'] = df['a'].rolling(window=2).std()"
      ],
      "metadata": {
        "id": "4q4i3q_6FKV6"
      },
      "execution_count": null,
      "outputs": []
    },
    {
      "cell_type": "markdown",
      "source": [
        "Writing files to disc"
      ],
      "metadata": {
        "id": "A7DmIZ0NFFX4"
      }
    },
    {
      "cell_type": "code",
      "source": [
        "import os\n",
        "import pandas as pd\n",
        "directory = '/content/Stocks_final2/'\n",
        "ext = ('.csv')\n",
        "\n",
        "for filename in os.listdir(directory):\n",
        "    f = os.path.join(directory, filename)\n",
        "\n",
        "    if f.endswith(ext):\n",
        "\n",
        "            head_tail = os.path.split(f)\n",
        "            head_tail1 = '/content/Stocks_final3/'\n",
        "            k =head_tail[1]\n",
        "            r=k.split(\".\")[0]\n",
        "\n",
        "            p=head_tail1 + \"/\" + r + \".JO.csv\"\n",
        "\n",
        "            mydata = pd.read_csv(f)\n",
        "\n",
        "            resetindex = mydata.reset_index(inplace = True)\n",
        "\n",
        "            mydata = mydata.rename(columns={'index': 'date'}, index=None)\n",
        "\n",
        "            mydata['date'] =  pd.to_datetime(mydata['date']).dt.strftime('%Y-%m-%d')\n",
        "\n",
        "            mydata.set_index('date', inplace=True)\n",
        "\n",
        "            new =mydata[[\"open\",\"high\",\"low\",\"close\",\"volume\"]]\n",
        "\n",
        "            no_outlier_prices = new[(np.abs(stats.zscore(new,nan_policy='omit')) <3).all(axis=1)]\n",
        "\"\"\"\n",
        "            #Reset index again to change the index name\n",
        "            no_outlier_prices.reset_index(inplace = True)\n",
        "\n",
        "            #Rename index column to 'date'\n",
        "            no_outlier_prices = no_outlier_prices.rename(columns={'trading_date': 'date'}, index=None)\n",
        "\n",
        "            Change date format to Year-Month-Day\n",
        "            no_outlier_prices['date'] =  pd.to_datetime(no_outlier_prices['date']).dt.strftime('%Y-%m-%d')\n",
        "\n",
        "            no_outlier_prices = no_outlier_prices.drop(['index'], axis=1)\n",
        "            no_outlier_prices.set_index('date', inplace=True)"
      ],
      "metadata": {
        "id": "v9RHjYRsD8Tw"
      },
      "execution_count": null,
      "outputs": []
    },
    {
      "cell_type": "markdown",
      "source": [
        "Load file from disc"
      ],
      "metadata": {
        "id": "Lf4RxcpSExbP"
      }
    },
    {
      "cell_type": "code",
      "source": [
        "import numpy as np\n",
        "import pandas as pd\n",
        "from scipy import stats\n",
        "import seaborn as sns"
      ],
      "metadata": {
        "id": "yPm2HGfopBS7"
      },
      "execution_count": null,
      "outputs": []
    },
    {
      "cell_type": "code",
      "source": [
        "df = pd.read_csv('/content/Stocks_final/TTO.JO.csv',parse_dates=True, index_col=0).drop(['symbol'], axis=1)"
      ],
      "metadata": {
        "id": "ET7DE7PZqRqQ"
      },
      "execution_count": null,
      "outputs": []
    },
    {
      "cell_type": "code",
      "source": [
        "pd.set_option('display.max_rows', None)\n",
        "df.describe()"
      ],
      "metadata": {
        "id": "V0voyZ_GqnHY"
      },
      "execution_count": null,
      "outputs": []
    },
    {
      "cell_type": "code",
      "source": [
        "sns.displot(data=df, x=\"close\", kde=True)"
      ],
      "metadata": {
        "id": "WljYbgVIr--f"
      },
      "execution_count": null,
      "outputs": []
    },
    {
      "cell_type": "code",
      "source": [
        "df['close_stats']= stats.zscore(df['close'])\n",
        "\n",
        "df[['close', 'close_stats']].describe().round(3)"
      ],
      "metadata": {
        "id": "K4bjctt7tkit"
      },
      "execution_count": null,
      "outputs": []
    },
    {
      "cell_type": "code",
      "source": [
        "def find_outliers(col):\n",
        "    z = np.abs(stats.zscore(col))\n",
        "    idx_outliers = np.where(z>3,True,False)\n",
        "    return pd.Series(idx_outliers, index=col.index)"
      ],
      "metadata": {
        "id": "lsH5GLnRxYi1"
      },
      "execution_count": null,
      "outputs": []
    },
    {
      "cell_type": "code",
      "source": [
        "idx = find_outliers(df['close'])"
      ],
      "metadata": {
        "id": "OMUdDDU_zBlS"
      },
      "execution_count": null,
      "outputs": []
    },
    {
      "cell_type": "code",
      "source": [
        "idx.head()"
      ],
      "metadata": {
        "id": "J1LOOb60zeWu"
      },
      "execution_count": null,
      "outputs": []
    },
    {
      "cell_type": "code",
      "source": [
        "display(df.loc[idx==False].describe().round(3))\n",
        "df=df.loc[idx==False]"
      ],
      "metadata": {
        "id": "_Rpl2IZo1Jgb"
      },
      "execution_count": null,
      "outputs": []
    },
    {
      "cell_type": "code",
      "source": [
        "df"
      ],
      "metadata": {
        "id": "agjCwGZmIuK7"
      },
      "execution_count": null,
      "outputs": []
    },
    {
      "cell_type": "code",
      "source": [
        "df_outliers = pd.DataFrame(data=df)\n",
        "for col in df.describe().columns:\n",
        "    df_outliers[col] = find_outliers(df[col])\n",
        "\n",
        "df_outliers.head()"
      ],
      "metadata": {
        "id": "tdg_z0Ji3IcF"
      },
      "execution_count": null,
      "outputs": []
    },
    {
      "cell_type": "code",
      "source": [
        "test_outs = df_outliers.apply(lambda x: np.any(x), axis=1)"
      ],
      "metadata": {
        "id": "fbkQGKmn9pYl"
      },
      "execution_count": null,
      "outputs": []
    },
    {
      "cell_type": "code",
      "source": [
        "print(len(test_outs),df_outliers.shape)\n",
        "test_outs"
      ],
      "metadata": {
        "id": "xfmqQ1FM-jr1"
      },
      "execution_count": null,
      "outputs": []
    },
    {
      "cell_type": "code",
      "source": [
        "np.sum(test_outs)"
      ],
      "metadata": {
        "id": "CNxMNVWk_Flx"
      },
      "execution_count": null,
      "outputs": []
    },
    {
      "cell_type": "code",
      "source": [
        "df_clean = df.loc[test_outs==False]\n",
        "df_clean.describe()"
      ],
      "metadata": {
        "id": "Kgv1fvpk_foX"
      },
      "execution_count": null,
      "outputs": []
    },
    {
      "cell_type": "code",
      "source": [
        "print(df_clean)"
      ],
      "metadata": {
        "id": "GO4yrKZxA3oG"
      },
      "execution_count": null,
      "outputs": []
    }
  ]
}